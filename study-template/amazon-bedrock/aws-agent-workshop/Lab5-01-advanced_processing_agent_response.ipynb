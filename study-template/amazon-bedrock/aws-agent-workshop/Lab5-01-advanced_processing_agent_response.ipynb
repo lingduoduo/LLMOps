{
 "cells": [
  {
   "cell_type": "markdown",
   "metadata": {
    "collapsed": false,
    "jupyter": {
     "outputs_hidden": false
    },
    "pycharm": {
     "name": "#%% md\n"
    }
   },
   "source": [
    "# Advanced processing of Strands Agents Response"
   ]
  },
  {
   "cell_type": "markdown",
   "metadata": {},
   "source": [
    "Strands Agents allows you to intercept and process events as they happen during agent execution using two methods: \n",
    "    \n",
    "- **Async iterators**: ideal for asynchronous frameworks like FastAPI, aiohttp, or Django Channels. For these environments, the SDK offers the `stream_async` method which returns an asynchronous iterator. \n",
    "- **Callback handlers**: allow you to intercept and process events as they happen during agent execution. This enables real-time monitoring, custom output formatting, and integration with external systems.\n",
    "\n",
    "In this example, we will show you how to use both methods to handle calls on your agent\n",
    "\n",
    "\n",
    "## Agent Details\n",
    "<div style=\"float: left; margin-right: 20px; \">\n",
    "    \n",
    "|Feature             |Description                                        |\n",
    "|--------------------|---------------------------------------------------|\n",
    "|Feature used        |async iterators, callback handlers                 |\n",
    "|Agent Structure     |single agent architecture                          |\n",
    "|Native tools used   |calculator                                         |\n",
    "|Custom tools created|Weather forecast                                   |\n",
    "\n",
    "</div>"
   ]
  },
  {
   "cell_type": "markdown",
   "metadata": {},
   "source": [
    "## Architecture\n",
    "\n",
    "<div style=\"text-align:left;\">\n",
    "    <img src=\"images/architecture.png\" width=\"65%\" />\n",
    "</div>\n",
    "\n",
    "## Key Features\n",
    "* Async Iterators for Streaming\n",
    "* Callback Handlers\n",
    "\n",
    "\n",
    "## Setup and prerequisites\n",
    "\n",
    "### Prerequisites\n",
    "* Python 3.10+\n",
    "* AWS account\n",
    "* Anthropic Claude 3.7 enabled on Amazon Bedrock\n",
    "\n",
    "Let's now install the requirement packages for our Strands Agent Agent"
   ]
  },
  {
   "cell_type": "code",
   "execution_count": 1,
   "metadata": {
    "execution": {
     "iopub.execute_input": "2025-07-30T20:39:55.534138Z",
     "iopub.status.busy": "2025-07-30T20:39:55.533831Z",
     "iopub.status.idle": "2025-07-30T20:39:57.109179Z",
     "shell.execute_reply": "2025-07-30T20:39:57.108594Z",
     "shell.execute_reply.started": "2025-07-30T20:39:55.534116Z"
    }
   },
   "outputs": [
    {
     "name": "stdout",
     "output_type": "stream",
     "text": [
      "Requirement already satisfied: fastapi in /opt/conda/lib/python3.12/site-packages (from -r requirements.txt (line 1)) (0.115.14)\n",
      "Requirement already satisfied: uv in /opt/conda/lib/python3.12/site-packages (from -r requirements.txt (line 2)) (0.8.4)\n",
      "Requirement already satisfied: strands-agents in /opt/conda/lib/python3.12/site-packages (from -r requirements.txt (line 3)) (1.2.0)\n",
      "Requirement already satisfied: strands-agents-tools in /opt/conda/lib/python3.12/site-packages (from -r requirements.txt (line 4)) (0.2.0)\n",
      "Requirement already satisfied: uvicorn in /opt/conda/lib/python3.12/site-packages (from -r requirements.txt (line 5)) (0.35.0)\n",
      "Requirement already satisfied: pydantic in /opt/conda/lib/python3.12/site-packages (from -r requirements.txt (line 6)) (2.11.7)\n",
      "Requirement already satisfied: nest_asyncio in /opt/conda/lib/python3.12/site-packages (from -r requirements.txt (line 7)) (1.6.0)\n",
      "Requirement already satisfied: starlette<0.47.0,>=0.40.0 in /opt/conda/lib/python3.12/site-packages (from fastapi->-r requirements.txt (line 1)) (0.46.2)\n",
      "Requirement already satisfied: typing-extensions>=4.8.0 in /opt/conda/lib/python3.12/site-packages (from fastapi->-r requirements.txt (line 1)) (4.14.1)\n",
      "Requirement already satisfied: annotated-types>=0.6.0 in /opt/conda/lib/python3.12/site-packages (from pydantic->-r requirements.txt (line 6)) (0.7.0)\n",
      "Requirement already satisfied: pydantic-core==2.33.2 in /opt/conda/lib/python3.12/site-packages (from pydantic->-r requirements.txt (line 6)) (2.33.2)\n",
      "Requirement already satisfied: typing-inspection>=0.4.0 in /opt/conda/lib/python3.12/site-packages (from pydantic->-r requirements.txt (line 6)) (0.4.1)\n",
      "Requirement already satisfied: anyio<5,>=3.6.2 in /opt/conda/lib/python3.12/site-packages (from starlette<0.47.0,>=0.40.0->fastapi->-r requirements.txt (line 1)) (4.9.0)\n",
      "Requirement already satisfied: idna>=2.8 in /opt/conda/lib/python3.12/site-packages (from anyio<5,>=3.6.2->starlette<0.47.0,>=0.40.0->fastapi->-r requirements.txt (line 1)) (3.10)\n",
      "Requirement already satisfied: sniffio>=1.1 in /opt/conda/lib/python3.12/site-packages (from anyio<5,>=3.6.2->starlette<0.47.0,>=0.40.0->fastapi->-r requirements.txt (line 1)) (1.3.1)\n",
      "Requirement already satisfied: boto3<2.0.0,>=1.26.0 in /opt/conda/lib/python3.12/site-packages (from strands-agents->-r requirements.txt (line 3)) (1.37.1)\n",
      "Requirement already satisfied: botocore<2.0.0,>=1.29.0 in /opt/conda/lib/python3.12/site-packages (from strands-agents->-r requirements.txt (line 3)) (1.37.38)\n",
      "Requirement already satisfied: docstring-parser<1.0,>=0.15 in /opt/conda/lib/python3.12/site-packages (from strands-agents->-r requirements.txt (line 3)) (0.17.0)\n",
      "Requirement already satisfied: mcp<2.0.0,>=1.11.0 in /opt/conda/lib/python3.12/site-packages (from strands-agents->-r requirements.txt (line 3)) (1.12.2)\n",
      "Requirement already satisfied: opentelemetry-api<2.0.0,>=1.30.0 in /opt/conda/lib/python3.12/site-packages (from strands-agents->-r requirements.txt (line 3)) (1.36.0)\n",
      "Requirement already satisfied: opentelemetry-instrumentation-threading<1.00b0,>=0.51b0 in /opt/conda/lib/python3.12/site-packages (from strands-agents->-r requirements.txt (line 3)) (0.57b0)\n",
      "Requirement already satisfied: opentelemetry-sdk<2.0.0,>=1.30.0 in /opt/conda/lib/python3.12/site-packages (from strands-agents->-r requirements.txt (line 3)) (1.36.0)\n",
      "Requirement already satisfied: watchdog<7.0.0,>=6.0.0 in /opt/conda/lib/python3.12/site-packages (from strands-agents->-r requirements.txt (line 3)) (6.0.0)\n",
      "Requirement already satisfied: jmespath<2.0.0,>=0.7.1 in /opt/conda/lib/python3.12/site-packages (from boto3<2.0.0,>=1.26.0->strands-agents->-r requirements.txt (line 3)) (1.0.1)\n",
      "Requirement already satisfied: s3transfer<0.12.0,>=0.11.0 in /opt/conda/lib/python3.12/site-packages (from boto3<2.0.0,>=1.26.0->strands-agents->-r requirements.txt (line 3)) (0.11.3)\n",
      "Requirement already satisfied: python-dateutil<3.0.0,>=2.1 in /opt/conda/lib/python3.12/site-packages (from botocore<2.0.0,>=1.29.0->strands-agents->-r requirements.txt (line 3)) (2.9.0.post0)\n",
      "Requirement already satisfied: urllib3!=2.2.0,<3,>=1.25.4 in /opt/conda/lib/python3.12/site-packages (from botocore<2.0.0,>=1.29.0->strands-agents->-r requirements.txt (line 3)) (1.26.19)\n",
      "Requirement already satisfied: httpx-sse>=0.4 in /opt/conda/lib/python3.12/site-packages (from mcp<2.0.0,>=1.11.0->strands-agents->-r requirements.txt (line 3)) (0.4.1)\n",
      "Requirement already satisfied: httpx>=0.27 in /opt/conda/lib/python3.12/site-packages (from mcp<2.0.0,>=1.11.0->strands-agents->-r requirements.txt (line 3)) (0.28.1)\n",
      "Requirement already satisfied: jsonschema>=4.20.0 in /opt/conda/lib/python3.12/site-packages (from mcp<2.0.0,>=1.11.0->strands-agents->-r requirements.txt (line 3)) (4.23.0)\n",
      "Requirement already satisfied: pydantic-settings>=2.5.2 in /opt/conda/lib/python3.12/site-packages (from mcp<2.0.0,>=1.11.0->strands-agents->-r requirements.txt (line 3)) (2.10.1)\n",
      "Requirement already satisfied: python-multipart>=0.0.9 in /opt/conda/lib/python3.12/site-packages (from mcp<2.0.0,>=1.11.0->strands-agents->-r requirements.txt (line 3)) (0.0.20)\n",
      "Requirement already satisfied: sse-starlette>=1.6.1 in /opt/conda/lib/python3.12/site-packages (from mcp<2.0.0,>=1.11.0->strands-agents->-r requirements.txt (line 3)) (3.0.2)\n",
      "Requirement already satisfied: importlib-metadata<8.8.0,>=6.0 in /opt/conda/lib/python3.12/site-packages (from opentelemetry-api<2.0.0,>=1.30.0->strands-agents->-r requirements.txt (line 3)) (6.10.0)\n",
      "Requirement already satisfied: zipp>=0.5 in /opt/conda/lib/python3.12/site-packages (from importlib-metadata<8.8.0,>=6.0->opentelemetry-api<2.0.0,>=1.30.0->strands-agents->-r requirements.txt (line 3)) (3.23.0)\n",
      "Requirement already satisfied: opentelemetry-instrumentation==0.57b0 in /opt/conda/lib/python3.12/site-packages (from opentelemetry-instrumentation-threading<1.00b0,>=0.51b0->strands-agents->-r requirements.txt (line 3)) (0.57b0)\n",
      "Requirement already satisfied: wrapt<2.0.0,>=1.0.0 in /opt/conda/lib/python3.12/site-packages (from opentelemetry-instrumentation-threading<1.00b0,>=0.51b0->strands-agents->-r requirements.txt (line 3)) (1.17.2)\n",
      "Requirement already satisfied: opentelemetry-semantic-conventions==0.57b0 in /opt/conda/lib/python3.12/site-packages (from opentelemetry-instrumentation==0.57b0->opentelemetry-instrumentation-threading<1.00b0,>=0.51b0->strands-agents->-r requirements.txt (line 3)) (0.57b0)\n",
      "Requirement already satisfied: packaging>=18.0 in /opt/conda/lib/python3.12/site-packages (from opentelemetry-instrumentation==0.57b0->opentelemetry-instrumentation-threading<1.00b0,>=0.51b0->strands-agents->-r requirements.txt (line 3)) (24.2)\n",
      "Requirement already satisfied: six>=1.5 in /opt/conda/lib/python3.12/site-packages (from python-dateutil<3.0.0,>=2.1->botocore<2.0.0,>=1.29.0->strands-agents->-r requirements.txt (line 3)) (1.17.0)\n",
      "Requirement already satisfied: aws-requests-auth<0.5.0,>=0.4.3 in /opt/conda/lib/python3.12/site-packages (from strands-agents-tools->-r requirements.txt (line 4)) (0.4.3)\n",
      "Requirement already satisfied: dill<0.5.0,>=0.4.0 in /opt/conda/lib/python3.12/site-packages (from strands-agents-tools->-r requirements.txt (line 4)) (0.4.0)\n",
      "Requirement already satisfied: markdownify<2.0.0,>=1.0.0 in /opt/conda/lib/python3.12/site-packages (from strands-agents-tools->-r requirements.txt (line 4)) (1.1.0)\n",
      "Requirement already satisfied: pillow<12.0.0,>=11.2.1 in /opt/conda/lib/python3.12/site-packages (from strands-agents-tools->-r requirements.txt (line 4)) (11.3.0)\n",
      "Requirement already satisfied: prompt-toolkit<4.0.0,>=3.0.51 in /opt/conda/lib/python3.12/site-packages (from strands-agents-tools->-r requirements.txt (line 4)) (3.0.51)\n",
      "Requirement already satisfied: pyjwt<3.0.0,>=2.10.1 in /opt/conda/lib/python3.12/site-packages (from strands-agents-tools->-r requirements.txt (line 4)) (2.10.1)\n",
      "Requirement already satisfied: readabilipy<1.0.0,>=0.2.0 in /opt/conda/lib/python3.12/site-packages (from strands-agents-tools->-r requirements.txt (line 4)) (0.3.0)\n",
      "Requirement already satisfied: rich<15.0.0,>=14.0.0 in /opt/conda/lib/python3.12/site-packages (from strands-agents-tools->-r requirements.txt (line 4)) (14.1.0)\n",
      "Requirement already satisfied: slack-bolt<2.0.0,>=1.23.0 in /opt/conda/lib/python3.12/site-packages (from strands-agents-tools->-r requirements.txt (line 4)) (1.23.0)\n",
      "Requirement already satisfied: sympy<2.0.0,>=1.12.0 in /opt/conda/lib/python3.12/site-packages (from strands-agents-tools->-r requirements.txt (line 4)) (1.14.0)\n",
      "Requirement already satisfied: tenacity<10.0.0,>=9.1.2 in /opt/conda/lib/python3.12/site-packages (from strands-agents-tools->-r requirements.txt (line 4)) (9.1.2)\n",
      "Requirement already satisfied: requests>=0.14.0 in /opt/conda/lib/python3.12/site-packages (from aws-requests-auth<0.5.0,>=0.4.3->strands-agents-tools->-r requirements.txt (line 4)) (2.32.4)\n",
      "Requirement already satisfied: beautifulsoup4<5,>=4.9 in /opt/conda/lib/python3.12/site-packages (from markdownify<2.0.0,>=1.0.0->strands-agents-tools->-r requirements.txt (line 4)) (4.13.4)\n",
      "Requirement already satisfied: soupsieve>1.2 in /opt/conda/lib/python3.12/site-packages (from beautifulsoup4<5,>=4.9->markdownify<2.0.0,>=1.0.0->strands-agents-tools->-r requirements.txt (line 4)) (2.7)\n",
      "Requirement already satisfied: wcwidth in /opt/conda/lib/python3.12/site-packages (from prompt-toolkit<4.0.0,>=3.0.51->strands-agents-tools->-r requirements.txt (line 4)) (0.2.13)\n",
      "Requirement already satisfied: html5lib in /opt/conda/lib/python3.12/site-packages (from readabilipy<1.0.0,>=0.2.0->strands-agents-tools->-r requirements.txt (line 4)) (1.1)\n",
      "Requirement already satisfied: lxml in /opt/conda/lib/python3.12/site-packages (from readabilipy<1.0.0,>=0.2.0->strands-agents-tools->-r requirements.txt (line 4)) (5.4.0)\n",
      "Requirement already satisfied: regex in /opt/conda/lib/python3.12/site-packages (from readabilipy<1.0.0,>=0.2.0->strands-agents-tools->-r requirements.txt (line 4)) (2024.11.6)\n",
      "Requirement already satisfied: markdown-it-py>=2.2.0 in /opt/conda/lib/python3.12/site-packages (from rich<15.0.0,>=14.0.0->strands-agents-tools->-r requirements.txt (line 4)) (3.0.0)\n",
      "Requirement already satisfied: pygments<3.0.0,>=2.13.0 in /opt/conda/lib/python3.12/site-packages (from rich<15.0.0,>=14.0.0->strands-agents-tools->-r requirements.txt (line 4)) (2.19.2)\n",
      "Requirement already satisfied: slack_sdk<4,>=3.35.0 in /opt/conda/lib/python3.12/site-packages (from slack-bolt<2.0.0,>=1.23.0->strands-agents-tools->-r requirements.txt (line 4)) (3.36.0)\n",
      "Requirement already satisfied: mpmath<1.4,>=1.1.0 in /opt/conda/lib/python3.12/site-packages (from sympy<2.0.0,>=1.12.0->strands-agents-tools->-r requirements.txt (line 4)) (1.3.0)\n",
      "Requirement already satisfied: click>=7.0 in /opt/conda/lib/python3.12/site-packages (from uvicorn->-r requirements.txt (line 5)) (8.2.1)\n",
      "Requirement already satisfied: h11>=0.8 in /opt/conda/lib/python3.12/site-packages (from uvicorn->-r requirements.txt (line 5)) (0.16.0)\n",
      "Requirement already satisfied: certifi in /opt/conda/lib/python3.12/site-packages (from httpx>=0.27->mcp<2.0.0,>=1.11.0->strands-agents->-r requirements.txt (line 3)) (2025.6.15)\n",
      "Requirement already satisfied: httpcore==1.* in /opt/conda/lib/python3.12/site-packages (from httpx>=0.27->mcp<2.0.0,>=1.11.0->strands-agents->-r requirements.txt (line 3)) (1.0.9)\n",
      "Requirement already satisfied: attrs>=22.2.0 in /opt/conda/lib/python3.12/site-packages (from jsonschema>=4.20.0->mcp<2.0.0,>=1.11.0->strands-agents->-r requirements.txt (line 3)) (23.2.0)\n",
      "Requirement already satisfied: jsonschema-specifications>=2023.03.6 in /opt/conda/lib/python3.12/site-packages (from jsonschema>=4.20.0->mcp<2.0.0,>=1.11.0->strands-agents->-r requirements.txt (line 3)) (2025.4.1)\n",
      "Requirement already satisfied: referencing>=0.28.4 in /opt/conda/lib/python3.12/site-packages (from jsonschema>=4.20.0->mcp<2.0.0,>=1.11.0->strands-agents->-r requirements.txt (line 3)) (0.36.2)\n",
      "Requirement already satisfied: rpds-py>=0.7.1 in /opt/conda/lib/python3.12/site-packages (from jsonschema>=4.20.0->mcp<2.0.0,>=1.11.0->strands-agents->-r requirements.txt (line 3)) (0.26.0)\n",
      "Requirement already satisfied: mdurl~=0.1 in /opt/conda/lib/python3.12/site-packages (from markdown-it-py>=2.2.0->rich<15.0.0,>=14.0.0->strands-agents-tools->-r requirements.txt (line 4)) (0.1.2)\n",
      "Requirement already satisfied: python-dotenv>=0.21.0 in /opt/conda/lib/python3.12/site-packages (from pydantic-settings>=2.5.2->mcp<2.0.0,>=1.11.0->strands-agents->-r requirements.txt (line 3)) (1.1.1)\n",
      "Requirement already satisfied: charset_normalizer<4,>=2 in /opt/conda/lib/python3.12/site-packages (from requests>=0.14.0->aws-requests-auth<0.5.0,>=0.4.3->strands-agents-tools->-r requirements.txt (line 4)) (3.4.2)\n",
      "Requirement already satisfied: webencodings in /opt/conda/lib/python3.12/site-packages (from html5lib->readabilipy<1.0.0,>=0.2.0->strands-agents-tools->-r requirements.txt (line 4)) (0.5.1)\n"
     ]
    }
   ],
   "source": [
    "# installing pre-requisites\n",
    "!pip install -r requirements.txt"
   ]
  },
  {
   "cell_type": "markdown",
   "metadata": {},
   "source": [
    "### Importing dependency packages\n",
    "\n",
    "Now let's import the dependency packages"
   ]
  },
  {
   "cell_type": "code",
   "execution_count": 2,
   "metadata": {
    "execution": {
     "iopub.execute_input": "2025-07-30T20:39:57.110518Z",
     "iopub.status.busy": "2025-07-30T20:39:57.110250Z",
     "iopub.status.idle": "2025-07-30T20:39:58.088137Z",
     "shell.execute_reply": "2025-07-30T20:39:58.087633Z",
     "shell.execute_reply.started": "2025-07-30T20:39:57.110491Z"
    }
   },
   "outputs": [],
   "source": [
    "import asyncio\n",
    "\n",
    "import httpx\n",
    "import nest_asyncio\n",
    "import uvicorn\n",
    "from fastapi import FastAPI\n",
    "from fastapi.responses import StreamingResponse\n",
    "from pydantic import BaseModel\n",
    "from strands import Agent, tool\n",
    "from strands_tools import calculator"
   ]
  },
  {
   "cell_type": "markdown",
   "metadata": {},
   "source": [
    "## Method 1 - Async Iterators for Streaming\n"
   ]
  },
  {
   "cell_type": "markdown",
   "metadata": {},
   "source": [
    "Strands Agents provides support for asynchronous iterators through the `stream_async` method, enabling real-time streaming of agent responses in asynchronous environments like web servers, APIs, and other async applications.\n",
    "\n",
    "Since we are show casing this example in a notebook, we need to apply `nest_asyncio` to allow nested use of `asyncio.run` and `loop.run_until_complete`"
   ]
  },
  {
   "cell_type": "code",
   "execution_count": 3,
   "metadata": {
    "execution": {
     "iopub.execute_input": "2025-07-30T20:39:58.089049Z",
     "iopub.status.busy": "2025-07-30T20:39:58.088714Z",
     "iopub.status.idle": "2025-07-30T20:39:58.091975Z",
     "shell.execute_reply": "2025-07-30T20:39:58.091455Z",
     "shell.execute_reply.started": "2025-07-30T20:39:58.089030Z"
    }
   },
   "outputs": [],
   "source": [
    "nest_asyncio.apply()"
   ]
  },
  {
   "cell_type": "markdown",
   "metadata": {},
   "source": [
    "### Creating and invoking agent with stream_async\n",
    "\n",
    "Let's now create our agent with a built-in calculator tool and no `callback_handler`. We will use the `stream_async` method to iteract over the streamed agent events"
   ]
  },
  {
   "cell_type": "code",
   "execution_count": 4,
   "metadata": {
    "execution": {
     "iopub.execute_input": "2025-07-30T20:39:58.093192Z",
     "iopub.status.busy": "2025-07-30T20:39:58.092759Z",
     "iopub.status.idle": "2025-07-30T20:40:01.771644Z",
     "shell.execute_reply": "2025-07-30T20:40:01.771148Z",
     "shell.execute_reply.started": "2025-07-30T20:39:58.093176Z"
    }
   },
   "outputs": [
    {
     "name": "stdout",
     "output_type": "stream",
     "text": [
      "{'init_event_loop': True}\n",
      "{'start': True}\n",
      "{'start_event_loop': True}\n",
      "{'event': {'messageStart': {'role': 'assistant'}}}\n",
      "{'event': {'contentBlockDelta': {'delta': {'text': 'I'}, 'contentBlockIndex': 0}}}\n",
      "{'data': 'I', 'delta': {'text': 'I'}, 'agent': <strands.agent.agent.Agent object at 0x7f317c35bf80>, 'event_loop_cycle_id': UUID('74042420-a632-45a1-88f1-3522046daccc'), 'request_state': {}, 'event_loop_cycle_trace': <strands.telemetry.metrics.Trace object at 0x7f316eb98230>, 'event_loop_cycle_span': NonRecordingSpan(SpanContext(trace_id=0x00000000000000000000000000000000, span_id=0x0000000000000000, trace_flags=0x00, trace_state=[], is_remote=False))}\n",
      "{'event': {'contentBlockDelta': {'delta': {'text': \"'ll calculate this simple addition\"}, 'contentBlockIndex': 0}}}\n",
      "{'data': \"'ll calculate this simple addition\", 'delta': {'text': \"'ll calculate this simple addition\"}, 'agent': <strands.agent.agent.Agent object at 0x7f317c35bf80>, 'event_loop_cycle_id': UUID('74042420-a632-45a1-88f1-3522046daccc'), 'request_state': {}, 'event_loop_cycle_trace': <strands.telemetry.metrics.Trace object at 0x7f316eb98230>, 'event_loop_cycle_span': NonRecordingSpan(SpanContext(trace_id=0x00000000000000000000000000000000, span_id=0x0000000000000000, trace_flags=0x00, trace_state=[], is_remote=False))}\n",
      "{'event': {'contentBlockDelta': {'delta': {'text': ' for you using the calculator'}, 'contentBlockIndex': 0}}}\n",
      "{'data': ' for you using the calculator', 'delta': {'text': ' for you using the calculator'}, 'agent': <strands.agent.agent.Agent object at 0x7f317c35bf80>, 'event_loop_cycle_id': UUID('74042420-a632-45a1-88f1-3522046daccc'), 'request_state': {}, 'event_loop_cycle_trace': <strands.telemetry.metrics.Trace object at 0x7f316eb98230>, 'event_loop_cycle_span': NonRecordingSpan(SpanContext(trace_id=0x00000000000000000000000000000000, span_id=0x0000000000000000, trace_flags=0x00, trace_state=[], is_remote=False))}\n",
      "{'event': {'contentBlockDelta': {'delta': {'text': ' tool.'}, 'contentBlockIndex': 0}}}\n",
      "{'data': ' tool.', 'delta': {'text': ' tool.'}, 'agent': <strands.agent.agent.Agent object at 0x7f317c35bf80>, 'event_loop_cycle_id': UUID('74042420-a632-45a1-88f1-3522046daccc'), 'request_state': {}, 'event_loop_cycle_trace': <strands.telemetry.metrics.Trace object at 0x7f316eb98230>, 'event_loop_cycle_span': NonRecordingSpan(SpanContext(trace_id=0x00000000000000000000000000000000, span_id=0x0000000000000000, trace_flags=0x00, trace_state=[], is_remote=False))}\n",
      "{'event': {'contentBlockStop': {'contentBlockIndex': 0}}}\n",
      "{'event': {'contentBlockStart': {'start': {'toolUse': {'toolUseId': 'tooluse_mWZMCuDsSSmlZyXxAYn0oQ', 'name': 'calculator'}}, 'contentBlockIndex': 1}}}\n",
      "{'event': {'contentBlockDelta': {'delta': {'toolUse': {'input': ''}}, 'contentBlockIndex': 1}}}\n",
      "{'delta': {'toolUse': {'input': ''}}, 'current_tool_use': {'toolUseId': 'tooluse_mWZMCuDsSSmlZyXxAYn0oQ', 'name': 'calculator', 'input': ''}, 'agent': <strands.agent.agent.Agent object at 0x7f317c35bf80>, 'event_loop_cycle_id': UUID('74042420-a632-45a1-88f1-3522046daccc'), 'request_state': {}, 'event_loop_cycle_trace': <strands.telemetry.metrics.Trace object at 0x7f316eb98230>, 'event_loop_cycle_span': NonRecordingSpan(SpanContext(trace_id=0x00000000000000000000000000000000, span_id=0x0000000000000000, trace_flags=0x00, trace_state=[], is_remote=False))}\n",
      "{'event': {'contentBlockDelta': {'delta': {'toolUse': {'input': '{\"expressi'}}, 'contentBlockIndex': 1}}}\n",
      "{'delta': {'toolUse': {'input': '{\"expressi'}}, 'current_tool_use': {'toolUseId': 'tooluse_mWZMCuDsSSmlZyXxAYn0oQ', 'name': 'calculator', 'input': '{\"expressi'}, 'agent': <strands.agent.agent.Agent object at 0x7f317c35bf80>, 'event_loop_cycle_id': UUID('74042420-a632-45a1-88f1-3522046daccc'), 'request_state': {}, 'event_loop_cycle_trace': <strands.telemetry.metrics.Trace object at 0x7f316eb98230>, 'event_loop_cycle_span': NonRecordingSpan(SpanContext(trace_id=0x00000000000000000000000000000000, span_id=0x0000000000000000, trace_flags=0x00, trace_state=[], is_remote=False))}\n",
      "{'event': {'contentBlockDelta': {'delta': {'toolUse': {'input': 'on\": \"2+2\"}'}}, 'contentBlockIndex': 1}}}\n",
      "{'delta': {'toolUse': {'input': 'on\": \"2+2\"}'}}, 'current_tool_use': {'toolUseId': 'tooluse_mWZMCuDsSSmlZyXxAYn0oQ', 'name': 'calculator', 'input': '{\"expression\": \"2+2\"}'}, 'agent': <strands.agent.agent.Agent object at 0x7f317c35bf80>, 'event_loop_cycle_id': UUID('74042420-a632-45a1-88f1-3522046daccc'), 'request_state': {}, 'event_loop_cycle_trace': <strands.telemetry.metrics.Trace object at 0x7f316eb98230>, 'event_loop_cycle_span': NonRecordingSpan(SpanContext(trace_id=0x00000000000000000000000000000000, span_id=0x0000000000000000, trace_flags=0x00, trace_state=[], is_remote=False))}\n",
      "{'event': {'contentBlockStop': {'contentBlockIndex': 1}}}\n",
      "{'event': {'messageStop': {'stopReason': 'tool_use'}}}\n",
      "{'event': {'metadata': {'usage': {'inputTokens': 1947, 'outputTokens': 67, 'totalTokens': 2014}, 'metrics': {'latencyMs': 2092}}}}\n",
      "{'message': {'role': 'assistant', 'content': [{'text': \"I'll calculate this simple addition for you using the calculator tool.\"}, {'toolUse': {'toolUseId': 'tooluse_mWZMCuDsSSmlZyXxAYn0oQ', 'name': 'calculator', 'input': {'expression': '2+2'}}}]}}\n"
     ]
    },
    {
     "data": {
      "text/html": [
       "<pre style=\"white-space:pre;overflow-x:auto;line-height:normal;font-family:Menlo,'DejaVu Sans Mono',consolas,'Courier New',monospace\"><span style=\"color: #000080; text-decoration-color: #000080\">╭────────────────────────────────────────────── </span><span style=\"color: #000080; text-decoration-color: #000080; font-weight: bold\">Calculation Result</span><span style=\"color: #000080; text-decoration-color: #000080\"> ───────────────────────────────────────────────╮</span>\n",
       "<span style=\"color: #000080; text-decoration-color: #000080\">│</span>                                                                                                                 <span style=\"color: #000080; text-decoration-color: #000080\">│</span>\n",
       "<span style=\"color: #000080; text-decoration-color: #000080\">│</span>  ╭───────────┬─────────────────────╮                                                                            <span style=\"color: #000080; text-decoration-color: #000080\">│</span>\n",
       "<span style=\"color: #000080; text-decoration-color: #000080\">│</span>  │<span style=\"color: #008080; text-decoration-color: #008080\"> Operation </span>│<span style=\"color: #008000; text-decoration-color: #008000\"> Evaluate Expression </span>│                                                                            <span style=\"color: #000080; text-decoration-color: #000080\">│</span>\n",
       "<span style=\"color: #000080; text-decoration-color: #000080\">│</span>  │<span style=\"color: #008080; text-decoration-color: #008080\"> Input     </span>│<span style=\"color: #008000; text-decoration-color: #008000\"> 2+2                 </span>│                                                                            <span style=\"color: #000080; text-decoration-color: #000080\">│</span>\n",
       "<span style=\"color: #000080; text-decoration-color: #000080\">│</span>  │<span style=\"color: #008080; text-decoration-color: #008080\"> Result    </span>│<span style=\"color: #008000; text-decoration-color: #008000\"> 4                   </span>│                                                                            <span style=\"color: #000080; text-decoration-color: #000080\">│</span>\n",
       "<span style=\"color: #000080; text-decoration-color: #000080\">│</span>  ╰───────────┴─────────────────────╯                                                                            <span style=\"color: #000080; text-decoration-color: #000080\">│</span>\n",
       "<span style=\"color: #000080; text-decoration-color: #000080\">│</span>                                                                                                                 <span style=\"color: #000080; text-decoration-color: #000080\">│</span>\n",
       "<span style=\"color: #000080; text-decoration-color: #000080\">╰─────────────────────────────────────────────────────────────────────────────────────────────────────────────────╯</span>\n",
       "</pre>\n"
      ],
      "text/plain": [
       "\u001b[34m╭─\u001b[0m\u001b[34m─────────────────────────────────────────────\u001b[0m\u001b[34m \u001b[0m\u001b[1;34mCalculation Result\u001b[0m\u001b[34m \u001b[0m\u001b[34m──────────────────────────────────────────────\u001b[0m\u001b[34m─╮\u001b[0m\n",
       "\u001b[34m│\u001b[0m                                                                                                                 \u001b[34m│\u001b[0m\n",
       "\u001b[34m│\u001b[0m  ╭───────────┬─────────────────────╮                                                                            \u001b[34m│\u001b[0m\n",
       "\u001b[34m│\u001b[0m  │\u001b[36m \u001b[0m\u001b[36mOperation\u001b[0m\u001b[36m \u001b[0m│\u001b[32m \u001b[0m\u001b[32mEvaluate Expression\u001b[0m\u001b[32m \u001b[0m│                                                                            \u001b[34m│\u001b[0m\n",
       "\u001b[34m│\u001b[0m  │\u001b[36m \u001b[0m\u001b[36mInput    \u001b[0m\u001b[36m \u001b[0m│\u001b[32m \u001b[0m\u001b[32m2+2                \u001b[0m\u001b[32m \u001b[0m│                                                                            \u001b[34m│\u001b[0m\n",
       "\u001b[34m│\u001b[0m  │\u001b[36m \u001b[0m\u001b[36mResult   \u001b[0m\u001b[36m \u001b[0m│\u001b[32m \u001b[0m\u001b[32m4                  \u001b[0m\u001b[32m \u001b[0m│                                                                            \u001b[34m│\u001b[0m\n",
       "\u001b[34m│\u001b[0m  ╰───────────┴─────────────────────╯                                                                            \u001b[34m│\u001b[0m\n",
       "\u001b[34m│\u001b[0m                                                                                                                 \u001b[34m│\u001b[0m\n",
       "\u001b[34m╰─────────────────────────────────────────────────────────────────────────────────────────────────────────────────╯\u001b[0m\n"
      ]
     },
     "metadata": {},
     "output_type": "display_data"
    },
    {
     "name": "stdout",
     "output_type": "stream",
     "text": [
      "{'message': {'role': 'user', 'content': [{'toolResult': {'status': 'success', 'content': [{'text': 'Result: 4'}], 'toolUseId': 'tooluse_mWZMCuDsSSmlZyXxAYn0oQ'}}]}}\n",
      "{'start': True}\n",
      "{'start': True}\n",
      "{'start_event_loop': True}\n",
      "{'event': {'messageStart': {'role': 'assistant'}}}\n",
      "{'event': {'contentBlockDelta': {'delta': {'text': 'The'}, 'contentBlockIndex': 0}}}\n",
      "{'data': 'The', 'delta': {'text': 'The'}, 'agent': <strands.agent.agent.Agent object at 0x7f317c35bf80>, 'event_loop_cycle_id': UUID('eb6f2ca8-5875-4ba5-ae69-6d7ed62b4f86'), 'request_state': {}, 'event_loop_cycle_trace': <strands.telemetry.metrics.Trace object at 0x7f316f7d4260>, 'event_loop_cycle_span': NonRecordingSpan(SpanContext(trace_id=0x00000000000000000000000000000000, span_id=0x0000000000000000, trace_flags=0x00, trace_state=[], is_remote=False)), 'model': <strands.models.bedrock.BedrockModel object at 0x7f316e9f3fb0>, 'system_prompt': None, 'messages': [{'role': 'user', 'content': [{'text': 'Calculate 2+2'}]}, {'role': 'assistant', 'content': [{'text': \"I'll calculate this simple addition for you using the calculator tool.\"}, {'toolUse': {'toolUseId': 'tooluse_mWZMCuDsSSmlZyXxAYn0oQ', 'name': 'calculator', 'input': {'expression': '2+2'}}}]}, {'role': 'user', 'content': [{'toolResult': {'status': 'success', 'content': [{'text': 'Result: 4'}], 'toolUseId': 'tooluse_mWZMCuDsSSmlZyXxAYn0oQ'}}]}], 'tool_config': {'tools': [{'toolSpec': {'name': 'calculator', 'description': 'Calculator powered by SymPy for comprehensive mathematical operations.\\n\\nThis tool provides advanced mathematical functionality through multiple operation modes,\\nincluding expression evaluation, equation solving, calculus operations (derivatives, integrals),\\nlimits, series expansions, and matrix operations. Results are formatted with appropriate\\nprecision and can be displayed in scientific notation when needed.\\n\\nHow It Works:\\n------------\\n1. The function parses the mathematical expression using SymPy\\'s parser\\n2. Based on the selected mode, it routes the expression to the appropriate handler\\n3. Variables and constants are substituted with their values when provided\\n4. The expression is evaluated symbolically and/or numerically as appropriate\\n5. Results are formatted based on precision preferences and value magnitude\\n6. Rich output is generated with operation details and formatted results\\n\\nOperation Modes:\\n--------------\\n- evaluate: Calculate the value of a mathematical expression\\n- solve: Find solutions to an equation or system of equations\\n- derive: Calculate derivatives of an expression\\n- integrate: Find the indefinite integral of an expression\\n- limit: Evaluate the limit of an expression at a point\\n- series: Generate series expansion of an expression\\n- matrix: Perform matrix operations\\n\\nCommon Usage Scenarios:\\n---------------------\\n- Basic calculations: Evaluating arithmetic expressions\\n- Equation solving: Finding roots of polynomials or systems of equations\\n- Calculus: Computing derivatives and integrals for analysis\\n- Engineering analysis: Working with scientific notations and constants\\n- Mathematics education: Visualizing step-by-step solutions\\n- Data science: Matrix operations and statistical calculations\\n\\nArgs:\\n    expression: The mathematical expression to evaluate, such as \"2 + 2 * 3\",\\n        \"x**2 + 2*x + 1\", or \"sin(pi/2)\". For matrix operations, use array\\n        notation like \"[[1, 2], [3, 4]]\".\\n    mode: The calculation mode to use. Options are:\\n        - \"evaluate\": Compute the value of the expression (default)\\n        - \"solve\": Solve an equation or system of equations\\n        - \"derive\": Calculate the derivative of an expression\\n        - \"integrate\": Find the indefinite integral of an expression\\n        - \"limit\": Calculate the limit of an expression at a point\\n        - \"series\": Generate a series expansion of an expression\\n        - \"matrix\": Perform matrix operations\\n    precision: Number of decimal places for the result (default: 10).\\n        Higher values provide more precise output but may impact performance.\\n    scientific: Whether to use scientific notation for numbers (default: False).\\n        When True, formats large and small numbers using scientific notation.\\n    force_numeric: Force numeric evaluation of symbolic expressions (default: False).\\n        When True, tries to convert symbolic results to numeric values.\\n    variables: Optional dictionary of variable names and their values to substitute\\n        in the expression, e.g., {\"a\": 1, \"b\": 2}.\\n    wrt: Variable to differentiate or integrate with respect to (required for\\n        \"derive\" and \"integrate\" modes).\\n    point: Point at which to evaluate a limit (required for \"limit\" mode).\\n        Use \"oo\" for infinity.\\n    order: Order of derivative or series expansion (optional for \"derive\" and\\n        \"series\" modes, default is 1 for derivatives and 5 for series).\\n\\nReturns:\\n    Dict containing status and response content in the format:\\n    {\\n        \"status\": \"success|error\",\\n        \"content\": [{\"text\": \"Result: <calculated_result>\"}]\\n    }\\n\\n    Success case: Returns the calculation result with appropriate formatting\\n    Error case: Returns information about what went wrong during calculation\\n\\nNotes:\\n    - For equation solving, set the expression equal to zero implicitly (x**2 + 1 means x**2 + 1 = 0)\\n    - Use \\'pi\\' and \\'e\\' for mathematical constants\\n    - The \\'wrt\\' parameter is required for differentiation and integration\\n    - Matrix expressions use Python-like syntax: [[1, 2], [3, 4]]\\n    - Precision control impacts display only, internal calculations use higher precision\\n    - Symbolic results are returned when possible unless force_numeric=True', 'inputSchema': {'json': {'properties': {'expression': {'description': 'The mathematical expression to evaluate, such as \"2 + 2 * 3\",\\n\"x**2 + 2*x + 1\", or \"sin(pi/2)\". For matrix operations, use array\\nnotation like \"[[1, 2], [3, 4]]\".', 'type': 'string'}, 'mode': {'default': None, 'description': 'The calculation mode to use. Options are:\\n- \"evaluate\": Compute the value of the expression (default)\\n- \"solve\": Solve an equation or system of equations\\n- \"derive\": Calculate the derivative of an expression\\n- \"integrate\": Find the indefinite integral of an expression\\n- \"limit\": Calculate the limit of an expression at a point\\n- \"series\": Generate a series expansion of an expression\\n- \"matrix\": Perform matrix operations', 'type': 'string'}, 'precision': {'default': None, 'description': 'Number of decimal places for the result (default: 10).\\nHigher values provide more precise output but may impact performance.', 'type': 'integer'}, 'scientific': {'default': None, 'description': 'Whether to use scientific notation for numbers (default: False).\\nWhen True, formats large and small numbers using scientific notation.', 'type': 'boolean'}, 'force_numeric': {'default': None, 'description': 'Force numeric evaluation of symbolic expressions (default: False).\\nWhen True, tries to convert symbolic results to numeric values.', 'type': 'boolean'}, 'variables': {'default': None, 'description': 'Optional dictionary of variable names and their values to substitute\\nin the expression, e.g., {\"a\": 1, \"b\": 2}.', 'type': 'object'}, 'wrt': {'default': None, 'description': 'Variable to differentiate or integrate with respect to (required for\\n\"derive\" and \"integrate\" modes).', 'type': 'string'}, 'point': {'default': None, 'description': 'Point at which to evaluate a limit (required for \"limit\" mode).\\nUse \"oo\" for infinity.', 'type': 'string'}, 'order': {'default': None, 'description': 'Order of derivative or series expansion (optional for \"derive\" and\\n\"series\" modes, default is 1 for derivatives and 5 for series).', 'type': 'integer'}}, 'required': ['expression'], 'type': 'object'}}}}], 'toolChoice': {'auto': {}}}, 'event_loop_parent_cycle_id': UUID('74042420-a632-45a1-88f1-3522046daccc')}\n",
      "{'event': {'contentBlockDelta': {'delta': {'text': ' answer to 2+2'}, 'contentBlockIndex': 0}}}\n",
      "{'data': ' answer to 2+2', 'delta': {'text': ' answer to 2+2'}, 'agent': <strands.agent.agent.Agent object at 0x7f317c35bf80>, 'event_loop_cycle_id': UUID('eb6f2ca8-5875-4ba5-ae69-6d7ed62b4f86'), 'request_state': {}, 'event_loop_cycle_trace': <strands.telemetry.metrics.Trace object at 0x7f316f7d4260>, 'event_loop_cycle_span': NonRecordingSpan(SpanContext(trace_id=0x00000000000000000000000000000000, span_id=0x0000000000000000, trace_flags=0x00, trace_state=[], is_remote=False)), 'model': <strands.models.bedrock.BedrockModel object at 0x7f316e9f3fb0>, 'system_prompt': None, 'messages': [{'role': 'user', 'content': [{'text': 'Calculate 2+2'}]}, {'role': 'assistant', 'content': [{'text': \"I'll calculate this simple addition for you using the calculator tool.\"}, {'toolUse': {'toolUseId': 'tooluse_mWZMCuDsSSmlZyXxAYn0oQ', 'name': 'calculator', 'input': {'expression': '2+2'}}}]}, {'role': 'user', 'content': [{'toolResult': {'status': 'success', 'content': [{'text': 'Result: 4'}], 'toolUseId': 'tooluse_mWZMCuDsSSmlZyXxAYn0oQ'}}]}], 'tool_config': {'tools': [{'toolSpec': {'name': 'calculator', 'description': 'Calculator powered by SymPy for comprehensive mathematical operations.\\n\\nThis tool provides advanced mathematical functionality through multiple operation modes,\\nincluding expression evaluation, equation solving, calculus operations (derivatives, integrals),\\nlimits, series expansions, and matrix operations. Results are formatted with appropriate\\nprecision and can be displayed in scientific notation when needed.\\n\\nHow It Works:\\n------------\\n1. The function parses the mathematical expression using SymPy\\'s parser\\n2. Based on the selected mode, it routes the expression to the appropriate handler\\n3. Variables and constants are substituted with their values when provided\\n4. The expression is evaluated symbolically and/or numerically as appropriate\\n5. Results are formatted based on precision preferences and value magnitude\\n6. Rich output is generated with operation details and formatted results\\n\\nOperation Modes:\\n--------------\\n- evaluate: Calculate the value of a mathematical expression\\n- solve: Find solutions to an equation or system of equations\\n- derive: Calculate derivatives of an expression\\n- integrate: Find the indefinite integral of an expression\\n- limit: Evaluate the limit of an expression at a point\\n- series: Generate series expansion of an expression\\n- matrix: Perform matrix operations\\n\\nCommon Usage Scenarios:\\n---------------------\\n- Basic calculations: Evaluating arithmetic expressions\\n- Equation solving: Finding roots of polynomials or systems of equations\\n- Calculus: Computing derivatives and integrals for analysis\\n- Engineering analysis: Working with scientific notations and constants\\n- Mathematics education: Visualizing step-by-step solutions\\n- Data science: Matrix operations and statistical calculations\\n\\nArgs:\\n    expression: The mathematical expression to evaluate, such as \"2 + 2 * 3\",\\n        \"x**2 + 2*x + 1\", or \"sin(pi/2)\". For matrix operations, use array\\n        notation like \"[[1, 2], [3, 4]]\".\\n    mode: The calculation mode to use. Options are:\\n        - \"evaluate\": Compute the value of the expression (default)\\n        - \"solve\": Solve an equation or system of equations\\n        - \"derive\": Calculate the derivative of an expression\\n        - \"integrate\": Find the indefinite integral of an expression\\n        - \"limit\": Calculate the limit of an expression at a point\\n        - \"series\": Generate a series expansion of an expression\\n        - \"matrix\": Perform matrix operations\\n    precision: Number of decimal places for the result (default: 10).\\n        Higher values provide more precise output but may impact performance.\\n    scientific: Whether to use scientific notation for numbers (default: False).\\n        When True, formats large and small numbers using scientific notation.\\n    force_numeric: Force numeric evaluation of symbolic expressions (default: False).\\n        When True, tries to convert symbolic results to numeric values.\\n    variables: Optional dictionary of variable names and their values to substitute\\n        in the expression, e.g., {\"a\": 1, \"b\": 2}.\\n    wrt: Variable to differentiate or integrate with respect to (required for\\n        \"derive\" and \"integrate\" modes).\\n    point: Point at which to evaluate a limit (required for \"limit\" mode).\\n        Use \"oo\" for infinity.\\n    order: Order of derivative or series expansion (optional for \"derive\" and\\n        \"series\" modes, default is 1 for derivatives and 5 for series).\\n\\nReturns:\\n    Dict containing status and response content in the format:\\n    {\\n        \"status\": \"success|error\",\\n        \"content\": [{\"text\": \"Result: <calculated_result>\"}]\\n    }\\n\\n    Success case: Returns the calculation result with appropriate formatting\\n    Error case: Returns information about what went wrong during calculation\\n\\nNotes:\\n    - For equation solving, set the expression equal to zero implicitly (x**2 + 1 means x**2 + 1 = 0)\\n    - Use \\'pi\\' and \\'e\\' for mathematical constants\\n    - The \\'wrt\\' parameter is required for differentiation and integration\\n    - Matrix expressions use Python-like syntax: [[1, 2], [3, 4]]\\n    - Precision control impacts display only, internal calculations use higher precision\\n    - Symbolic results are returned when possible unless force_numeric=True', 'inputSchema': {'json': {'properties': {'expression': {'description': 'The mathematical expression to evaluate, such as \"2 + 2 * 3\",\\n\"x**2 + 2*x + 1\", or \"sin(pi/2)\". For matrix operations, use array\\nnotation like \"[[1, 2], [3, 4]]\".', 'type': 'string'}, 'mode': {'default': None, 'description': 'The calculation mode to use. Options are:\\n- \"evaluate\": Compute the value of the expression (default)\\n- \"solve\": Solve an equation or system of equations\\n- \"derive\": Calculate the derivative of an expression\\n- \"integrate\": Find the indefinite integral of an expression\\n- \"limit\": Calculate the limit of an expression at a point\\n- \"series\": Generate a series expansion of an expression\\n- \"matrix\": Perform matrix operations', 'type': 'string'}, 'precision': {'default': None, 'description': 'Number of decimal places for the result (default: 10).\\nHigher values provide more precise output but may impact performance.', 'type': 'integer'}, 'scientific': {'default': None, 'description': 'Whether to use scientific notation for numbers (default: False).\\nWhen True, formats large and small numbers using scientific notation.', 'type': 'boolean'}, 'force_numeric': {'default': None, 'description': 'Force numeric evaluation of symbolic expressions (default: False).\\nWhen True, tries to convert symbolic results to numeric values.', 'type': 'boolean'}, 'variables': {'default': None, 'description': 'Optional dictionary of variable names and their values to substitute\\nin the expression, e.g., {\"a\": 1, \"b\": 2}.', 'type': 'object'}, 'wrt': {'default': None, 'description': 'Variable to differentiate or integrate with respect to (required for\\n\"derive\" and \"integrate\" modes).', 'type': 'string'}, 'point': {'default': None, 'description': 'Point at which to evaluate a limit (required for \"limit\" mode).\\nUse \"oo\" for infinity.', 'type': 'string'}, 'order': {'default': None, 'description': 'Order of derivative or series expansion (optional for \"derive\" and\\n\"series\" modes, default is 1 for derivatives and 5 for series).', 'type': 'integer'}}, 'required': ['expression'], 'type': 'object'}}}}], 'toolChoice': {'auto': {}}}, 'event_loop_parent_cycle_id': UUID('74042420-a632-45a1-88f1-3522046daccc')}\n",
      "{'event': {'contentBlockDelta': {'delta': {'text': ' is 4'}, 'contentBlockIndex': 0}}}\n",
      "{'data': ' is 4', 'delta': {'text': ' is 4'}, 'agent': <strands.agent.agent.Agent object at 0x7f317c35bf80>, 'event_loop_cycle_id': UUID('eb6f2ca8-5875-4ba5-ae69-6d7ed62b4f86'), 'request_state': {}, 'event_loop_cycle_trace': <strands.telemetry.metrics.Trace object at 0x7f316f7d4260>, 'event_loop_cycle_span': NonRecordingSpan(SpanContext(trace_id=0x00000000000000000000000000000000, span_id=0x0000000000000000, trace_flags=0x00, trace_state=[], is_remote=False)), 'model': <strands.models.bedrock.BedrockModel object at 0x7f316e9f3fb0>, 'system_prompt': None, 'messages': [{'role': 'user', 'content': [{'text': 'Calculate 2+2'}]}, {'role': 'assistant', 'content': [{'text': \"I'll calculate this simple addition for you using the calculator tool.\"}, {'toolUse': {'toolUseId': 'tooluse_mWZMCuDsSSmlZyXxAYn0oQ', 'name': 'calculator', 'input': {'expression': '2+2'}}}]}, {'role': 'user', 'content': [{'toolResult': {'status': 'success', 'content': [{'text': 'Result: 4'}], 'toolUseId': 'tooluse_mWZMCuDsSSmlZyXxAYn0oQ'}}]}], 'tool_config': {'tools': [{'toolSpec': {'name': 'calculator', 'description': 'Calculator powered by SymPy for comprehensive mathematical operations.\\n\\nThis tool provides advanced mathematical functionality through multiple operation modes,\\nincluding expression evaluation, equation solving, calculus operations (derivatives, integrals),\\nlimits, series expansions, and matrix operations. Results are formatted with appropriate\\nprecision and can be displayed in scientific notation when needed.\\n\\nHow It Works:\\n------------\\n1. The function parses the mathematical expression using SymPy\\'s parser\\n2. Based on the selected mode, it routes the expression to the appropriate handler\\n3. Variables and constants are substituted with their values when provided\\n4. The expression is evaluated symbolically and/or numerically as appropriate\\n5. Results are formatted based on precision preferences and value magnitude\\n6. Rich output is generated with operation details and formatted results\\n\\nOperation Modes:\\n--------------\\n- evaluate: Calculate the value of a mathematical expression\\n- solve: Find solutions to an equation or system of equations\\n- derive: Calculate derivatives of an expression\\n- integrate: Find the indefinite integral of an expression\\n- limit: Evaluate the limit of an expression at a point\\n- series: Generate series expansion of an expression\\n- matrix: Perform matrix operations\\n\\nCommon Usage Scenarios:\\n---------------------\\n- Basic calculations: Evaluating arithmetic expressions\\n- Equation solving: Finding roots of polynomials or systems of equations\\n- Calculus: Computing derivatives and integrals for analysis\\n- Engineering analysis: Working with scientific notations and constants\\n- Mathematics education: Visualizing step-by-step solutions\\n- Data science: Matrix operations and statistical calculations\\n\\nArgs:\\n    expression: The mathematical expression to evaluate, such as \"2 + 2 * 3\",\\n        \"x**2 + 2*x + 1\", or \"sin(pi/2)\". For matrix operations, use array\\n        notation like \"[[1, 2], [3, 4]]\".\\n    mode: The calculation mode to use. Options are:\\n        - \"evaluate\": Compute the value of the expression (default)\\n        - \"solve\": Solve an equation or system of equations\\n        - \"derive\": Calculate the derivative of an expression\\n        - \"integrate\": Find the indefinite integral of an expression\\n        - \"limit\": Calculate the limit of an expression at a point\\n        - \"series\": Generate a series expansion of an expression\\n        - \"matrix\": Perform matrix operations\\n    precision: Number of decimal places for the result (default: 10).\\n        Higher values provide more precise output but may impact performance.\\n    scientific: Whether to use scientific notation for numbers (default: False).\\n        When True, formats large and small numbers using scientific notation.\\n    force_numeric: Force numeric evaluation of symbolic expressions (default: False).\\n        When True, tries to convert symbolic results to numeric values.\\n    variables: Optional dictionary of variable names and their values to substitute\\n        in the expression, e.g., {\"a\": 1, \"b\": 2}.\\n    wrt: Variable to differentiate or integrate with respect to (required for\\n        \"derive\" and \"integrate\" modes).\\n    point: Point at which to evaluate a limit (required for \"limit\" mode).\\n        Use \"oo\" for infinity.\\n    order: Order of derivative or series expansion (optional for \"derive\" and\\n        \"series\" modes, default is 1 for derivatives and 5 for series).\\n\\nReturns:\\n    Dict containing status and response content in the format:\\n    {\\n        \"status\": \"success|error\",\\n        \"content\": [{\"text\": \"Result: <calculated_result>\"}]\\n    }\\n\\n    Success case: Returns the calculation result with appropriate formatting\\n    Error case: Returns information about what went wrong during calculation\\n\\nNotes:\\n    - For equation solving, set the expression equal to zero implicitly (x**2 + 1 means x**2 + 1 = 0)\\n    - Use \\'pi\\' and \\'e\\' for mathematical constants\\n    - The \\'wrt\\' parameter is required for differentiation and integration\\n    - Matrix expressions use Python-like syntax: [[1, 2], [3, 4]]\\n    - Precision control impacts display only, internal calculations use higher precision\\n    - Symbolic results are returned when possible unless force_numeric=True', 'inputSchema': {'json': {'properties': {'expression': {'description': 'The mathematical expression to evaluate, such as \"2 + 2 * 3\",\\n\"x**2 + 2*x + 1\", or \"sin(pi/2)\". For matrix operations, use array\\nnotation like \"[[1, 2], [3, 4]]\".', 'type': 'string'}, 'mode': {'default': None, 'description': 'The calculation mode to use. Options are:\\n- \"evaluate\": Compute the value of the expression (default)\\n- \"solve\": Solve an equation or system of equations\\n- \"derive\": Calculate the derivative of an expression\\n- \"integrate\": Find the indefinite integral of an expression\\n- \"limit\": Calculate the limit of an expression at a point\\n- \"series\": Generate a series expansion of an expression\\n- \"matrix\": Perform matrix operations', 'type': 'string'}, 'precision': {'default': None, 'description': 'Number of decimal places for the result (default: 10).\\nHigher values provide more precise output but may impact performance.', 'type': 'integer'}, 'scientific': {'default': None, 'description': 'Whether to use scientific notation for numbers (default: False).\\nWhen True, formats large and small numbers using scientific notation.', 'type': 'boolean'}, 'force_numeric': {'default': None, 'description': 'Force numeric evaluation of symbolic expressions (default: False).\\nWhen True, tries to convert symbolic results to numeric values.', 'type': 'boolean'}, 'variables': {'default': None, 'description': 'Optional dictionary of variable names and their values to substitute\\nin the expression, e.g., {\"a\": 1, \"b\": 2}.', 'type': 'object'}, 'wrt': {'default': None, 'description': 'Variable to differentiate or integrate with respect to (required for\\n\"derive\" and \"integrate\" modes).', 'type': 'string'}, 'point': {'default': None, 'description': 'Point at which to evaluate a limit (required for \"limit\" mode).\\nUse \"oo\" for infinity.', 'type': 'string'}, 'order': {'default': None, 'description': 'Order of derivative or series expansion (optional for \"derive\" and\\n\"series\" modes, default is 1 for derivatives and 5 for series).', 'type': 'integer'}}, 'required': ['expression'], 'type': 'object'}}}}], 'toolChoice': {'auto': {}}}, 'event_loop_parent_cycle_id': UUID('74042420-a632-45a1-88f1-3522046daccc')}\n",
      "{'event': {'contentBlockDelta': {'delta': {'text': '.'}, 'contentBlockIndex': 0}}}\n",
      "{'data': '.', 'delta': {'text': '.'}, 'agent': <strands.agent.agent.Agent object at 0x7f317c35bf80>, 'event_loop_cycle_id': UUID('eb6f2ca8-5875-4ba5-ae69-6d7ed62b4f86'), 'request_state': {}, 'event_loop_cycle_trace': <strands.telemetry.metrics.Trace object at 0x7f316f7d4260>, 'event_loop_cycle_span': NonRecordingSpan(SpanContext(trace_id=0x00000000000000000000000000000000, span_id=0x0000000000000000, trace_flags=0x00, trace_state=[], is_remote=False)), 'model': <strands.models.bedrock.BedrockModel object at 0x7f316e9f3fb0>, 'system_prompt': None, 'messages': [{'role': 'user', 'content': [{'text': 'Calculate 2+2'}]}, {'role': 'assistant', 'content': [{'text': \"I'll calculate this simple addition for you using the calculator tool.\"}, {'toolUse': {'toolUseId': 'tooluse_mWZMCuDsSSmlZyXxAYn0oQ', 'name': 'calculator', 'input': {'expression': '2+2'}}}]}, {'role': 'user', 'content': [{'toolResult': {'status': 'success', 'content': [{'text': 'Result: 4'}], 'toolUseId': 'tooluse_mWZMCuDsSSmlZyXxAYn0oQ'}}]}], 'tool_config': {'tools': [{'toolSpec': {'name': 'calculator', 'description': 'Calculator powered by SymPy for comprehensive mathematical operations.\\n\\nThis tool provides advanced mathematical functionality through multiple operation modes,\\nincluding expression evaluation, equation solving, calculus operations (derivatives, integrals),\\nlimits, series expansions, and matrix operations. Results are formatted with appropriate\\nprecision and can be displayed in scientific notation when needed.\\n\\nHow It Works:\\n------------\\n1. The function parses the mathematical expression using SymPy\\'s parser\\n2. Based on the selected mode, it routes the expression to the appropriate handler\\n3. Variables and constants are substituted with their values when provided\\n4. The expression is evaluated symbolically and/or numerically as appropriate\\n5. Results are formatted based on precision preferences and value magnitude\\n6. Rich output is generated with operation details and formatted results\\n\\nOperation Modes:\\n--------------\\n- evaluate: Calculate the value of a mathematical expression\\n- solve: Find solutions to an equation or system of equations\\n- derive: Calculate derivatives of an expression\\n- integrate: Find the indefinite integral of an expression\\n- limit: Evaluate the limit of an expression at a point\\n- series: Generate series expansion of an expression\\n- matrix: Perform matrix operations\\n\\nCommon Usage Scenarios:\\n---------------------\\n- Basic calculations: Evaluating arithmetic expressions\\n- Equation solving: Finding roots of polynomials or systems of equations\\n- Calculus: Computing derivatives and integrals for analysis\\n- Engineering analysis: Working with scientific notations and constants\\n- Mathematics education: Visualizing step-by-step solutions\\n- Data science: Matrix operations and statistical calculations\\n\\nArgs:\\n    expression: The mathematical expression to evaluate, such as \"2 + 2 * 3\",\\n        \"x**2 + 2*x + 1\", or \"sin(pi/2)\". For matrix operations, use array\\n        notation like \"[[1, 2], [3, 4]]\".\\n    mode: The calculation mode to use. Options are:\\n        - \"evaluate\": Compute the value of the expression (default)\\n        - \"solve\": Solve an equation or system of equations\\n        - \"derive\": Calculate the derivative of an expression\\n        - \"integrate\": Find the indefinite integral of an expression\\n        - \"limit\": Calculate the limit of an expression at a point\\n        - \"series\": Generate a series expansion of an expression\\n        - \"matrix\": Perform matrix operations\\n    precision: Number of decimal places for the result (default: 10).\\n        Higher values provide more precise output but may impact performance.\\n    scientific: Whether to use scientific notation for numbers (default: False).\\n        When True, formats large and small numbers using scientific notation.\\n    force_numeric: Force numeric evaluation of symbolic expressions (default: False).\\n        When True, tries to convert symbolic results to numeric values.\\n    variables: Optional dictionary of variable names and their values to substitute\\n        in the expression, e.g., {\"a\": 1, \"b\": 2}.\\n    wrt: Variable to differentiate or integrate with respect to (required for\\n        \"derive\" and \"integrate\" modes).\\n    point: Point at which to evaluate a limit (required for \"limit\" mode).\\n        Use \"oo\" for infinity.\\n    order: Order of derivative or series expansion (optional for \"derive\" and\\n        \"series\" modes, default is 1 for derivatives and 5 for series).\\n\\nReturns:\\n    Dict containing status and response content in the format:\\n    {\\n        \"status\": \"success|error\",\\n        \"content\": [{\"text\": \"Result: <calculated_result>\"}]\\n    }\\n\\n    Success case: Returns the calculation result with appropriate formatting\\n    Error case: Returns information about what went wrong during calculation\\n\\nNotes:\\n    - For equation solving, set the expression equal to zero implicitly (x**2 + 1 means x**2 + 1 = 0)\\n    - Use \\'pi\\' and \\'e\\' for mathematical constants\\n    - The \\'wrt\\' parameter is required for differentiation and integration\\n    - Matrix expressions use Python-like syntax: [[1, 2], [3, 4]]\\n    - Precision control impacts display only, internal calculations use higher precision\\n    - Symbolic results are returned when possible unless force_numeric=True', 'inputSchema': {'json': {'properties': {'expression': {'description': 'The mathematical expression to evaluate, such as \"2 + 2 * 3\",\\n\"x**2 + 2*x + 1\", or \"sin(pi/2)\". For matrix operations, use array\\nnotation like \"[[1, 2], [3, 4]]\".', 'type': 'string'}, 'mode': {'default': None, 'description': 'The calculation mode to use. Options are:\\n- \"evaluate\": Compute the value of the expression (default)\\n- \"solve\": Solve an equation or system of equations\\n- \"derive\": Calculate the derivative of an expression\\n- \"integrate\": Find the indefinite integral of an expression\\n- \"limit\": Calculate the limit of an expression at a point\\n- \"series\": Generate a series expansion of an expression\\n- \"matrix\": Perform matrix operations', 'type': 'string'}, 'precision': {'default': None, 'description': 'Number of decimal places for the result (default: 10).\\nHigher values provide more precise output but may impact performance.', 'type': 'integer'}, 'scientific': {'default': None, 'description': 'Whether to use scientific notation for numbers (default: False).\\nWhen True, formats large and small numbers using scientific notation.', 'type': 'boolean'}, 'force_numeric': {'default': None, 'description': 'Force numeric evaluation of symbolic expressions (default: False).\\nWhen True, tries to convert symbolic results to numeric values.', 'type': 'boolean'}, 'variables': {'default': None, 'description': 'Optional dictionary of variable names and their values to substitute\\nin the expression, e.g., {\"a\": 1, \"b\": 2}.', 'type': 'object'}, 'wrt': {'default': None, 'description': 'Variable to differentiate or integrate with respect to (required for\\n\"derive\" and \"integrate\" modes).', 'type': 'string'}, 'point': {'default': None, 'description': 'Point at which to evaluate a limit (required for \"limit\" mode).\\nUse \"oo\" for infinity.', 'type': 'string'}, 'order': {'default': None, 'description': 'Order of derivative or series expansion (optional for \"derive\" and\\n\"series\" modes, default is 1 for derivatives and 5 for series).', 'type': 'integer'}}, 'required': ['expression'], 'type': 'object'}}}}], 'toolChoice': {'auto': {}}}, 'event_loop_parent_cycle_id': UUID('74042420-a632-45a1-88f1-3522046daccc')}\n",
      "{'event': {'contentBlockStop': {'contentBlockIndex': 0}}}\n",
      "{'event': {'messageStop': {'stopReason': 'end_turn'}}}\n",
      "{'event': {'metadata': {'usage': {'inputTokens': 2029, 'outputTokens': 16, 'totalTokens': 2045}, 'metrics': {'latencyMs': 1488}}}}\n",
      "{'message': {'role': 'assistant', 'content': [{'text': 'The answer to 2+2 is 4.'}]}}\n",
      "{'result': AgentResult(stop_reason='end_turn', message={'role': 'assistant', 'content': [{'text': 'The answer to 2+2 is 4.'}]}, metrics=EventLoopMetrics(cycle_count=2, tool_metrics={'calculator': ToolMetrics(tool={'toolUseId': 'tooluse_mWZMCuDsSSmlZyXxAYn0oQ', 'name': 'calculator', 'input': {'expression': '2+2'}}, call_count=1, success_count=1, error_count=0, total_time=0.007149696350097656)}, cycle_durations=[1.4923076629638672], traces=[<strands.telemetry.metrics.Trace object at 0x7f316eb98230>, <strands.telemetry.metrics.Trace object at 0x7f316f7d4260>], accumulated_usage={'inputTokens': 3976, 'outputTokens': 83, 'totalTokens': 4059}, accumulated_metrics={'latencyMs': 3580}), state={})}\n"
     ]
    }
   ],
   "source": [
    "# Initialize our agent without a callback handler\n",
    "agent = Agent(\n",
    "    model=\"us.anthropic.claude-3-7-sonnet-20250219-v1:0\",  # Optional: Specify the model ID\n",
    "    tools=[calculator], \n",
    "    callback_handler=None)\n",
    "\n",
    "# Async function that iterators over streamed agent events\n",
    "\n",
    "\n",
    "async def process_streaming_response():\n",
    "    agent_stream = agent.stream_async(\"Calculate 2+2\")\n",
    "    async for event in agent_stream:\n",
    "        print(event)\n",
    "\n",
    "\n",
    "# Run the agent\n",
    "asyncio.run(process_streaming_response())"
   ]
  },
  {
   "cell_type": "markdown",
   "metadata": {},
   "source": [
    "###  Tracking event loop lifecycle"
   ]
  },
  {
   "cell_type": "markdown",
   "metadata": {},
   "source": [
    "This example illustrates the event loop lifecycle and how events relate to each other. It's useful for understanding the flow of execution in the Strands Agent:\n",
    "\n",
    "Let's create some printing format code to better analyse the agent stream events. We will continue to use the same agent for it"
   ]
  },
  {
   "cell_type": "code",
   "execution_count": 5,
   "metadata": {
    "collapsed": false,
    "execution": {
     "iopub.execute_input": "2025-07-30T20:40:01.772618Z",
     "iopub.status.busy": "2025-07-30T20:40:01.772235Z",
     "iopub.status.idle": "2025-07-30T20:40:06.991600Z",
     "shell.execute_reply": "2025-07-30T20:40:06.991134Z",
     "shell.execute_reply.started": "2025-07-30T20:40:01.772595Z"
    },
    "jupyter": {
     "outputs_hidden": false
    },
    "pycharm": {
     "name": "#%%\n"
    }
   },
   "outputs": [
    {
     "name": "stdout",
     "output_type": "stream",
     "text": [
      "🔄 Event loop initialized\n",
      "📝 New cycle started\n",
      "▶️ Event loop cycle starting\n",
      "📟 Text: I\n",
      "📟 Text:  can answer your\n",
      "📟 Text:  question about the ...\n",
      "📟 Text:  France and calculat...\n",
      "📟 Text:  sum you've asked ab...\n",
      "📟 Text: \n",
      "\n",
      "The capital of Fra...\n",
      "📟 Text:  Paris.\n",
      "\n",
      "Now\n",
      "📟 Text:  let me calculate 42...\n",
      "📟 Text: 7 for you:\n",
      "🔧 Using tool: calculator\n",
      "🔧 Using tool: calculator\n",
      "🔧 Using tool: calculator\n",
      "🔧 Using tool: calculator\n",
      "🔧 Using tool: calculator\n",
      "📬 New message created: assistant\n"
     ]
    },
    {
     "data": {
      "text/html": [
       "<pre style=\"white-space:pre;overflow-x:auto;line-height:normal;font-family:Menlo,'DejaVu Sans Mono',consolas,'Courier New',monospace\"><span style=\"color: #000080; text-decoration-color: #000080\">╭────────────────────────────────────────────── </span><span style=\"color: #000080; text-decoration-color: #000080; font-weight: bold\">Calculation Result</span><span style=\"color: #000080; text-decoration-color: #000080\"> ───────────────────────────────────────────────╮</span>\n",
       "<span style=\"color: #000080; text-decoration-color: #000080\">│</span>                                                                                                                 <span style=\"color: #000080; text-decoration-color: #000080\">│</span>\n",
       "<span style=\"color: #000080; text-decoration-color: #000080\">│</span>  ╭───────────┬─────────────────────╮                                                                            <span style=\"color: #000080; text-decoration-color: #000080\">│</span>\n",
       "<span style=\"color: #000080; text-decoration-color: #000080\">│</span>  │<span style=\"color: #008080; text-decoration-color: #008080\"> Operation </span>│<span style=\"color: #008000; text-decoration-color: #008000\"> Evaluate Expression </span>│                                                                            <span style=\"color: #000080; text-decoration-color: #000080\">│</span>\n",
       "<span style=\"color: #000080; text-decoration-color: #000080\">│</span>  │<span style=\"color: #008080; text-decoration-color: #008080\"> Input     </span>│<span style=\"color: #008000; text-decoration-color: #008000\"> 42+7                </span>│                                                                            <span style=\"color: #000080; text-decoration-color: #000080\">│</span>\n",
       "<span style=\"color: #000080; text-decoration-color: #000080\">│</span>  │<span style=\"color: #008080; text-decoration-color: #008080\"> Result    </span>│<span style=\"color: #008000; text-decoration-color: #008000\"> 49                  </span>│                                                                            <span style=\"color: #000080; text-decoration-color: #000080\">│</span>\n",
       "<span style=\"color: #000080; text-decoration-color: #000080\">│</span>  ╰───────────┴─────────────────────╯                                                                            <span style=\"color: #000080; text-decoration-color: #000080\">│</span>\n",
       "<span style=\"color: #000080; text-decoration-color: #000080\">│</span>                                                                                                                 <span style=\"color: #000080; text-decoration-color: #000080\">│</span>\n",
       "<span style=\"color: #000080; text-decoration-color: #000080\">╰─────────────────────────────────────────────────────────────────────────────────────────────────────────────────╯</span>\n",
       "</pre>\n"
      ],
      "text/plain": [
       "\u001b[34m╭─\u001b[0m\u001b[34m─────────────────────────────────────────────\u001b[0m\u001b[34m \u001b[0m\u001b[1;34mCalculation Result\u001b[0m\u001b[34m \u001b[0m\u001b[34m──────────────────────────────────────────────\u001b[0m\u001b[34m─╮\u001b[0m\n",
       "\u001b[34m│\u001b[0m                                                                                                                 \u001b[34m│\u001b[0m\n",
       "\u001b[34m│\u001b[0m  ╭───────────┬─────────────────────╮                                                                            \u001b[34m│\u001b[0m\n",
       "\u001b[34m│\u001b[0m  │\u001b[36m \u001b[0m\u001b[36mOperation\u001b[0m\u001b[36m \u001b[0m│\u001b[32m \u001b[0m\u001b[32mEvaluate Expression\u001b[0m\u001b[32m \u001b[0m│                                                                            \u001b[34m│\u001b[0m\n",
       "\u001b[34m│\u001b[0m  │\u001b[36m \u001b[0m\u001b[36mInput    \u001b[0m\u001b[36m \u001b[0m│\u001b[32m \u001b[0m\u001b[32m42+7               \u001b[0m\u001b[32m \u001b[0m│                                                                            \u001b[34m│\u001b[0m\n",
       "\u001b[34m│\u001b[0m  │\u001b[36m \u001b[0m\u001b[36mResult   \u001b[0m\u001b[36m \u001b[0m│\u001b[32m \u001b[0m\u001b[32m49                 \u001b[0m\u001b[32m \u001b[0m│                                                                            \u001b[34m│\u001b[0m\n",
       "\u001b[34m│\u001b[0m  ╰───────────┴─────────────────────╯                                                                            \u001b[34m│\u001b[0m\n",
       "\u001b[34m│\u001b[0m                                                                                                                 \u001b[34m│\u001b[0m\n",
       "\u001b[34m╰─────────────────────────────────────────────────────────────────────────────────────────────────────────────────╯\u001b[0m\n"
      ]
     },
     "metadata": {},
     "output_type": "display_data"
    },
    {
     "name": "stdout",
     "output_type": "stream",
     "text": [
      "📬 New message created: user\n",
      "📝 New cycle started\n",
      "📝 New cycle started\n",
      "▶️ Event loop cycle starting\n",
      "📟 Text: So\n",
      "📟 Text:  the capital of Fran...\n",
      "📟 Text: +7 equals 49.\n",
      "📬 New message created: assistant\n"
     ]
    },
    {
     "data": {
      "text/plain": [
       "AgentResult(stop_reason='end_turn', message={'role': 'assistant', 'content': [{'text': 'So the capital of France is Paris, and 42+7 equals 49.'}]}, metrics=EventLoopMetrics(cycle_count=4, tool_metrics={'calculator': ToolMetrics(tool={'toolUseId': 'tooluse_NWdUL58LRBqP4zw7U5VwQQ', 'name': 'calculator', 'input': {'expression': '42+7'}}, call_count=2, success_count=2, error_count=0, total_time=0.011707782745361328)}, cycle_durations=[1.4923076629638672, 1.4787814617156982], traces=[<strands.telemetry.metrics.Trace object at 0x7f316eb98230>, <strands.telemetry.metrics.Trace object at 0x7f316f7d4260>, <strands.telemetry.metrics.Trace object at 0x7f316e154710>, <strands.telemetry.metrics.Trace object at 0x7f316e97ef60>], accumulated_usage={'inputTokens': 8209, 'outputTokens': 199, 'totalTokens': 8408}, accumulated_metrics={'latencyMs': 8778}), state={})"
      ]
     },
     "execution_count": 5,
     "metadata": {},
     "output_type": "execute_result"
    }
   ],
   "source": [
    "# Async function that iterators over streamed agent events\n",
    "\n",
    "\n",
    "async def process_streaming_response():\n",
    "    agent_stream = agent.stream_async(\"What is the capital of France and what is 42+7?\")\n",
    "    async for event in agent_stream:\n",
    "        # Track event loop lifecycle\n",
    "        if event.get(\"init_event_loop\", False):\n",
    "            print(\"🔄 Event loop initialized\")\n",
    "        elif event.get(\"start_event_loop\", False):\n",
    "            print(\"▶️ Event loop cycle starting\")\n",
    "        elif event.get(\"start\", False):\n",
    "            print(\"📝 New cycle started\")\n",
    "        elif \"message\" in event:\n",
    "            print(f\"📬 New message created: {event['message']['role']}\")\n",
    "        elif event.get(\"force_stop\", False):\n",
    "            print(\n",
    "                f\"🛑 Event loop force-stopped: {event.get('force_stop_reason', 'unknown reason')}\"\n",
    "            )\n",
    "\n",
    "        # Track tool usage\n",
    "        if \"current_tool_use\" in event and event[\"current_tool_use\"].get(\"name\"):\n",
    "            tool_name = event[\"current_tool_use\"][\"name\"]\n",
    "            print(f\"🔧 Using tool: {tool_name}\")\n",
    "\n",
    "        # Show only a snippet of text to keep output clean\n",
    "        if \"data\" in event:\n",
    "            # Only show first 20 chars of each chunk for demo purposes\n",
    "            data_snippet = event[\"data\"][:20] + (\n",
    "                \"...\" if len(event[\"data\"]) > 20 else \"\"\n",
    "            )\n",
    "            print(f\"📟 Text: {data_snippet}\")\n",
    "\n",
    "    return event[\"result\"]\n",
    "\n",
    "\n",
    "# Run the agent\n",
    "asyncio.run(process_streaming_response())"
   ]
  },
  {
   "cell_type": "markdown",
   "metadata": {},
   "source": [
    "### FastAPI Integration\n",
    "\n",
    "You can also integrate your `stream_async` with FastAPI to create a streaming endpoint to your applications. For this, we will add a `weather_forecast` tool to our agent. The architecture update looks as following\n",
    "\n",
    "<div style=\"text-align:left;\">\n",
    "    <img src=\"images/architecture_2.png\" width=\"65%\" />\n",
    "</div>"
   ]
  },
  {
   "cell_type": "code",
   "execution_count": 6,
   "metadata": {
    "execution": {
     "iopub.execute_input": "2025-07-30T20:40:06.992429Z",
     "iopub.status.busy": "2025-07-30T20:40:06.992197Z",
     "iopub.status.idle": "2025-07-30T20:40:07.100510Z",
     "shell.execute_reply": "2025-07-30T20:40:07.100021Z",
     "shell.execute_reply.started": "2025-07-30T20:40:06.992412Z"
    }
   },
   "outputs": [
    {
     "name": "stderr",
     "output_type": "stream",
     "text": [
      "INFO:     Started server process [6675]\n",
      "INFO:     Waiting for application startup.\n",
      "INFO:     Application startup complete.\n",
      "INFO:     Uvicorn running on http://0.0.0.0:8001 (Press CTRL+C to quit)\n"
     ]
    },
    {
     "name": "stdout",
     "output_type": "stream",
     "text": [
      "✅ Server is running at http://0.0.0.0:8001\n",
      "INFO:     127.0.0.1:49974 - \"POST /stream HTTP/1.1\" 200 OK\n"
     ]
    }
   ],
   "source": [
    "# Tool definition\n",
    "\n",
    "\n",
    "@tool\n",
    "def weather_forecast(city: str, days: int = 3) -> str:\n",
    "    return f\"Weather forecast for {city} for the next {days} days...\"\n",
    "\n",
    "\n",
    "# FastAPI app\n",
    "app = FastAPI()\n",
    "\n",
    "\n",
    "class PromptRequest(BaseModel):\n",
    "    prompt: str\n",
    "\n",
    "\n",
    "@app.post(\"/stream\")\n",
    "async def stream_response(request: PromptRequest):\n",
    "    async def generate():\n",
    "        agent = Agent(tools=[calculator, weather_forecast], callback_handler=None)\n",
    "        try:\n",
    "            async for event in agent.stream_async(request.prompt):\n",
    "                if \"data\" in event:\n",
    "                    yield event[\"data\"]\n",
    "        except Exception as e:\n",
    "            yield f\"Error: {str(e)}\"\n",
    "\n",
    "    return StreamingResponse(generate(), media_type=\"text/plain\")\n",
    "\n",
    "\n",
    "# Function to start server without blocking\n",
    "\n",
    "\n",
    "async def start_server():\n",
    "    config = uvicorn.Config(app, host=\"0.0.0.0\", port=8001, log_level=\"info\")\n",
    "    server = uvicorn.Server(config)\n",
    "    await server.serve()\n",
    "\n",
    "\n",
    "# Run server as background task\n",
    "if \"server_task\" not in globals():\n",
    "    server_task = asyncio.create_task(start_server())\n",
    "    await asyncio.sleep(0.1)  # Give server time to start\n",
    "\n",
    "print(\"✅ Server is running at http://0.0.0.0:8001\")"
   ]
  },
  {
   "cell_type": "markdown",
   "metadata": {},
   "source": [
    "#### Invoking the FastAPI agent\n",
    "And we can now invoke the agent with a prompt "
   ]
  },
  {
   "cell_type": "code",
   "execution_count": 7,
   "metadata": {
    "execution": {
     "iopub.execute_input": "2025-07-30T20:40:07.101440Z",
     "iopub.status.busy": "2025-07-30T20:40:07.101085Z",
     "iopub.status.idle": "2025-07-30T20:40:07.347942Z",
     "shell.execute_reply": "2025-07-30T20:40:07.347442Z",
     "shell.execute_reply.started": "2025-07-30T20:40:07.101422Z"
    }
   },
   "outputs": [
    {
     "name": "stdout",
     "output_type": "stream",
     "text": [
      "Received: Error: An error occurred (AccessDeniedException) when calling the ConverseStream operation: You don't have access to the model with the specified model ID.\n"
     ]
    }
   ],
   "source": [
    "async def fetch_stream():\n",
    "    async with httpx.AsyncClient() as client:\n",
    "        async with client.stream(\n",
    "            \"POST\",\n",
    "            \"http://0.0.0.0:8001/stream\",\n",
    "            json={\"prompt\": \"What is weather in NYC?\"},\n",
    "        ) as response:\n",
    "            async for line in response.aiter_lines():\n",
    "                if line.strip():  # Skip empty lines\n",
    "                    print(\"Received:\", line)\n",
    "\n",
    "\n",
    "await fetch_stream()"
   ]
  },
  {
   "cell_type": "markdown",
   "metadata": {},
   "source": [
    "## Method 2 - Callback Handlers for streaming"
   ]
  },
  {
   "cell_type": "markdown",
   "metadata": {},
   "source": [
    "Callback handlers are a powerful feature of the Strands Agents that allow you to intercept and process events as they happen during agent execution. This enables real-time monitoring, custom output formatting, and integration with external systems.\n",
    "\n"
   ]
  },
  {
   "cell_type": "markdown",
   "metadata": {},
   "source": [
    "Callback handlers receive events in real-time as they occur during an agent's lifecycle:\n",
    "\n",
    "- Text generation from the model\n",
    "- Tool selection and execution\n",
    "- Reasoning process\n",
    "- Errors and completions\n",
    "\n",
    "\n",
    "Let's now create a custom callback handler function that formats the event inputs to highlight tool usage and model output. To do so, we will again use the agent with a calculator tool only\n",
    "\n",
    "<div style=\"text-align:left;\">\n",
    "    <img src=\"images/architecture.png\" width=\"65%\" />\n",
    "</div>"
   ]
  },
  {
   "cell_type": "code",
   "execution_count": 8,
   "metadata": {
    "execution": {
     "iopub.execute_input": "2025-07-30T20:40:07.348786Z",
     "iopub.status.busy": "2025-07-30T20:40:07.348543Z",
     "iopub.status.idle": "2025-07-30T20:40:11.245952Z",
     "shell.execute_reply": "2025-07-30T20:40:11.245499Z",
     "shell.execute_reply.started": "2025-07-30T20:40:07.348768Z"
    }
   },
   "outputs": [
    {
     "name": "stdout",
     "output_type": "stream",
     "text": [
      "MODEL OUTPUT: I\n",
      "MODEL OUTPUT: 'll calculate 2+\n",
      "MODEL OUTPUT: 2 for you\n",
      "MODEL OUTPUT:  using the calculator tool.\n",
      "\n",
      "USING TOOL: calculator\n",
      "\n",
      "USING TOOL: calculator\n",
      "\n",
      "USING TOOL: calculator\n",
      "\n",
      "USING TOOL: calculator\n"
     ]
    },
    {
     "data": {
      "text/html": [
       "<pre style=\"white-space:pre;overflow-x:auto;line-height:normal;font-family:Menlo,'DejaVu Sans Mono',consolas,'Courier New',monospace\"><span style=\"color: #000080; text-decoration-color: #000080\">╭────────────────────────────────────────────── </span><span style=\"color: #000080; text-decoration-color: #000080; font-weight: bold\">Calculation Result</span><span style=\"color: #000080; text-decoration-color: #000080\"> ───────────────────────────────────────────────╮</span>\n",
       "<span style=\"color: #000080; text-decoration-color: #000080\">│</span>                                                                                                                 <span style=\"color: #000080; text-decoration-color: #000080\">│</span>\n",
       "<span style=\"color: #000080; text-decoration-color: #000080\">│</span>  ╭───────────┬─────────────────────╮                                                                            <span style=\"color: #000080; text-decoration-color: #000080\">│</span>\n",
       "<span style=\"color: #000080; text-decoration-color: #000080\">│</span>  │<span style=\"color: #008080; text-decoration-color: #008080\"> Operation </span>│<span style=\"color: #008000; text-decoration-color: #008000\"> Evaluate Expression </span>│                                                                            <span style=\"color: #000080; text-decoration-color: #000080\">│</span>\n",
       "<span style=\"color: #000080; text-decoration-color: #000080\">│</span>  │<span style=\"color: #008080; text-decoration-color: #008080\"> Input     </span>│<span style=\"color: #008000; text-decoration-color: #008000\"> 2+2                 </span>│                                                                            <span style=\"color: #000080; text-decoration-color: #000080\">│</span>\n",
       "<span style=\"color: #000080; text-decoration-color: #000080\">│</span>  │<span style=\"color: #008080; text-decoration-color: #008080\"> Result    </span>│<span style=\"color: #008000; text-decoration-color: #008000\"> 4                   </span>│                                                                            <span style=\"color: #000080; text-decoration-color: #000080\">│</span>\n",
       "<span style=\"color: #000080; text-decoration-color: #000080\">│</span>  ╰───────────┴─────────────────────╯                                                                            <span style=\"color: #000080; text-decoration-color: #000080\">│</span>\n",
       "<span style=\"color: #000080; text-decoration-color: #000080\">│</span>                                                                                                                 <span style=\"color: #000080; text-decoration-color: #000080\">│</span>\n",
       "<span style=\"color: #000080; text-decoration-color: #000080\">╰─────────────────────────────────────────────────────────────────────────────────────────────────────────────────╯</span>\n",
       "</pre>\n"
      ],
      "text/plain": [
       "\u001b[34m╭─\u001b[0m\u001b[34m─────────────────────────────────────────────\u001b[0m\u001b[34m \u001b[0m\u001b[1;34mCalculation Result\u001b[0m\u001b[34m \u001b[0m\u001b[34m──────────────────────────────────────────────\u001b[0m\u001b[34m─╮\u001b[0m\n",
       "\u001b[34m│\u001b[0m                                                                                                                 \u001b[34m│\u001b[0m\n",
       "\u001b[34m│\u001b[0m  ╭───────────┬─────────────────────╮                                                                            \u001b[34m│\u001b[0m\n",
       "\u001b[34m│\u001b[0m  │\u001b[36m \u001b[0m\u001b[36mOperation\u001b[0m\u001b[36m \u001b[0m│\u001b[32m \u001b[0m\u001b[32mEvaluate Expression\u001b[0m\u001b[32m \u001b[0m│                                                                            \u001b[34m│\u001b[0m\n",
       "\u001b[34m│\u001b[0m  │\u001b[36m \u001b[0m\u001b[36mInput    \u001b[0m\u001b[36m \u001b[0m│\u001b[32m \u001b[0m\u001b[32m2+2                \u001b[0m\u001b[32m \u001b[0m│                                                                            \u001b[34m│\u001b[0m\n",
       "\u001b[34m│\u001b[0m  │\u001b[36m \u001b[0m\u001b[36mResult   \u001b[0m\u001b[36m \u001b[0m│\u001b[32m \u001b[0m\u001b[32m4                  \u001b[0m\u001b[32m \u001b[0m│                                                                            \u001b[34m│\u001b[0m\n",
       "\u001b[34m│\u001b[0m  ╰───────────┴─────────────────────╯                                                                            \u001b[34m│\u001b[0m\n",
       "\u001b[34m│\u001b[0m                                                                                                                 \u001b[34m│\u001b[0m\n",
       "\u001b[34m╰─────────────────────────────────────────────────────────────────────────────────────────────────────────────────╯\u001b[0m\n"
      ]
     },
     "metadata": {},
     "output_type": "display_data"
    },
    {
     "name": "stdout",
     "output_type": "stream",
     "text": [
      "MODEL OUTPUT: The result\n",
      "MODEL OUTPUT:  of 2+2\n",
      "MODEL OUTPUT:  is 4\n",
      "MODEL OUTPUT: .\n"
     ]
    },
    {
     "data": {
      "text/plain": [
       "AgentResult(stop_reason='end_turn', message={'role': 'assistant', 'content': [{'text': 'The result of 2+2 is 4.'}]}, metrics=EventLoopMetrics(cycle_count=2, tool_metrics={'calculator': ToolMetrics(tool={'toolUseId': 'tooluse_9QEMsd-MQgCkJ_a2lSXphA', 'name': 'calculator', 'input': {'expression': '2+2'}}, call_count=1, success_count=1, error_count=0, total_time=0.004587411880493164)}, cycle_durations=[1.1885430812835693], traces=[<strands.telemetry.metrics.Trace object at 0x7f316e648c80>, <strands.telemetry.metrics.Trace object at 0x7f316cf27650>], accumulated_usage={'inputTokens': 3978, 'outputTokens': 85, 'totalTokens': 4063}, accumulated_metrics={'latencyMs': 3790}), state={})"
      ]
     },
     "execution_count": 8,
     "metadata": {},
     "output_type": "execute_result"
    }
   ],
   "source": [
    "def custom_callback_handler(**kwargs):\n",
    "    # Process stream data\n",
    "    if \"data\" in kwargs:\n",
    "        print(f\"MODEL OUTPUT: {kwargs['data']}\")\n",
    "    elif \"current_tool_use\" in kwargs and kwargs[\"current_tool_use\"].get(\"name\"):\n",
    "        print(f\"\\nUSING TOOL: {kwargs['current_tool_use']['name']}\")\n",
    "\n",
    "\n",
    "# Create an agent with custom callback handler\n",
    "agent = Agent(   \n",
    "        model=\"us.anthropic.claude-3-7-sonnet-20250219-v1:0\",  # Optional: Specify the model ID\n",
    "        tools=[calculator], \n",
    "        callback_handler=custom_callback_handler)\n",
    "\n",
    "agent(\"Calculate 2+2\")"
   ]
  },
  {
   "cell_type": "markdown",
   "metadata": {},
   "source": [
    "### Congratulations!\n",
    "\n",
    "In this notebook you learned how to stream your agents outputs using async iteractors and callback handlers. "
   ]
  },
  {
   "cell_type": "code",
   "execution_count": null,
   "metadata": {},
   "outputs": [],
   "source": []
  }
 ],
 "metadata": {
  "kernelspec": {
   "display_name": "Python 3 (ipykernel)",
   "language": "python",
   "name": "python3"
  },
  "language_info": {
   "codemirror_mode": {
    "name": "ipython",
    "version": 3
   },
   "file_extension": ".py",
   "mimetype": "text/x-python",
   "name": "python",
   "nbconvert_exporter": "python",
   "pygments_lexer": "ipython3",
   "version": "3.12.9"
  }
 },
 "nbformat": 4,
 "nbformat_minor": 4
}
