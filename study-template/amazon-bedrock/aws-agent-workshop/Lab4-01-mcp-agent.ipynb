{
 "cells": [
  {
   "cell_type": "markdown",
   "metadata": {
    "collapsed": false,
    "jupyter": {
     "outputs_hidden": false
    },
    "pycharm": {
     "name": "#%% md\n"
    }
   },
   "source": [
    "# Use Model Context Protocol (MCP) as tools with Strands Agent\n",
    "\n",
    "## Overview\n",
    "The [Model Context Protocol (MCP)](https://modelcontextprotocol.io/introduction) is an open protocol that standardizes how applications provide context to Large Language Models (LLMs). Strands AI SDK integrates with MCP to extend agent capabilities through external tools and services.\n",
    "\n",
    "MCP enables communication between agents and MCP servers that provide additional tools. The Strands Agent SDK includes built-in support for connecting to MCP servers and using their tools.\n",
    "\n",
    "In this example we will show you how to use MCP tools on your Strands Agent. We will use the [AWS Documentation MCP server](https://awslabs.github.io/mcp/servers/aws-documentation-mcp-server/) which provides tools to access AWS documentation, search for content, and get recommendations. This MCP server has 3 main features:\n",
    "\n",
    "- **Read Documentation**: Fetch and convert AWS documentation pages to markdown format\n",
    "- **Search Documentation**: Search AWS documentation using the official search API\n",
    "- **Recommendations**: Get content recommendations for AWS documentation pages\n",
    "\n",
    "\n",
    "\n",
    "## Agent Details\n",
    "<div style=\"float: left; margin-right: 20px;\">\n",
    "    \n",
    "|Feature             |Description                                        |\n",
    "|--------------------|---------------------------------------------------|\n",
    "|Feature used        |MCP Tools                                          |\n",
    "|Agent Structure     |Single agent architecture                          |\n",
    "\n",
    "</div>"
   ]
  },
  {
   "cell_type": "markdown",
   "metadata": {},
   "source": [
    "## Architecture\n",
    "\n",
    "<div style=\"text-align:center\">\n",
    "    <img src=\"images/architecture.png\" width=\"65%\" />\n",
    "</div>\n",
    "\n",
    "## Key Features\n",
    "* **Single agent architecture**: this example creates a single agent that interacts with MCP tools\n",
    "* **MCP tools**: Integration of MCP tools with your agent"
   ]
  },
  {
   "cell_type": "markdown",
   "metadata": {},
   "source": [
    "## Setup and prerequisites\n",
    "\n",
    "### Prerequisites\n",
    "* Python 3.10+\n",
    "* AWS account\n",
    "* Anthropic Claude 3.7 enabled on Amazon Bedrock\n",
    "\n",
    "Let's now install the requirement packages for our Strands Agent agent"
   ]
  },
  {
   "cell_type": "code",
   "execution_count": 1,
   "metadata": {
    "execution": {
     "iopub.execute_input": "2025-07-30T20:02:54.150657Z",
     "iopub.status.busy": "2025-07-30T20:02:54.150345Z",
     "iopub.status.idle": "2025-07-30T20:02:56.609052Z",
     "shell.execute_reply": "2025-07-30T20:02:56.608427Z",
     "shell.execute_reply.started": "2025-07-30T20:02:54.150636Z"
    }
   },
   "outputs": [
    {
     "name": "stdout",
     "output_type": "stream",
     "text": [
      "Collecting uv (from -r requirements.txt (line 1))\n",
      "  Downloading uv-0.8.4-py3-none-manylinux_2_17_x86_64.manylinux2014_x86_64.whl.metadata (11 kB)\n",
      "Requirement already satisfied: strands-agents in /opt/conda/lib/python3.12/site-packages (from -r requirements.txt (line 2)) (1.2.0)\n",
      "Requirement already satisfied: strands-agents-tools in /opt/conda/lib/python3.12/site-packages (from -r requirements.txt (line 3)) (0.2.0)\n",
      "Requirement already satisfied: mcp in /opt/conda/lib/python3.12/site-packages (from -r requirements.txt (line 4)) (1.12.2)\n",
      "Requirement already satisfied: boto3<2.0.0,>=1.26.0 in /opt/conda/lib/python3.12/site-packages (from strands-agents->-r requirements.txt (line 2)) (1.37.1)\n",
      "Requirement already satisfied: botocore<2.0.0,>=1.29.0 in /opt/conda/lib/python3.12/site-packages (from strands-agents->-r requirements.txt (line 2)) (1.37.38)\n",
      "Requirement already satisfied: docstring-parser<1.0,>=0.15 in /opt/conda/lib/python3.12/site-packages (from strands-agents->-r requirements.txt (line 2)) (0.17.0)\n",
      "Requirement already satisfied: opentelemetry-api<2.0.0,>=1.30.0 in /opt/conda/lib/python3.12/site-packages (from strands-agents->-r requirements.txt (line 2)) (1.36.0)\n",
      "Requirement already satisfied: opentelemetry-instrumentation-threading<1.00b0,>=0.51b0 in /opt/conda/lib/python3.12/site-packages (from strands-agents->-r requirements.txt (line 2)) (0.57b0)\n",
      "Requirement already satisfied: opentelemetry-sdk<2.0.0,>=1.30.0 in /opt/conda/lib/python3.12/site-packages (from strands-agents->-r requirements.txt (line 2)) (1.36.0)\n",
      "Requirement already satisfied: pydantic<3.0.0,>=2.0.0 in /opt/conda/lib/python3.12/site-packages (from strands-agents->-r requirements.txt (line 2)) (2.11.7)\n",
      "Requirement already satisfied: typing-extensions<5.0.0,>=4.13.2 in /opt/conda/lib/python3.12/site-packages (from strands-agents->-r requirements.txt (line 2)) (4.14.1)\n",
      "Requirement already satisfied: watchdog<7.0.0,>=6.0.0 in /opt/conda/lib/python3.12/site-packages (from strands-agents->-r requirements.txt (line 2)) (6.0.0)\n",
      "Requirement already satisfied: anyio>=4.5 in /opt/conda/lib/python3.12/site-packages (from mcp->-r requirements.txt (line 4)) (4.9.0)\n",
      "Requirement already satisfied: httpx-sse>=0.4 in /opt/conda/lib/python3.12/site-packages (from mcp->-r requirements.txt (line 4)) (0.4.1)\n",
      "Requirement already satisfied: httpx>=0.27 in /opt/conda/lib/python3.12/site-packages (from mcp->-r requirements.txt (line 4)) (0.28.1)\n",
      "Requirement already satisfied: jsonschema>=4.20.0 in /opt/conda/lib/python3.12/site-packages (from mcp->-r requirements.txt (line 4)) (4.23.0)\n",
      "Requirement already satisfied: pydantic-settings>=2.5.2 in /opt/conda/lib/python3.12/site-packages (from mcp->-r requirements.txt (line 4)) (2.10.1)\n",
      "Requirement already satisfied: python-multipart>=0.0.9 in /opt/conda/lib/python3.12/site-packages (from mcp->-r requirements.txt (line 4)) (0.0.20)\n",
      "Requirement already satisfied: sse-starlette>=1.6.1 in /opt/conda/lib/python3.12/site-packages (from mcp->-r requirements.txt (line 4)) (3.0.2)\n",
      "Requirement already satisfied: starlette>=0.27 in /opt/conda/lib/python3.12/site-packages (from mcp->-r requirements.txt (line 4)) (0.46.2)\n",
      "Requirement already satisfied: uvicorn>=0.23.1 in /opt/conda/lib/python3.12/site-packages (from mcp->-r requirements.txt (line 4)) (0.35.0)\n",
      "Requirement already satisfied: jmespath<2.0.0,>=0.7.1 in /opt/conda/lib/python3.12/site-packages (from boto3<2.0.0,>=1.26.0->strands-agents->-r requirements.txt (line 2)) (1.0.1)\n",
      "Requirement already satisfied: s3transfer<0.12.0,>=0.11.0 in /opt/conda/lib/python3.12/site-packages (from boto3<2.0.0,>=1.26.0->strands-agents->-r requirements.txt (line 2)) (0.11.3)\n",
      "Requirement already satisfied: python-dateutil<3.0.0,>=2.1 in /opt/conda/lib/python3.12/site-packages (from botocore<2.0.0,>=1.29.0->strands-agents->-r requirements.txt (line 2)) (2.9.0.post0)\n",
      "Requirement already satisfied: urllib3!=2.2.0,<3,>=1.25.4 in /opt/conda/lib/python3.12/site-packages (from botocore<2.0.0,>=1.29.0->strands-agents->-r requirements.txt (line 2)) (1.26.19)\n",
      "Requirement already satisfied: importlib-metadata<8.8.0,>=6.0 in /opt/conda/lib/python3.12/site-packages (from opentelemetry-api<2.0.0,>=1.30.0->strands-agents->-r requirements.txt (line 2)) (6.10.0)\n",
      "Requirement already satisfied: zipp>=0.5 in /opt/conda/lib/python3.12/site-packages (from importlib-metadata<8.8.0,>=6.0->opentelemetry-api<2.0.0,>=1.30.0->strands-agents->-r requirements.txt (line 2)) (3.23.0)\n",
      "Requirement already satisfied: opentelemetry-instrumentation==0.57b0 in /opt/conda/lib/python3.12/site-packages (from opentelemetry-instrumentation-threading<1.00b0,>=0.51b0->strands-agents->-r requirements.txt (line 2)) (0.57b0)\n",
      "Requirement already satisfied: wrapt<2.0.0,>=1.0.0 in /opt/conda/lib/python3.12/site-packages (from opentelemetry-instrumentation-threading<1.00b0,>=0.51b0->strands-agents->-r requirements.txt (line 2)) (1.17.2)\n",
      "Requirement already satisfied: opentelemetry-semantic-conventions==0.57b0 in /opt/conda/lib/python3.12/site-packages (from opentelemetry-instrumentation==0.57b0->opentelemetry-instrumentation-threading<1.00b0,>=0.51b0->strands-agents->-r requirements.txt (line 2)) (0.57b0)\n",
      "Requirement already satisfied: packaging>=18.0 in /opt/conda/lib/python3.12/site-packages (from opentelemetry-instrumentation==0.57b0->opentelemetry-instrumentation-threading<1.00b0,>=0.51b0->strands-agents->-r requirements.txt (line 2)) (24.2)\n",
      "Requirement already satisfied: annotated-types>=0.6.0 in /opt/conda/lib/python3.12/site-packages (from pydantic<3.0.0,>=2.0.0->strands-agents->-r requirements.txt (line 2)) (0.7.0)\n",
      "Requirement already satisfied: pydantic-core==2.33.2 in /opt/conda/lib/python3.12/site-packages (from pydantic<3.0.0,>=2.0.0->strands-agents->-r requirements.txt (line 2)) (2.33.2)\n",
      "Requirement already satisfied: typing-inspection>=0.4.0 in /opt/conda/lib/python3.12/site-packages (from pydantic<3.0.0,>=2.0.0->strands-agents->-r requirements.txt (line 2)) (0.4.1)\n",
      "Requirement already satisfied: six>=1.5 in /opt/conda/lib/python3.12/site-packages (from python-dateutil<3.0.0,>=2.1->botocore<2.0.0,>=1.29.0->strands-agents->-r requirements.txt (line 2)) (1.17.0)\n",
      "Requirement already satisfied: aws-requests-auth<0.5.0,>=0.4.3 in /opt/conda/lib/python3.12/site-packages (from strands-agents-tools->-r requirements.txt (line 3)) (0.4.3)\n",
      "Requirement already satisfied: dill<0.5.0,>=0.4.0 in /opt/conda/lib/python3.12/site-packages (from strands-agents-tools->-r requirements.txt (line 3)) (0.4.0)\n",
      "Requirement already satisfied: markdownify<2.0.0,>=1.0.0 in /opt/conda/lib/python3.12/site-packages (from strands-agents-tools->-r requirements.txt (line 3)) (1.1.0)\n",
      "Requirement already satisfied: pillow<12.0.0,>=11.2.1 in /opt/conda/lib/python3.12/site-packages (from strands-agents-tools->-r requirements.txt (line 3)) (11.3.0)\n",
      "Requirement already satisfied: prompt-toolkit<4.0.0,>=3.0.51 in /opt/conda/lib/python3.12/site-packages (from strands-agents-tools->-r requirements.txt (line 3)) (3.0.51)\n",
      "Requirement already satisfied: pyjwt<3.0.0,>=2.10.1 in /opt/conda/lib/python3.12/site-packages (from strands-agents-tools->-r requirements.txt (line 3)) (2.10.1)\n",
      "Requirement already satisfied: readabilipy<1.0.0,>=0.2.0 in /opt/conda/lib/python3.12/site-packages (from strands-agents-tools->-r requirements.txt (line 3)) (0.3.0)\n",
      "Requirement already satisfied: rich<15.0.0,>=14.0.0 in /opt/conda/lib/python3.12/site-packages (from strands-agents-tools->-r requirements.txt (line 3)) (14.1.0)\n",
      "Requirement already satisfied: slack-bolt<2.0.0,>=1.23.0 in /opt/conda/lib/python3.12/site-packages (from strands-agents-tools->-r requirements.txt (line 3)) (1.23.0)\n",
      "Requirement already satisfied: sympy<2.0.0,>=1.12.0 in /opt/conda/lib/python3.12/site-packages (from strands-agents-tools->-r requirements.txt (line 3)) (1.14.0)\n",
      "Requirement already satisfied: tenacity<10.0.0,>=9.1.2 in /opt/conda/lib/python3.12/site-packages (from strands-agents-tools->-r requirements.txt (line 3)) (9.1.2)\n",
      "Requirement already satisfied: requests>=0.14.0 in /opt/conda/lib/python3.12/site-packages (from aws-requests-auth<0.5.0,>=0.4.3->strands-agents-tools->-r requirements.txt (line 3)) (2.32.4)\n",
      "Requirement already satisfied: beautifulsoup4<5,>=4.9 in /opt/conda/lib/python3.12/site-packages (from markdownify<2.0.0,>=1.0.0->strands-agents-tools->-r requirements.txt (line 3)) (4.13.4)\n",
      "Requirement already satisfied: soupsieve>1.2 in /opt/conda/lib/python3.12/site-packages (from beautifulsoup4<5,>=4.9->markdownify<2.0.0,>=1.0.0->strands-agents-tools->-r requirements.txt (line 3)) (2.7)\n",
      "Requirement already satisfied: wcwidth in /opt/conda/lib/python3.12/site-packages (from prompt-toolkit<4.0.0,>=3.0.51->strands-agents-tools->-r requirements.txt (line 3)) (0.2.13)\n",
      "Requirement already satisfied: html5lib in /opt/conda/lib/python3.12/site-packages (from readabilipy<1.0.0,>=0.2.0->strands-agents-tools->-r requirements.txt (line 3)) (1.1)\n",
      "Requirement already satisfied: lxml in /opt/conda/lib/python3.12/site-packages (from readabilipy<1.0.0,>=0.2.0->strands-agents-tools->-r requirements.txt (line 3)) (5.4.0)\n",
      "Requirement already satisfied: regex in /opt/conda/lib/python3.12/site-packages (from readabilipy<1.0.0,>=0.2.0->strands-agents-tools->-r requirements.txt (line 3)) (2024.11.6)\n",
      "Requirement already satisfied: markdown-it-py>=2.2.0 in /opt/conda/lib/python3.12/site-packages (from rich<15.0.0,>=14.0.0->strands-agents-tools->-r requirements.txt (line 3)) (3.0.0)\n",
      "Requirement already satisfied: pygments<3.0.0,>=2.13.0 in /opt/conda/lib/python3.12/site-packages (from rich<15.0.0,>=14.0.0->strands-agents-tools->-r requirements.txt (line 3)) (2.19.2)\n",
      "Requirement already satisfied: slack_sdk<4,>=3.35.0 in /opt/conda/lib/python3.12/site-packages (from slack-bolt<2.0.0,>=1.23.0->strands-agents-tools->-r requirements.txt (line 3)) (3.36.0)\n",
      "Requirement already satisfied: mpmath<1.4,>=1.1.0 in /opt/conda/lib/python3.12/site-packages (from sympy<2.0.0,>=1.12.0->strands-agents-tools->-r requirements.txt (line 3)) (1.3.0)\n",
      "Requirement already satisfied: idna>=2.8 in /opt/conda/lib/python3.12/site-packages (from anyio>=4.5->mcp->-r requirements.txt (line 4)) (3.10)\n",
      "Requirement already satisfied: sniffio>=1.1 in /opt/conda/lib/python3.12/site-packages (from anyio>=4.5->mcp->-r requirements.txt (line 4)) (1.3.1)\n",
      "Requirement already satisfied: certifi in /opt/conda/lib/python3.12/site-packages (from httpx>=0.27->mcp->-r requirements.txt (line 4)) (2025.6.15)\n",
      "Requirement already satisfied: httpcore==1.* in /opt/conda/lib/python3.12/site-packages (from httpx>=0.27->mcp->-r requirements.txt (line 4)) (1.0.9)\n",
      "Requirement already satisfied: h11>=0.16 in /opt/conda/lib/python3.12/site-packages (from httpcore==1.*->httpx>=0.27->mcp->-r requirements.txt (line 4)) (0.16.0)\n",
      "Requirement already satisfied: attrs>=22.2.0 in /opt/conda/lib/python3.12/site-packages (from jsonschema>=4.20.0->mcp->-r requirements.txt (line 4)) (23.2.0)\n",
      "Requirement already satisfied: jsonschema-specifications>=2023.03.6 in /opt/conda/lib/python3.12/site-packages (from jsonschema>=4.20.0->mcp->-r requirements.txt (line 4)) (2025.4.1)\n",
      "Requirement already satisfied: referencing>=0.28.4 in /opt/conda/lib/python3.12/site-packages (from jsonschema>=4.20.0->mcp->-r requirements.txt (line 4)) (0.36.2)\n",
      "Requirement already satisfied: rpds-py>=0.7.1 in /opt/conda/lib/python3.12/site-packages (from jsonschema>=4.20.0->mcp->-r requirements.txt (line 4)) (0.26.0)\n",
      "Requirement already satisfied: mdurl~=0.1 in /opt/conda/lib/python3.12/site-packages (from markdown-it-py>=2.2.0->rich<15.0.0,>=14.0.0->strands-agents-tools->-r requirements.txt (line 3)) (0.1.2)\n",
      "Requirement already satisfied: python-dotenv>=0.21.0 in /opt/conda/lib/python3.12/site-packages (from pydantic-settings>=2.5.2->mcp->-r requirements.txt (line 4)) (1.1.1)\n",
      "Requirement already satisfied: charset_normalizer<4,>=2 in /opt/conda/lib/python3.12/site-packages (from requests>=0.14.0->aws-requests-auth<0.5.0,>=0.4.3->strands-agents-tools->-r requirements.txt (line 3)) (3.4.2)\n",
      "Requirement already satisfied: click>=7.0 in /opt/conda/lib/python3.12/site-packages (from uvicorn>=0.23.1->mcp->-r requirements.txt (line 4)) (8.2.1)\n",
      "Requirement already satisfied: webencodings in /opt/conda/lib/python3.12/site-packages (from html5lib->readabilipy<1.0.0,>=0.2.0->strands-agents-tools->-r requirements.txt (line 3)) (0.5.1)\n",
      "Downloading uv-0.8.4-py3-none-manylinux_2_17_x86_64.manylinux2014_x86_64.whl (18.8 MB)\n",
      "\u001b[2K   \u001b[90m━━━━━━━━━━━━━━━━━━━━━━━━━━━━━━━━━━━━━━━━\u001b[0m \u001b[32m18.8/18.8 MB\u001b[0m \u001b[31m182.0 MB/s\u001b[0m eta \u001b[36m0:00:00\u001b[0m\n",
      "\u001b[?25hInstalling collected packages: uv\n",
      "Successfully installed uv-0.8.4\n"
     ]
    }
   ],
   "source": [
    "# installing pre-requisites\n",
    "!pip install -r requirements.txt"
   ]
  },
  {
   "cell_type": "markdown",
   "metadata": {},
   "source": [
    "### Importing dependency packages\n",
    "\n",
    "Now let's import the dependency packages"
   ]
  },
  {
   "cell_type": "code",
   "execution_count": 2,
   "metadata": {
    "execution": {
     "iopub.execute_input": "2025-07-30T20:02:56.610452Z",
     "iopub.status.busy": "2025-07-30T20:02:56.610156Z",
     "iopub.status.idle": "2025-07-30T20:02:57.450074Z",
     "shell.execute_reply": "2025-07-30T20:02:57.449529Z",
     "shell.execute_reply.started": "2025-07-30T20:02:56.610428Z"
    }
   },
   "outputs": [],
   "source": [
    "import threading\n",
    "import time\n",
    "from datetime import timedelta\n",
    "\n",
    "from mcp import StdioServerParameters, stdio_client\n",
    "from mcp.client.streamable_http import streamablehttp_client\n",
    "from mcp.server import FastMCP\n",
    "from strands import Agent\n",
    "from strands.tools.mcp import MCPClient"
   ]
  },
  {
   "attachments": {},
   "cell_type": "markdown",
   "metadata": {},
   "source": [
    "### Connect to MCP server using stdio transport\n",
    "\n",
    "[Transports](https://modelcontextprotocol.io/specification/2025-03-26/basic/transports) in MCP provide the foundations for communication between clients and servers. It handles the underlying mechanics of how messages are sent and received. At the moment there are three standards transport implementations built-in in MCP:\n",
    "\n",
    "- **Standard Input/Output (stdio)**: enables communication through standard input and output streams. It is particularly useful for local integrations and command-line tools\n",
    "- **Streamable HTTP**: this replaces the HTTP+SSE transport from previous protocol version. In the Streamable HTTP transport, the server operates as an independent process that can handle multiple client connections. This transport uses HTTP POST and GET requests. Server can optionally make use of Server-Sent Events (SSE) to stream multiple server messages. This permits basic MCP servers, as well as more feature-rich servers supporting streaming and server-to-client notifications and requests.\n",
    "- **SSE**: legacy transport for HTTP-based MCP servers that use Server-Sent Events transport  \n",
    "\n",
    "Overall, you should use stdio for building command-line tools, implementing local integrations and working with shell scripts. You should use Streamable HTTP transports when you need a flexible and efficient way for AI agents to communicate with tools and services, especially when dealing with stateless communication or when minimizing resource usage is crucial.\n",
    "\n",
    "You can also use **custom transports** implementation for your specific needs. \n",
    "\n",
    "\n",
    "Let's now connect to the MCP server using stdio transport. First of all, we will use the class `MCPClient` to connect to the [AWS Documentation MCP Server](https://awslabs.github.io/mcp/servers/aws-documentation-mcp-server/). This server provides tools to access AWS documentation, search for content, and get recommendations."
   ]
  },
  {
   "cell_type": "code",
   "execution_count": 3,
   "metadata": {
    "execution": {
     "iopub.execute_input": "2025-07-30T20:02:57.451144Z",
     "iopub.status.busy": "2025-07-30T20:02:57.450762Z",
     "iopub.status.idle": "2025-07-30T20:02:57.454503Z",
     "shell.execute_reply": "2025-07-30T20:02:57.453988Z",
     "shell.execute_reply.started": "2025-07-30T20:02:57.451126Z"
    }
   },
   "outputs": [],
   "source": [
    "# Connect to an MCP server using stdio transport\n",
    "stdio_mcp_client = MCPClient(\n",
    "    lambda: stdio_client(\n",
    "        StdioServerParameters(\n",
    "            command=\"uvx\", args=[\"awslabs.aws-documentation-mcp-server@latest\"]\n",
    "        )\n",
    "    )\n",
    ")"
   ]
  },
  {
   "cell_type": "markdown",
   "metadata": {},
   "source": [
    "#### Setup agent configuration and invoke it\n",
    "\n",
    "Next we will set our agent configuration using the tools from the `stdio_mcp_client` object we just created. To do so, we need to list the tools available in the MCP server. We can use the `list_tools_sync` method for it. \n",
    "\n",
    "After that, we will ask a question to our agent."
   ]
  },
  {
   "cell_type": "code",
   "execution_count": 4,
   "metadata": {
    "execution": {
     "iopub.execute_input": "2025-07-30T20:02:57.455722Z",
     "iopub.status.busy": "2025-07-30T20:02:57.455345Z",
     "iopub.status.idle": "2025-07-30T20:03:11.593048Z",
     "shell.execute_reply": "2025-07-30T20:03:11.592535Z",
     "shell.execute_reply.started": "2025-07-30T20:02:57.455704Z"
    }
   },
   "outputs": [
    {
     "name": "stdout",
     "output_type": "stream",
     "text": [
      "I'll look up the Amazon Bedrock pricing model for you. Let me search the AWS documentation.\n",
      "Tool #1: search_documentation\n",
      "Now, let me retrieve the specific pricing information for Amazon Bedrock:\n",
      "Tool #2: read_documentation\n",
      "Based on the AWS documentation, here's the concise overview of Amazon Bedrock's pricing model:\n",
      "\n",
      "## Amazon Bedrock Pricing Model\n",
      "\n",
      "- **Pay-as-you-go basis**: You are charged only for the services you use.\n",
      "- **Based on token usage**: Pricing depends on the volume of input tokens and output tokens processed.\n",
      "- **Model-specific pricing**: Different foundation models have different pricing rates.\n",
      "- **Two throughput options**:\n",
      "  1. On-demand usage (standard pay-as-you-go)\n",
      "  2. Provisioned Throughput (purchased in advance for increased capacity and potentially lower costs at scale)\n",
      "\n",
      "Pricing details for specific models can be found on the Amazon Bedrock pricing page (aws.amazon.com/bedrock/pricing) or in the Amazon Bedrock console under \"Model providers.\""
     ]
    }
   ],
   "source": [
    "# Create an agent with MCP tools\n",
    "with stdio_mcp_client:\n",
    "    # Get the tools from the MCP server\n",
    "    tools = stdio_mcp_client.list_tools_sync()\n",
    "\n",
    "    # Create an agent with these tools\n",
    "    agent = Agent(\n",
    "        model=\"us.anthropic.claude-3-7-sonnet-20250219-v1:0\",\n",
    "        tools=tools)\n",
    "\n",
    "    response = agent(\"What is Amazon Bedrock pricing model. Be concise.\")"
   ]
  },
  {
   "cell_type": "markdown",
   "metadata": {},
   "source": [
    "### Connect to MCP server using Streamable HTTP\n",
    "\n",
    "Let's now connect to the MCP server using Streamable HTTP transport. First let's start a simple MCP server using Streamable HTTP transport. "
   ]
  },
  {
   "cell_type": "markdown",
   "metadata": {},
   "source": [
    "For this example we will create our own MCP server. The architecture will look as following\n",
    "\n",
    "<div style=\"text-align:center\">\n",
    "    <img src=\"images/architecture_2.png\" width=\"65%\" />\n",
    "</div>"
   ]
  },
  {
   "cell_type": "code",
   "execution_count": 5,
   "metadata": {
    "execution": {
     "iopub.execute_input": "2025-07-30T20:03:11.594186Z",
     "iopub.status.busy": "2025-07-30T20:03:11.593936Z",
     "iopub.status.idle": "2025-07-30T20:03:11.611082Z",
     "shell.execute_reply": "2025-07-30T20:03:11.610612Z",
     "shell.execute_reply.started": "2025-07-30T20:03:11.594167Z"
    }
   },
   "outputs": [],
   "source": [
    "# Create an MCP server\n",
    "mcp = FastMCP(\"Calculator Server\")\n",
    "\n",
    "# Define a tool\n",
    "\n",
    "\n",
    "@mcp.tool(description=\"Calculator tool which performs calculations\")\n",
    "def calculator(x: int, y: int) -> int:\n",
    "    return x + y\n",
    "\n",
    "\n",
    "@mcp.tool(description=\"This is a long running tool\")\n",
    "def long_running_tool(name: str) -> str:\n",
    "    time.sleep(25)\n",
    "    return f\"Hello {name}\"\n",
    "\n",
    "\n",
    "def main():\n",
    "    mcp.run(transport=\"streamable-http\", mount_path=\"mcp\")"
   ]
  },
  {
   "cell_type": "markdown",
   "metadata": {},
   "source": [
    "Let's now start a thread with the `streamable-http` server"
   ]
  },
  {
   "cell_type": "code",
   "execution_count": 6,
   "metadata": {
    "execution": {
     "iopub.execute_input": "2025-07-30T20:03:11.611825Z",
     "iopub.status.busy": "2025-07-30T20:03:11.611608Z",
     "iopub.status.idle": "2025-07-30T20:03:11.615400Z",
     "shell.execute_reply": "2025-07-30T20:03:11.614642Z",
     "shell.execute_reply.started": "2025-07-30T20:03:11.611808Z"
    }
   },
   "outputs": [
    {
     "name": "stderr",
     "output_type": "stream",
     "text": [
      "INFO:     Started server process [5395]\n",
      "INFO:     Waiting for application startup.\n",
      "INFO:     Application startup complete.\n",
      "INFO:     Uvicorn running on http://127.0.0.1:8000 (Press CTRL+C to quit)\n"
     ]
    },
    {
     "name": "stdout",
     "output_type": "stream",
     "text": [
      "INFO:     127.0.0.1:41206 - \"POST /mcp HTTP/1.1\" 200 OK\n",
      "INFO:     127.0.0.1:41214 - \"POST /mcp HTTP/1.1\" 202 Accepted\n",
      "INFO:     127.0.0.1:41228 - \"GET /mcp HTTP/1.1\" 200 OK\n",
      "INFO:     127.0.0.1:41236 - \"POST /mcp HTTP/1.1\" 200 OK\n",
      "INFO:     127.0.0.1:41246 - \"POST /mcp HTTP/1.1\" 200 OK\n",
      "INFO:     127.0.0.1:41250 - \"DELETE /mcp HTTP/1.1\" 200 OK\n",
      "INFO:     127.0.0.1:41260 - \"POST /mcp HTTP/1.1\" 200 OK\n",
      "INFO:     127.0.0.1:41270 - \"POST /mcp HTTP/1.1\" 202 Accepted\n",
      "INFO:     127.0.0.1:41286 - \"GET /mcp HTTP/1.1\" 200 OK\n",
      "INFO:     127.0.0.1:41302 - \"POST /mcp HTTP/1.1\" 200 OK\n",
      "INFO:     127.0.0.1:41316 - \"POST /mcp HTTP/1.1\" 200 OK\n",
      "INFO:     127.0.0.1:41318 - \"DELETE /mcp HTTP/1.1\" 200 OK\n",
      "INFO:     127.0.0.1:41322 - \"POST /mcp HTTP/1.1\" 200 OK\n",
      "INFO:     127.0.0.1:41340 - \"GET /mcp HTTP/1.1\" 200 OK\n",
      "INFO:     127.0.0.1:41330 - \"POST /mcp HTTP/1.1\" 202 Accepted\n",
      "INFO:     127.0.0.1:41352 - \"POST /mcp HTTP/1.1\" 200 OK\n",
      "INFO:     127.0.0.1:49166 - \"POST /mcp HTTP/1.1\" 200 OK\n",
      "INFO:     127.0.0.1:49168 - \"DELETE /mcp HTTP/1.1\" 200 OK\n"
     ]
    }
   ],
   "source": [
    "thread = threading.Thread(target=main)\n",
    "thread.start()"
   ]
  },
  {
   "cell_type": "markdown",
   "metadata": {},
   "source": [
    "#### Integrating Streamable HTTP client with Agent\n",
    "\n",
    "Now let's use `streamablehttp_client` integrate this server with a simple agent. "
   ]
  },
  {
   "cell_type": "code",
   "execution_count": 7,
   "metadata": {
    "execution": {
     "iopub.execute_input": "2025-07-30T20:03:11.616959Z",
     "iopub.status.busy": "2025-07-30T20:03:11.616713Z",
     "iopub.status.idle": "2025-07-30T20:03:11.620640Z",
     "shell.execute_reply": "2025-07-30T20:03:11.619513Z",
     "shell.execute_reply.started": "2025-07-30T20:03:11.616943Z"
    }
   },
   "outputs": [],
   "source": [
    "def create_streamable_http_transport():\n",
    "    return streamablehttp_client(\"http://localhost:8000/mcp\")\n",
    "\n",
    "\n",
    "streamable_http_mcp_client = MCPClient(create_streamable_http_transport)"
   ]
  },
  {
   "cell_type": "markdown",
   "metadata": {},
   "source": [
    "#### Setup agent configuration and invoke it\n",
    "\n",
    "Next we will set our agent configuration using the tools from the `streamable_http_mcp_client` object we just created. To do so, we need to list the tools available in the MCP server. We can use the `list_tools_sync` method for it. \n",
    "\n",
    "After that, we will ask a question to our agent."
   ]
  },
  {
   "cell_type": "code",
   "execution_count": 8,
   "metadata": {
    "execution": {
     "iopub.execute_input": "2025-07-30T20:03:11.622006Z",
     "iopub.status.busy": "2025-07-30T20:03:11.621741Z",
     "iopub.status.idle": "2025-07-30T20:03:16.203763Z",
     "shell.execute_reply": "2025-07-30T20:03:16.203294Z",
     "shell.execute_reply.started": "2025-07-30T20:03:11.621990Z"
    }
   },
   "outputs": [
    {
     "data": {
      "text/html": [
       "<pre style=\"white-space:pre;overflow-x:auto;line-height:normal;font-family:Menlo,'DejaVu Sans Mono',consolas,'Courier New',monospace\"><span style=\"color: #7fbfbf; text-decoration-color: #7fbfbf\">[07/30/25 20:03:11] </span><span style=\"color: #000080; text-decoration-color: #000080\">INFO    </span> StreamableHTTP session manager started                  <a href=\"file:///opt/conda/lib/python3.12/site-packages/mcp/server/streamable_http_manager.py\" target=\"_blank\"><span style=\"color: #7f7f7f; text-decoration-color: #7f7f7f\">streamable_http_manager.py</span></a><span style=\"color: #7f7f7f; text-decoration-color: #7f7f7f\">:</span><a href=\"file:///opt/conda/lib/python3.12/site-packages/mcp/server/streamable_http_manager.py#110\" target=\"_blank\"><span style=\"color: #7f7f7f; text-decoration-color: #7f7f7f\">110</span></a>\n",
       "</pre>\n"
      ],
      "text/plain": [
       "\u001b[2;36m[07/30/25 20:03:11]\u001b[0m\u001b[2;36m \u001b[0m\u001b[34mINFO    \u001b[0m StreamableHTTP session manager started                  \u001b]8;id=856968;file:///opt/conda/lib/python3.12/site-packages/mcp/server/streamable_http_manager.py\u001b\\\u001b[2mstreamable_http_manager.py\u001b[0m\u001b]8;;\u001b\\\u001b[2m:\u001b[0m\u001b]8;id=198410;file:///opt/conda/lib/python3.12/site-packages/mcp/server/streamable_http_manager.py#110\u001b\\\u001b[2m110\u001b[0m\u001b]8;;\u001b\\\n"
      ]
     },
     "metadata": {},
     "output_type": "display_data"
    },
    {
     "data": {
      "text/html": [
       "<pre style=\"white-space:pre;overflow-x:auto;line-height:normal;font-family:Menlo,'DejaVu Sans Mono',consolas,'Courier New',monospace\"><span style=\"color: #7fbfbf; text-decoration-color: #7fbfbf\">                    </span><span style=\"color: #000080; text-decoration-color: #000080\">INFO    </span> Created new transport with session ID:                  <a href=\"file:///opt/conda/lib/python3.12/site-packages/mcp/server/streamable_http_manager.py\" target=\"_blank\"><span style=\"color: #7f7f7f; text-decoration-color: #7f7f7f\">streamable_http_manager.py</span></a><span style=\"color: #7f7f7f; text-decoration-color: #7f7f7f\">:</span><a href=\"file:///opt/conda/lib/python3.12/site-packages/mcp/server/streamable_http_manager.py#233\" target=\"_blank\"><span style=\"color: #7f7f7f; text-decoration-color: #7f7f7f\">233</span></a>\n",
       "<span style=\"color: #7fbfbf; text-decoration-color: #7fbfbf\">                    </span>         2e4954886cde4e0886f47245e2c1608a                        <span style=\"color: #7f7f7f; text-decoration-color: #7f7f7f\">                              </span>\n",
       "</pre>\n"
      ],
      "text/plain": [
       "\u001b[2;36m                   \u001b[0m\u001b[2;36m \u001b[0m\u001b[34mINFO    \u001b[0m Created new transport with session ID:                  \u001b]8;id=975001;file:///opt/conda/lib/python3.12/site-packages/mcp/server/streamable_http_manager.py\u001b\\\u001b[2mstreamable_http_manager.py\u001b[0m\u001b]8;;\u001b\\\u001b[2m:\u001b[0m\u001b]8;id=384724;file:///opt/conda/lib/python3.12/site-packages/mcp/server/streamable_http_manager.py#233\u001b\\\u001b[2m233\u001b[0m\u001b]8;;\u001b\\\n",
       "\u001b[2;36m                    \u001b[0m         2e4954886cde4e0886f47245e2c1608a                        \u001b[2m                              \u001b[0m\n"
      ]
     },
     "metadata": {},
     "output_type": "display_data"
    },
    {
     "data": {
      "text/html": [
       "<pre style=\"white-space:pre;overflow-x:auto;line-height:normal;font-family:Menlo,'DejaVu Sans Mono',consolas,'Courier New',monospace\"><span style=\"color: #7fbfbf; text-decoration-color: #7fbfbf\">                    </span><span style=\"color: #000080; text-decoration-color: #000080\">INFO    </span> HTTP Request: <span style=\"color: #808000; text-decoration-color: #808000; font-weight: bold\">POST</span> <span style=\"color: #0000ff; text-decoration-color: #0000ff; text-decoration: underline\">http://localhost:8000/mcp</span> <span style=\"color: #008000; text-decoration-color: #008000\">\"HTTP/1.1 200 OK\"</span>         <a href=\"file:///opt/conda/lib/python3.12/site-packages/httpx/_client.py\" target=\"_blank\"><span style=\"color: #7f7f7f; text-decoration-color: #7f7f7f\">_client.py</span></a><span style=\"color: #7f7f7f; text-decoration-color: #7f7f7f\">:</span><a href=\"file:///opt/conda/lib/python3.12/site-packages/httpx/_client.py#1740\" target=\"_blank\"><span style=\"color: #7f7f7f; text-decoration-color: #7f7f7f\">1740</span></a>\n",
       "</pre>\n"
      ],
      "text/plain": [
       "\u001b[2;36m                   \u001b[0m\u001b[2;36m \u001b[0m\u001b[34mINFO    \u001b[0m HTTP Request: \u001b[1;33mPOST\u001b[0m \u001b[4;94mhttp://localhost:8000/mcp\u001b[0m \u001b[32m\"HTTP/1.1 200 OK\"\u001b[0m         \u001b]8;id=43315;file:///opt/conda/lib/python3.12/site-packages/httpx/_client.py\u001b\\\u001b[2m_client.py\u001b[0m\u001b]8;;\u001b\\\u001b[2m:\u001b[0m\u001b]8;id=595074;file:///opt/conda/lib/python3.12/site-packages/httpx/_client.py#1740\u001b\\\u001b[2m1740\u001b[0m\u001b]8;;\u001b\\\n"
      ]
     },
     "metadata": {},
     "output_type": "display_data"
    },
    {
     "data": {
      "text/html": [
       "<pre style=\"white-space:pre;overflow-x:auto;line-height:normal;font-family:Menlo,'DejaVu Sans Mono',consolas,'Courier New',monospace\"><span style=\"color: #7fbfbf; text-decoration-color: #7fbfbf\">                    </span><span style=\"color: #000080; text-decoration-color: #000080\">INFO    </span> Received session ID: 2e4954886cde4e0886f47245e2c1608a           <a href=\"file:///opt/conda/lib/python3.12/site-packages/mcp/client/streamable_http.py\" target=\"_blank\"><span style=\"color: #7f7f7f; text-decoration-color: #7f7f7f\">streamable_http.py</span></a><span style=\"color: #7f7f7f; text-decoration-color: #7f7f7f\">:</span><a href=\"file:///opt/conda/lib/python3.12/site-packages/mcp/client/streamable_http.py#134\" target=\"_blank\"><span style=\"color: #7f7f7f; text-decoration-color: #7f7f7f\">134</span></a>\n",
       "</pre>\n"
      ],
      "text/plain": [
       "\u001b[2;36m                   \u001b[0m\u001b[2;36m \u001b[0m\u001b[34mINFO    \u001b[0m Received session ID: 2e4954886cde4e0886f47245e2c1608a           \u001b]8;id=867442;file:///opt/conda/lib/python3.12/site-packages/mcp/client/streamable_http.py\u001b\\\u001b[2mstreamable_http.py\u001b[0m\u001b]8;;\u001b\\\u001b[2m:\u001b[0m\u001b]8;id=780551;file:///opt/conda/lib/python3.12/site-packages/mcp/client/streamable_http.py#134\u001b\\\u001b[2m134\u001b[0m\u001b]8;;\u001b\\\n"
      ]
     },
     "metadata": {},
     "output_type": "display_data"
    },
    {
     "data": {
      "text/html": [
       "<pre style=\"white-space:pre;overflow-x:auto;line-height:normal;font-family:Menlo,'DejaVu Sans Mono',consolas,'Courier New',monospace\"><span style=\"color: #7fbfbf; text-decoration-color: #7fbfbf\">                    </span><span style=\"color: #000080; text-decoration-color: #000080\">INFO    </span> Negotiated protocol version: <span style=\"color: #008080; text-decoration-color: #008080; font-weight: bold\">2025</span>-<span style=\"color: #008080; text-decoration-color: #008080; font-weight: bold\">06</span>-<span style=\"color: #008080; text-decoration-color: #008080; font-weight: bold\">18</span>                         <a href=\"file:///opt/conda/lib/python3.12/site-packages/mcp/client/streamable_http.py\" target=\"_blank\"><span style=\"color: #7f7f7f; text-decoration-color: #7f7f7f\">streamable_http.py</span></a><span style=\"color: #7f7f7f; text-decoration-color: #7f7f7f\">:</span><a href=\"file:///opt/conda/lib/python3.12/site-packages/mcp/client/streamable_http.py#146\" target=\"_blank\"><span style=\"color: #7f7f7f; text-decoration-color: #7f7f7f\">146</span></a>\n",
       "</pre>\n"
      ],
      "text/plain": [
       "\u001b[2;36m                   \u001b[0m\u001b[2;36m \u001b[0m\u001b[34mINFO    \u001b[0m Negotiated protocol version: \u001b[1;36m2025\u001b[0m-\u001b[1;36m06\u001b[0m-\u001b[1;36m18\u001b[0m                         \u001b]8;id=788200;file:///opt/conda/lib/python3.12/site-packages/mcp/client/streamable_http.py\u001b\\\u001b[2mstreamable_http.py\u001b[0m\u001b]8;;\u001b\\\u001b[2m:\u001b[0m\u001b]8;id=78578;file:///opt/conda/lib/python3.12/site-packages/mcp/client/streamable_http.py#146\u001b\\\u001b[2m146\u001b[0m\u001b]8;;\u001b\\\n"
      ]
     },
     "metadata": {},
     "output_type": "display_data"
    },
    {
     "data": {
      "text/html": [
       "<pre style=\"white-space:pre;overflow-x:auto;line-height:normal;font-family:Menlo,'DejaVu Sans Mono',consolas,'Courier New',monospace\"><span style=\"color: #7fbfbf; text-decoration-color: #7fbfbf\">                    </span><span style=\"color: #000080; text-decoration-color: #000080\">INFO    </span> HTTP Request: <span style=\"color: #808000; text-decoration-color: #808000; font-weight: bold\">POST</span> <span style=\"color: #0000ff; text-decoration-color: #0000ff; text-decoration: underline\">http://localhost:8000/mcp</span> <span style=\"color: #008000; text-decoration-color: #008000\">\"HTTP/1.1 202 Accepted\"</span>   <a href=\"file:///opt/conda/lib/python3.12/site-packages/httpx/_client.py\" target=\"_blank\"><span style=\"color: #7f7f7f; text-decoration-color: #7f7f7f\">_client.py</span></a><span style=\"color: #7f7f7f; text-decoration-color: #7f7f7f\">:</span><a href=\"file:///opt/conda/lib/python3.12/site-packages/httpx/_client.py#1740\" target=\"_blank\"><span style=\"color: #7f7f7f; text-decoration-color: #7f7f7f\">1740</span></a>\n",
       "</pre>\n"
      ],
      "text/plain": [
       "\u001b[2;36m                   \u001b[0m\u001b[2;36m \u001b[0m\u001b[34mINFO    \u001b[0m HTTP Request: \u001b[1;33mPOST\u001b[0m \u001b[4;94mhttp://localhost:8000/mcp\u001b[0m \u001b[32m\"HTTP/1.1 202 Accepted\"\u001b[0m   \u001b]8;id=14864;file:///opt/conda/lib/python3.12/site-packages/httpx/_client.py\u001b\\\u001b[2m_client.py\u001b[0m\u001b]8;;\u001b\\\u001b[2m:\u001b[0m\u001b]8;id=668743;file:///opt/conda/lib/python3.12/site-packages/httpx/_client.py#1740\u001b\\\u001b[2m1740\u001b[0m\u001b]8;;\u001b\\\n"
      ]
     },
     "metadata": {},
     "output_type": "display_data"
    },
    {
     "data": {
      "text/html": [
       "<pre style=\"white-space:pre;overflow-x:auto;line-height:normal;font-family:Menlo,'DejaVu Sans Mono',consolas,'Courier New',monospace\"><span style=\"color: #7fbfbf; text-decoration-color: #7fbfbf\">                    </span><span style=\"color: #000080; text-decoration-color: #000080\">INFO    </span> HTTP Request: <span style=\"color: #808000; text-decoration-color: #808000; font-weight: bold\">GET</span> <span style=\"color: #0000ff; text-decoration-color: #0000ff; text-decoration: underline\">http://localhost:8000/mcp</span> <span style=\"color: #008000; text-decoration-color: #008000\">\"HTTP/1.1 200 OK\"</span>          <a href=\"file:///opt/conda/lib/python3.12/site-packages/httpx/_client.py\" target=\"_blank\"><span style=\"color: #7f7f7f; text-decoration-color: #7f7f7f\">_client.py</span></a><span style=\"color: #7f7f7f; text-decoration-color: #7f7f7f\">:</span><a href=\"file:///opt/conda/lib/python3.12/site-packages/httpx/_client.py#1740\" target=\"_blank\"><span style=\"color: #7f7f7f; text-decoration-color: #7f7f7f\">1740</span></a>\n",
       "</pre>\n"
      ],
      "text/plain": [
       "\u001b[2;36m                   \u001b[0m\u001b[2;36m \u001b[0m\u001b[34mINFO    \u001b[0m HTTP Request: \u001b[1;33mGET\u001b[0m \u001b[4;94mhttp://localhost:8000/mcp\u001b[0m \u001b[32m\"HTTP/1.1 200 OK\"\u001b[0m          \u001b]8;id=667393;file:///opt/conda/lib/python3.12/site-packages/httpx/_client.py\u001b\\\u001b[2m_client.py\u001b[0m\u001b]8;;\u001b\\\u001b[2m:\u001b[0m\u001b]8;id=366018;file:///opt/conda/lib/python3.12/site-packages/httpx/_client.py#1740\u001b\\\u001b[2m1740\u001b[0m\u001b]8;;\u001b\\\n"
      ]
     },
     "metadata": {},
     "output_type": "display_data"
    },
    {
     "data": {
      "text/html": [
       "<pre style=\"white-space:pre;overflow-x:auto;line-height:normal;font-family:Menlo,'DejaVu Sans Mono',consolas,'Courier New',monospace\"><span style=\"color: #7fbfbf; text-decoration-color: #7fbfbf\">                    </span><span style=\"color: #000080; text-decoration-color: #000080\">INFO    </span> Processing request of type ListToolsRequest                              <a href=\"file:///opt/conda/lib/python3.12/site-packages/mcp/server/lowlevel/server.py\" target=\"_blank\"><span style=\"color: #7f7f7f; text-decoration-color: #7f7f7f\">server.py</span></a><span style=\"color: #7f7f7f; text-decoration-color: #7f7f7f\">:</span><a href=\"file:///opt/conda/lib/python3.12/site-packages/mcp/server/lowlevel/server.py#625\" target=\"_blank\"><span style=\"color: #7f7f7f; text-decoration-color: #7f7f7f\">625</span></a>\n",
       "</pre>\n"
      ],
      "text/plain": [
       "\u001b[2;36m                   \u001b[0m\u001b[2;36m \u001b[0m\u001b[34mINFO    \u001b[0m Processing request of type ListToolsRequest                              \u001b]8;id=403667;file:///opt/conda/lib/python3.12/site-packages/mcp/server/lowlevel/server.py\u001b\\\u001b[2mserver.py\u001b[0m\u001b]8;;\u001b\\\u001b[2m:\u001b[0m\u001b]8;id=583399;file:///opt/conda/lib/python3.12/site-packages/mcp/server/lowlevel/server.py#625\u001b\\\u001b[2m625\u001b[0m\u001b]8;;\u001b\\\n"
      ]
     },
     "metadata": {},
     "output_type": "display_data"
    },
    {
     "data": {
      "text/html": [
       "<pre style=\"white-space:pre;overflow-x:auto;line-height:normal;font-family:Menlo,'DejaVu Sans Mono',consolas,'Courier New',monospace\"><span style=\"color: #7fbfbf; text-decoration-color: #7fbfbf\">                    </span><span style=\"color: #000080; text-decoration-color: #000080\">INFO    </span> HTTP Request: <span style=\"color: #808000; text-decoration-color: #808000; font-weight: bold\">POST</span> <span style=\"color: #0000ff; text-decoration-color: #0000ff; text-decoration: underline\">http://localhost:8000/mcp</span> <span style=\"color: #008000; text-decoration-color: #008000\">\"HTTP/1.1 200 OK\"</span>         <a href=\"file:///opt/conda/lib/python3.12/site-packages/httpx/_client.py\" target=\"_blank\"><span style=\"color: #7f7f7f; text-decoration-color: #7f7f7f\">_client.py</span></a><span style=\"color: #7f7f7f; text-decoration-color: #7f7f7f\">:</span><a href=\"file:///opt/conda/lib/python3.12/site-packages/httpx/_client.py#1740\" target=\"_blank\"><span style=\"color: #7f7f7f; text-decoration-color: #7f7f7f\">1740</span></a>\n",
       "</pre>\n"
      ],
      "text/plain": [
       "\u001b[2;36m                   \u001b[0m\u001b[2;36m \u001b[0m\u001b[34mINFO    \u001b[0m HTTP Request: \u001b[1;33mPOST\u001b[0m \u001b[4;94mhttp://localhost:8000/mcp\u001b[0m \u001b[32m\"HTTP/1.1 200 OK\"\u001b[0m         \u001b]8;id=500542;file:///opt/conda/lib/python3.12/site-packages/httpx/_client.py\u001b\\\u001b[2m_client.py\u001b[0m\u001b]8;;\u001b\\\u001b[2m:\u001b[0m\u001b]8;id=498784;file:///opt/conda/lib/python3.12/site-packages/httpx/_client.py#1740\u001b\\\u001b[2m1740\u001b[0m\u001b]8;;\u001b\\\n"
      ]
     },
     "metadata": {},
     "output_type": "display_data"
    },
    {
     "name": "stdout",
     "output_type": "stream",
     "text": [
      "I can help you calculate 2 + 2 using the calculator tool.\n",
      "Tool #1: calculator\n"
     ]
    },
    {
     "data": {
      "text/html": [
       "<pre style=\"white-space:pre;overflow-x:auto;line-height:normal;font-family:Menlo,'DejaVu Sans Mono',consolas,'Courier New',monospace\"><span style=\"color: #7fbfbf; text-decoration-color: #7fbfbf\">[07/30/25 20:03:14] </span><span style=\"color: #000080; text-decoration-color: #000080\">INFO    </span> HTTP Request: <span style=\"color: #808000; text-decoration-color: #808000; font-weight: bold\">POST</span> <span style=\"color: #0000ff; text-decoration-color: #0000ff; text-decoration: underline\">http://localhost:8000/mcp</span> <span style=\"color: #008000; text-decoration-color: #008000\">\"HTTP/1.1 200 OK\"</span>         <a href=\"file:///opt/conda/lib/python3.12/site-packages/httpx/_client.py\" target=\"_blank\"><span style=\"color: #7f7f7f; text-decoration-color: #7f7f7f\">_client.py</span></a><span style=\"color: #7f7f7f; text-decoration-color: #7f7f7f\">:</span><a href=\"file:///opt/conda/lib/python3.12/site-packages/httpx/_client.py#1740\" target=\"_blank\"><span style=\"color: #7f7f7f; text-decoration-color: #7f7f7f\">1740</span></a>\n",
       "</pre>\n"
      ],
      "text/plain": [
       "\u001b[2;36m[07/30/25 20:03:14]\u001b[0m\u001b[2;36m \u001b[0m\u001b[34mINFO    \u001b[0m HTTP Request: \u001b[1;33mPOST\u001b[0m \u001b[4;94mhttp://localhost:8000/mcp\u001b[0m \u001b[32m\"HTTP/1.1 200 OK\"\u001b[0m         \u001b]8;id=715365;file:///opt/conda/lib/python3.12/site-packages/httpx/_client.py\u001b\\\u001b[2m_client.py\u001b[0m\u001b]8;;\u001b\\\u001b[2m:\u001b[0m\u001b]8;id=870082;file:///opt/conda/lib/python3.12/site-packages/httpx/_client.py#1740\u001b\\\u001b[2m1740\u001b[0m\u001b]8;;\u001b\\\n"
      ]
     },
     "metadata": {},
     "output_type": "display_data"
    },
    {
     "data": {
      "text/html": [
       "<pre style=\"white-space:pre;overflow-x:auto;line-height:normal;font-family:Menlo,'DejaVu Sans Mono',consolas,'Courier New',monospace\"><span style=\"color: #7fbfbf; text-decoration-color: #7fbfbf\">                    </span><span style=\"color: #000080; text-decoration-color: #000080\">INFO    </span> Processing request of type CallToolRequest                               <a href=\"file:///opt/conda/lib/python3.12/site-packages/mcp/server/lowlevel/server.py\" target=\"_blank\"><span style=\"color: #7f7f7f; text-decoration-color: #7f7f7f\">server.py</span></a><span style=\"color: #7f7f7f; text-decoration-color: #7f7f7f\">:</span><a href=\"file:///opt/conda/lib/python3.12/site-packages/mcp/server/lowlevel/server.py#625\" target=\"_blank\"><span style=\"color: #7f7f7f; text-decoration-color: #7f7f7f\">625</span></a>\n",
       "</pre>\n"
      ],
      "text/plain": [
       "\u001b[2;36m                   \u001b[0m\u001b[2;36m \u001b[0m\u001b[34mINFO    \u001b[0m Processing request of type CallToolRequest                               \u001b]8;id=291321;file:///opt/conda/lib/python3.12/site-packages/mcp/server/lowlevel/server.py\u001b\\\u001b[2mserver.py\u001b[0m\u001b]8;;\u001b\\\u001b[2m:\u001b[0m\u001b]8;id=643542;file:///opt/conda/lib/python3.12/site-packages/mcp/server/lowlevel/server.py#625\u001b\\\u001b[2m625\u001b[0m\u001b]8;;\u001b\\\n"
      ]
     },
     "metadata": {},
     "output_type": "display_data"
    },
    {
     "name": "stdout",
     "output_type": "stream",
     "text": [
      "The answer to 2 + 2 is 4."
     ]
    },
    {
     "data": {
      "text/html": [
       "<pre style=\"white-space:pre;overflow-x:auto;line-height:normal;font-family:Menlo,'DejaVu Sans Mono',consolas,'Courier New',monospace\"><span style=\"color: #7fbfbf; text-decoration-color: #7fbfbf\">[07/30/25 20:03:16] </span><span style=\"color: #000080; text-decoration-color: #000080\">INFO    </span> Terminating session: 2e4954886cde4e0886f47245e2c1608a           <a href=\"file:///opt/conda/lib/python3.12/site-packages/mcp/server/streamable_http.py\" target=\"_blank\"><span style=\"color: #7f7f7f; text-decoration-color: #7f7f7f\">streamable_http.py</span></a><span style=\"color: #7f7f7f; text-decoration-color: #7f7f7f\">:</span><a href=\"file:///opt/conda/lib/python3.12/site-packages/mcp/server/streamable_http.py#630\" target=\"_blank\"><span style=\"color: #7f7f7f; text-decoration-color: #7f7f7f\">630</span></a>\n",
       "</pre>\n"
      ],
      "text/plain": [
       "\u001b[2;36m[07/30/25 20:03:16]\u001b[0m\u001b[2;36m \u001b[0m\u001b[34mINFO    \u001b[0m Terminating session: 2e4954886cde4e0886f47245e2c1608a           \u001b]8;id=177876;file:///opt/conda/lib/python3.12/site-packages/mcp/server/streamable_http.py\u001b\\\u001b[2mstreamable_http.py\u001b[0m\u001b]8;;\u001b\\\u001b[2m:\u001b[0m\u001b]8;id=268068;file:///opt/conda/lib/python3.12/site-packages/mcp/server/streamable_http.py#630\u001b\\\u001b[2m630\u001b[0m\u001b]8;;\u001b\\\n"
      ]
     },
     "metadata": {},
     "output_type": "display_data"
    },
    {
     "data": {
      "text/html": [
       "<pre style=\"white-space:pre;overflow-x:auto;line-height:normal;font-family:Menlo,'DejaVu Sans Mono',consolas,'Courier New',monospace\"><span style=\"color: #7fbfbf; text-decoration-color: #7fbfbf\">                    </span><span style=\"color: #000080; text-decoration-color: #000080\">INFO    </span> HTTP Request: <span style=\"color: #808000; text-decoration-color: #808000; font-weight: bold\">DELETE</span> <span style=\"color: #0000ff; text-decoration-color: #0000ff; text-decoration: underline\">http://localhost:8000/mcp</span> <span style=\"color: #008000; text-decoration-color: #008000\">\"HTTP/1.1 200 OK\"</span>       <a href=\"file:///opt/conda/lib/python3.12/site-packages/httpx/_client.py\" target=\"_blank\"><span style=\"color: #7f7f7f; text-decoration-color: #7f7f7f\">_client.py</span></a><span style=\"color: #7f7f7f; text-decoration-color: #7f7f7f\">:</span><a href=\"file:///opt/conda/lib/python3.12/site-packages/httpx/_client.py#1740\" target=\"_blank\"><span style=\"color: #7f7f7f; text-decoration-color: #7f7f7f\">1740</span></a>\n",
       "</pre>\n"
      ],
      "text/plain": [
       "\u001b[2;36m                   \u001b[0m\u001b[2;36m \u001b[0m\u001b[34mINFO    \u001b[0m HTTP Request: \u001b[1;33mDELETE\u001b[0m \u001b[4;94mhttp://localhost:8000/mcp\u001b[0m \u001b[32m\"HTTP/1.1 200 OK\"\u001b[0m       \u001b]8;id=520217;file:///opt/conda/lib/python3.12/site-packages/httpx/_client.py\u001b\\\u001b[2m_client.py\u001b[0m\u001b]8;;\u001b\\\u001b[2m:\u001b[0m\u001b]8;id=653002;file:///opt/conda/lib/python3.12/site-packages/httpx/_client.py#1740\u001b\\\u001b[2m1740\u001b[0m\u001b]8;;\u001b\\\n"
      ]
     },
     "metadata": {},
     "output_type": "display_data"
    }
   ],
   "source": [
    "with streamable_http_mcp_client:\n",
    "    tools = streamable_http_mcp_client.list_tools_sync()\n",
    "\n",
    "    agent = Agent(\n",
    "        model=\"us.anthropic.claude-3-7-sonnet-20250219-v1:0\",\n",
    "        tools=tools)\n",
    "\n",
    "    response = str(agent(\"What is 2 + 2?\"))"
   ]
  },
  {
   "cell_type": "markdown",
   "metadata": {},
   "source": [
    "### Direct Tool Invocation"
   ]
  },
  {
   "cell_type": "markdown",
   "metadata": {},
   "source": [
    "While tools are typically invoked by the agent based on user requests, you can also call MCP tools directly. This can be useful for workflow scenarios where you orchestrate multiple tools together."
   ]
  },
  {
   "cell_type": "code",
   "execution_count": 9,
   "metadata": {
    "execution": {
     "iopub.execute_input": "2025-07-30T20:03:16.204620Z",
     "iopub.status.busy": "2025-07-30T20:03:16.204369Z",
     "iopub.status.idle": "2025-07-30T20:03:16.278561Z",
     "shell.execute_reply": "2025-07-30T20:03:16.278096Z",
     "shell.execute_reply.started": "2025-07-30T20:03:16.204602Z"
    }
   },
   "outputs": [
    {
     "data": {
      "text/html": [
       "<pre style=\"white-space:pre;overflow-x:auto;line-height:normal;font-family:Menlo,'DejaVu Sans Mono',consolas,'Courier New',monospace\"><span style=\"color: #7fbfbf; text-decoration-color: #7fbfbf\">                    </span><span style=\"color: #000080; text-decoration-color: #000080\">INFO    </span> Created new transport with session ID:                  <a href=\"file:///opt/conda/lib/python3.12/site-packages/mcp/server/streamable_http_manager.py\" target=\"_blank\"><span style=\"color: #7f7f7f; text-decoration-color: #7f7f7f\">streamable_http_manager.py</span></a><span style=\"color: #7f7f7f; text-decoration-color: #7f7f7f\">:</span><a href=\"file:///opt/conda/lib/python3.12/site-packages/mcp/server/streamable_http_manager.py#233\" target=\"_blank\"><span style=\"color: #7f7f7f; text-decoration-color: #7f7f7f\">233</span></a>\n",
       "<span style=\"color: #7fbfbf; text-decoration-color: #7fbfbf\">                    </span>         866ab3aea6304316baf5ba19da0860a9                        <span style=\"color: #7f7f7f; text-decoration-color: #7f7f7f\">                              </span>\n",
       "</pre>\n"
      ],
      "text/plain": [
       "\u001b[2;36m                   \u001b[0m\u001b[2;36m \u001b[0m\u001b[34mINFO    \u001b[0m Created new transport with session ID:                  \u001b]8;id=984687;file:///opt/conda/lib/python3.12/site-packages/mcp/server/streamable_http_manager.py\u001b\\\u001b[2mstreamable_http_manager.py\u001b[0m\u001b]8;;\u001b\\\u001b[2m:\u001b[0m\u001b]8;id=678854;file:///opt/conda/lib/python3.12/site-packages/mcp/server/streamable_http_manager.py#233\u001b\\\u001b[2m233\u001b[0m\u001b]8;;\u001b\\\n",
       "\u001b[2;36m                    \u001b[0m         866ab3aea6304316baf5ba19da0860a9                        \u001b[2m                              \u001b[0m\n"
      ]
     },
     "metadata": {},
     "output_type": "display_data"
    },
    {
     "data": {
      "text/html": [
       "<pre style=\"white-space:pre;overflow-x:auto;line-height:normal;font-family:Menlo,'DejaVu Sans Mono',consolas,'Courier New',monospace\"><span style=\"color: #7fbfbf; text-decoration-color: #7fbfbf\">                    </span><span style=\"color: #000080; text-decoration-color: #000080\">INFO    </span> HTTP Request: <span style=\"color: #808000; text-decoration-color: #808000; font-weight: bold\">POST</span> <span style=\"color: #0000ff; text-decoration-color: #0000ff; text-decoration: underline\">http://localhost:8000/mcp</span> <span style=\"color: #008000; text-decoration-color: #008000\">\"HTTP/1.1 200 OK\"</span>         <a href=\"file:///opt/conda/lib/python3.12/site-packages/httpx/_client.py\" target=\"_blank\"><span style=\"color: #7f7f7f; text-decoration-color: #7f7f7f\">_client.py</span></a><span style=\"color: #7f7f7f; text-decoration-color: #7f7f7f\">:</span><a href=\"file:///opt/conda/lib/python3.12/site-packages/httpx/_client.py#1740\" target=\"_blank\"><span style=\"color: #7f7f7f; text-decoration-color: #7f7f7f\">1740</span></a>\n",
       "</pre>\n"
      ],
      "text/plain": [
       "\u001b[2;36m                   \u001b[0m\u001b[2;36m \u001b[0m\u001b[34mINFO    \u001b[0m HTTP Request: \u001b[1;33mPOST\u001b[0m \u001b[4;94mhttp://localhost:8000/mcp\u001b[0m \u001b[32m\"HTTP/1.1 200 OK\"\u001b[0m         \u001b]8;id=739721;file:///opt/conda/lib/python3.12/site-packages/httpx/_client.py\u001b\\\u001b[2m_client.py\u001b[0m\u001b]8;;\u001b\\\u001b[2m:\u001b[0m\u001b]8;id=443782;file:///opt/conda/lib/python3.12/site-packages/httpx/_client.py#1740\u001b\\\u001b[2m1740\u001b[0m\u001b]8;;\u001b\\\n"
      ]
     },
     "metadata": {},
     "output_type": "display_data"
    },
    {
     "data": {
      "text/html": [
       "<pre style=\"white-space:pre;overflow-x:auto;line-height:normal;font-family:Menlo,'DejaVu Sans Mono',consolas,'Courier New',monospace\"><span style=\"color: #7fbfbf; text-decoration-color: #7fbfbf\">                    </span><span style=\"color: #000080; text-decoration-color: #000080\">INFO    </span> Received session ID: 866ab3aea6304316baf5ba19da0860a9           <a href=\"file:///opt/conda/lib/python3.12/site-packages/mcp/client/streamable_http.py\" target=\"_blank\"><span style=\"color: #7f7f7f; text-decoration-color: #7f7f7f\">streamable_http.py</span></a><span style=\"color: #7f7f7f; text-decoration-color: #7f7f7f\">:</span><a href=\"file:///opt/conda/lib/python3.12/site-packages/mcp/client/streamable_http.py#134\" target=\"_blank\"><span style=\"color: #7f7f7f; text-decoration-color: #7f7f7f\">134</span></a>\n",
       "</pre>\n"
      ],
      "text/plain": [
       "\u001b[2;36m                   \u001b[0m\u001b[2;36m \u001b[0m\u001b[34mINFO    \u001b[0m Received session ID: 866ab3aea6304316baf5ba19da0860a9           \u001b]8;id=977084;file:///opt/conda/lib/python3.12/site-packages/mcp/client/streamable_http.py\u001b\\\u001b[2mstreamable_http.py\u001b[0m\u001b]8;;\u001b\\\u001b[2m:\u001b[0m\u001b]8;id=592663;file:///opt/conda/lib/python3.12/site-packages/mcp/client/streamable_http.py#134\u001b\\\u001b[2m134\u001b[0m\u001b]8;;\u001b\\\n"
      ]
     },
     "metadata": {},
     "output_type": "display_data"
    },
    {
     "data": {
      "text/html": [
       "<pre style=\"white-space:pre;overflow-x:auto;line-height:normal;font-family:Menlo,'DejaVu Sans Mono',consolas,'Courier New',monospace\"><span style=\"color: #7fbfbf; text-decoration-color: #7fbfbf\">                    </span><span style=\"color: #000080; text-decoration-color: #000080\">INFO    </span> Negotiated protocol version: <span style=\"color: #008080; text-decoration-color: #008080; font-weight: bold\">2025</span>-<span style=\"color: #008080; text-decoration-color: #008080; font-weight: bold\">06</span>-<span style=\"color: #008080; text-decoration-color: #008080; font-weight: bold\">18</span>                         <a href=\"file:///opt/conda/lib/python3.12/site-packages/mcp/client/streamable_http.py\" target=\"_blank\"><span style=\"color: #7f7f7f; text-decoration-color: #7f7f7f\">streamable_http.py</span></a><span style=\"color: #7f7f7f; text-decoration-color: #7f7f7f\">:</span><a href=\"file:///opt/conda/lib/python3.12/site-packages/mcp/client/streamable_http.py#146\" target=\"_blank\"><span style=\"color: #7f7f7f; text-decoration-color: #7f7f7f\">146</span></a>\n",
       "</pre>\n"
      ],
      "text/plain": [
       "\u001b[2;36m                   \u001b[0m\u001b[2;36m \u001b[0m\u001b[34mINFO    \u001b[0m Negotiated protocol version: \u001b[1;36m2025\u001b[0m-\u001b[1;36m06\u001b[0m-\u001b[1;36m18\u001b[0m                         \u001b]8;id=137888;file:///opt/conda/lib/python3.12/site-packages/mcp/client/streamable_http.py\u001b\\\u001b[2mstreamable_http.py\u001b[0m\u001b]8;;\u001b\\\u001b[2m:\u001b[0m\u001b]8;id=137944;file:///opt/conda/lib/python3.12/site-packages/mcp/client/streamable_http.py#146\u001b\\\u001b[2m146\u001b[0m\u001b]8;;\u001b\\\n"
      ]
     },
     "metadata": {},
     "output_type": "display_data"
    },
    {
     "data": {
      "text/html": [
       "<pre style=\"white-space:pre;overflow-x:auto;line-height:normal;font-family:Menlo,'DejaVu Sans Mono',consolas,'Courier New',monospace\"><span style=\"color: #7fbfbf; text-decoration-color: #7fbfbf\">                    </span><span style=\"color: #000080; text-decoration-color: #000080\">INFO    </span> HTTP Request: <span style=\"color: #808000; text-decoration-color: #808000; font-weight: bold\">POST</span> <span style=\"color: #0000ff; text-decoration-color: #0000ff; text-decoration: underline\">http://localhost:8000/mcp</span> <span style=\"color: #008000; text-decoration-color: #008000\">\"HTTP/1.1 202 Accepted\"</span>   <a href=\"file:///opt/conda/lib/python3.12/site-packages/httpx/_client.py\" target=\"_blank\"><span style=\"color: #7f7f7f; text-decoration-color: #7f7f7f\">_client.py</span></a><span style=\"color: #7f7f7f; text-decoration-color: #7f7f7f\">:</span><a href=\"file:///opt/conda/lib/python3.12/site-packages/httpx/_client.py#1740\" target=\"_blank\"><span style=\"color: #7f7f7f; text-decoration-color: #7f7f7f\">1740</span></a>\n",
       "</pre>\n"
      ],
      "text/plain": [
       "\u001b[2;36m                   \u001b[0m\u001b[2;36m \u001b[0m\u001b[34mINFO    \u001b[0m HTTP Request: \u001b[1;33mPOST\u001b[0m \u001b[4;94mhttp://localhost:8000/mcp\u001b[0m \u001b[32m\"HTTP/1.1 202 Accepted\"\u001b[0m   \u001b]8;id=74027;file:///opt/conda/lib/python3.12/site-packages/httpx/_client.py\u001b\\\u001b[2m_client.py\u001b[0m\u001b]8;;\u001b\\\u001b[2m:\u001b[0m\u001b]8;id=886631;file:///opt/conda/lib/python3.12/site-packages/httpx/_client.py#1740\u001b\\\u001b[2m1740\u001b[0m\u001b]8;;\u001b\\\n"
      ]
     },
     "metadata": {},
     "output_type": "display_data"
    },
    {
     "data": {
      "text/html": [
       "<pre style=\"white-space:pre;overflow-x:auto;line-height:normal;font-family:Menlo,'DejaVu Sans Mono',consolas,'Courier New',monospace\"><span style=\"color: #7fbfbf; text-decoration-color: #7fbfbf\">                    </span><span style=\"color: #000080; text-decoration-color: #000080\">INFO    </span> HTTP Request: <span style=\"color: #808000; text-decoration-color: #808000; font-weight: bold\">GET</span> <span style=\"color: #0000ff; text-decoration-color: #0000ff; text-decoration: underline\">http://localhost:8000/mcp</span> <span style=\"color: #008000; text-decoration-color: #008000\">\"HTTP/1.1 200 OK\"</span>          <a href=\"file:///opt/conda/lib/python3.12/site-packages/httpx/_client.py\" target=\"_blank\"><span style=\"color: #7f7f7f; text-decoration-color: #7f7f7f\">_client.py</span></a><span style=\"color: #7f7f7f; text-decoration-color: #7f7f7f\">:</span><a href=\"file:///opt/conda/lib/python3.12/site-packages/httpx/_client.py#1740\" target=\"_blank\"><span style=\"color: #7f7f7f; text-decoration-color: #7f7f7f\">1740</span></a>\n",
       "</pre>\n"
      ],
      "text/plain": [
       "\u001b[2;36m                   \u001b[0m\u001b[2;36m \u001b[0m\u001b[34mINFO    \u001b[0m HTTP Request: \u001b[1;33mGET\u001b[0m \u001b[4;94mhttp://localhost:8000/mcp\u001b[0m \u001b[32m\"HTTP/1.1 200 OK\"\u001b[0m          \u001b]8;id=308356;file:///opt/conda/lib/python3.12/site-packages/httpx/_client.py\u001b\\\u001b[2m_client.py\u001b[0m\u001b]8;;\u001b\\\u001b[2m:\u001b[0m\u001b]8;id=316946;file:///opt/conda/lib/python3.12/site-packages/httpx/_client.py#1740\u001b\\\u001b[2m1740\u001b[0m\u001b]8;;\u001b\\\n"
      ]
     },
     "metadata": {},
     "output_type": "display_data"
    },
    {
     "data": {
      "text/html": [
       "<pre style=\"white-space:pre;overflow-x:auto;line-height:normal;font-family:Menlo,'DejaVu Sans Mono',consolas,'Courier New',monospace\"><span style=\"color: #7fbfbf; text-decoration-color: #7fbfbf\">                    </span><span style=\"color: #000080; text-decoration-color: #000080\">INFO    </span> Processing request of type CallToolRequest                               <a href=\"file:///opt/conda/lib/python3.12/site-packages/mcp/server/lowlevel/server.py\" target=\"_blank\"><span style=\"color: #7f7f7f; text-decoration-color: #7f7f7f\">server.py</span></a><span style=\"color: #7f7f7f; text-decoration-color: #7f7f7f\">:</span><a href=\"file:///opt/conda/lib/python3.12/site-packages/mcp/server/lowlevel/server.py#625\" target=\"_blank\"><span style=\"color: #7f7f7f; text-decoration-color: #7f7f7f\">625</span></a>\n",
       "</pre>\n"
      ],
      "text/plain": [
       "\u001b[2;36m                   \u001b[0m\u001b[2;36m \u001b[0m\u001b[34mINFO    \u001b[0m Processing request of type CallToolRequest                               \u001b]8;id=170331;file:///opt/conda/lib/python3.12/site-packages/mcp/server/lowlevel/server.py\u001b\\\u001b[2mserver.py\u001b[0m\u001b]8;;\u001b\\\u001b[2m:\u001b[0m\u001b]8;id=325246;file:///opt/conda/lib/python3.12/site-packages/mcp/server/lowlevel/server.py#625\u001b\\\u001b[2m625\u001b[0m\u001b]8;;\u001b\\\n"
      ]
     },
     "metadata": {},
     "output_type": "display_data"
    },
    {
     "data": {
      "text/html": [
       "<pre style=\"white-space:pre;overflow-x:auto;line-height:normal;font-family:Menlo,'DejaVu Sans Mono',consolas,'Courier New',monospace\"><span style=\"color: #7fbfbf; text-decoration-color: #7fbfbf\">                    </span><span style=\"color: #000080; text-decoration-color: #000080\">INFO    </span> HTTP Request: <span style=\"color: #808000; text-decoration-color: #808000; font-weight: bold\">POST</span> <span style=\"color: #0000ff; text-decoration-color: #0000ff; text-decoration: underline\">http://localhost:8000/mcp</span> <span style=\"color: #008000; text-decoration-color: #008000\">\"HTTP/1.1 200 OK\"</span>         <a href=\"file:///opt/conda/lib/python3.12/site-packages/httpx/_client.py\" target=\"_blank\"><span style=\"color: #7f7f7f; text-decoration-color: #7f7f7f\">_client.py</span></a><span style=\"color: #7f7f7f; text-decoration-color: #7f7f7f\">:</span><a href=\"file:///opt/conda/lib/python3.12/site-packages/httpx/_client.py#1740\" target=\"_blank\"><span style=\"color: #7f7f7f; text-decoration-color: #7f7f7f\">1740</span></a>\n",
       "</pre>\n"
      ],
      "text/plain": [
       "\u001b[2;36m                   \u001b[0m\u001b[2;36m \u001b[0m\u001b[34mINFO    \u001b[0m HTTP Request: \u001b[1;33mPOST\u001b[0m \u001b[4;94mhttp://localhost:8000/mcp\u001b[0m \u001b[32m\"HTTP/1.1 200 OK\"\u001b[0m         \u001b]8;id=939491;file:///opt/conda/lib/python3.12/site-packages/httpx/_client.py\u001b\\\u001b[2m_client.py\u001b[0m\u001b]8;;\u001b\\\u001b[2m:\u001b[0m\u001b]8;id=220079;file:///opt/conda/lib/python3.12/site-packages/httpx/_client.py#1740\u001b\\\u001b[2m1740\u001b[0m\u001b]8;;\u001b\\\n"
      ]
     },
     "metadata": {},
     "output_type": "display_data"
    },
    {
     "data": {
      "text/html": [
       "<pre style=\"white-space:pre;overflow-x:auto;line-height:normal;font-family:Menlo,'DejaVu Sans Mono',consolas,'Courier New',monospace\"><span style=\"color: #7fbfbf; text-decoration-color: #7fbfbf\">                    </span><span style=\"color: #000080; text-decoration-color: #000080\">INFO    </span> Processing request of type ListToolsRequest                              <a href=\"file:///opt/conda/lib/python3.12/site-packages/mcp/server/lowlevel/server.py\" target=\"_blank\"><span style=\"color: #7f7f7f; text-decoration-color: #7f7f7f\">server.py</span></a><span style=\"color: #7f7f7f; text-decoration-color: #7f7f7f\">:</span><a href=\"file:///opt/conda/lib/python3.12/site-packages/mcp/server/lowlevel/server.py#625\" target=\"_blank\"><span style=\"color: #7f7f7f; text-decoration-color: #7f7f7f\">625</span></a>\n",
       "</pre>\n"
      ],
      "text/plain": [
       "\u001b[2;36m                   \u001b[0m\u001b[2;36m \u001b[0m\u001b[34mINFO    \u001b[0m Processing request of type ListToolsRequest                              \u001b]8;id=312995;file:///opt/conda/lib/python3.12/site-packages/mcp/server/lowlevel/server.py\u001b\\\u001b[2mserver.py\u001b[0m\u001b]8;;\u001b\\\u001b[2m:\u001b[0m\u001b]8;id=745741;file:///opt/conda/lib/python3.12/site-packages/mcp/server/lowlevel/server.py#625\u001b\\\u001b[2m625\u001b[0m\u001b]8;;\u001b\\\n"
      ]
     },
     "metadata": {},
     "output_type": "display_data"
    },
    {
     "data": {
      "text/html": [
       "<pre style=\"white-space:pre;overflow-x:auto;line-height:normal;font-family:Menlo,'DejaVu Sans Mono',consolas,'Courier New',monospace\"><span style=\"color: #7fbfbf; text-decoration-color: #7fbfbf\">                    </span><span style=\"color: #000080; text-decoration-color: #000080\">INFO    </span> HTTP Request: <span style=\"color: #808000; text-decoration-color: #808000; font-weight: bold\">POST</span> <span style=\"color: #0000ff; text-decoration-color: #0000ff; text-decoration: underline\">http://localhost:8000/mcp</span> <span style=\"color: #008000; text-decoration-color: #008000\">\"HTTP/1.1 200 OK\"</span>         <a href=\"file:///opt/conda/lib/python3.12/site-packages/httpx/_client.py\" target=\"_blank\"><span style=\"color: #7f7f7f; text-decoration-color: #7f7f7f\">_client.py</span></a><span style=\"color: #7f7f7f; text-decoration-color: #7f7f7f\">:</span><a href=\"file:///opt/conda/lib/python3.12/site-packages/httpx/_client.py#1740\" target=\"_blank\"><span style=\"color: #7f7f7f; text-decoration-color: #7f7f7f\">1740</span></a>\n",
       "</pre>\n"
      ],
      "text/plain": [
       "\u001b[2;36m                   \u001b[0m\u001b[2;36m \u001b[0m\u001b[34mINFO    \u001b[0m HTTP Request: \u001b[1;33mPOST\u001b[0m \u001b[4;94mhttp://localhost:8000/mcp\u001b[0m \u001b[32m\"HTTP/1.1 200 OK\"\u001b[0m         \u001b]8;id=380982;file:///opt/conda/lib/python3.12/site-packages/httpx/_client.py\u001b\\\u001b[2m_client.py\u001b[0m\u001b]8;;\u001b\\\u001b[2m:\u001b[0m\u001b]8;id=593270;file:///opt/conda/lib/python3.12/site-packages/httpx/_client.py#1740\u001b\\\u001b[2m1740\u001b[0m\u001b]8;;\u001b\\\n"
      ]
     },
     "metadata": {},
     "output_type": "display_data"
    },
    {
     "name": "stdout",
     "output_type": "stream",
     "text": [
      "Calculation result: 30\n"
     ]
    },
    {
     "data": {
      "text/html": [
       "<pre style=\"white-space:pre;overflow-x:auto;line-height:normal;font-family:Menlo,'DejaVu Sans Mono',consolas,'Courier New',monospace\"><span style=\"color: #7fbfbf; text-decoration-color: #7fbfbf\">                    </span><span style=\"color: #000080; text-decoration-color: #000080\">INFO    </span> Terminating session: 866ab3aea6304316baf5ba19da0860a9           <a href=\"file:///opt/conda/lib/python3.12/site-packages/mcp/server/streamable_http.py\" target=\"_blank\"><span style=\"color: #7f7f7f; text-decoration-color: #7f7f7f\">streamable_http.py</span></a><span style=\"color: #7f7f7f; text-decoration-color: #7f7f7f\">:</span><a href=\"file:///opt/conda/lib/python3.12/site-packages/mcp/server/streamable_http.py#630\" target=\"_blank\"><span style=\"color: #7f7f7f; text-decoration-color: #7f7f7f\">630</span></a>\n",
       "</pre>\n"
      ],
      "text/plain": [
       "\u001b[2;36m                   \u001b[0m\u001b[2;36m \u001b[0m\u001b[34mINFO    \u001b[0m Terminating session: 866ab3aea6304316baf5ba19da0860a9           \u001b]8;id=434748;file:///opt/conda/lib/python3.12/site-packages/mcp/server/streamable_http.py\u001b\\\u001b[2mstreamable_http.py\u001b[0m\u001b]8;;\u001b\\\u001b[2m:\u001b[0m\u001b]8;id=993465;file:///opt/conda/lib/python3.12/site-packages/mcp/server/streamable_http.py#630\u001b\\\u001b[2m630\u001b[0m\u001b]8;;\u001b\\\n"
      ]
     },
     "metadata": {},
     "output_type": "display_data"
    },
    {
     "data": {
      "text/html": [
       "<pre style=\"white-space:pre;overflow-x:auto;line-height:normal;font-family:Menlo,'DejaVu Sans Mono',consolas,'Courier New',monospace\"><span style=\"color: #7fbfbf; text-decoration-color: #7fbfbf\">                    </span><span style=\"color: #000080; text-decoration-color: #000080\">INFO    </span> HTTP Request: <span style=\"color: #808000; text-decoration-color: #808000; font-weight: bold\">DELETE</span> <span style=\"color: #0000ff; text-decoration-color: #0000ff; text-decoration: underline\">http://localhost:8000/mcp</span> <span style=\"color: #008000; text-decoration-color: #008000\">\"HTTP/1.1 200 OK\"</span>       <a href=\"file:///opt/conda/lib/python3.12/site-packages/httpx/_client.py\" target=\"_blank\"><span style=\"color: #7f7f7f; text-decoration-color: #7f7f7f\">_client.py</span></a><span style=\"color: #7f7f7f; text-decoration-color: #7f7f7f\">:</span><a href=\"file:///opt/conda/lib/python3.12/site-packages/httpx/_client.py#1740\" target=\"_blank\"><span style=\"color: #7f7f7f; text-decoration-color: #7f7f7f\">1740</span></a>\n",
       "</pre>\n"
      ],
      "text/plain": [
       "\u001b[2;36m                   \u001b[0m\u001b[2;36m \u001b[0m\u001b[34mINFO    \u001b[0m HTTP Request: \u001b[1;33mDELETE\u001b[0m \u001b[4;94mhttp://localhost:8000/mcp\u001b[0m \u001b[32m\"HTTP/1.1 200 OK\"\u001b[0m       \u001b]8;id=572526;file:///opt/conda/lib/python3.12/site-packages/httpx/_client.py\u001b\\\u001b[2m_client.py\u001b[0m\u001b]8;;\u001b\\\u001b[2m:\u001b[0m\u001b]8;id=389493;file:///opt/conda/lib/python3.12/site-packages/httpx/_client.py#1740\u001b\\\u001b[2m1740\u001b[0m\u001b]8;;\u001b\\\n"
      ]
     },
     "metadata": {},
     "output_type": "display_data"
    }
   ],
   "source": [
    "query = {\"x\": 10, \"y\": 20}\n",
    "\n",
    "with streamable_http_mcp_client:\n",
    "    # direct tool invocation\n",
    "    result = streamable_http_mcp_client.call_tool_sync(\n",
    "        tool_use_id=\"tool-123\", name=\"calculator\", arguments=query\n",
    "    )\n",
    "\n",
    "    # Process the result\n",
    "    print(f\"Calculation result: {result['content'][0]['text']}\")"
   ]
  },
  {
   "cell_type": "markdown",
   "metadata": {},
   "source": [
    "You can optionally also provide `read_timeout_seconds` while calling an MCP server tool to avoid it running for too long"
   ]
  },
  {
   "cell_type": "code",
   "execution_count": 10,
   "metadata": {
    "execution": {
     "iopub.execute_input": "2025-07-30T20:03:16.279400Z",
     "iopub.status.busy": "2025-07-30T20:03:16.279159Z",
     "iopub.status.idle": "2025-07-30T20:03:41.344224Z",
     "shell.execute_reply": "2025-07-30T20:03:41.343788Z",
     "shell.execute_reply.started": "2025-07-30T20:03:16.279382Z"
    }
   },
   "outputs": [
    {
     "data": {
      "text/html": [
       "<pre style=\"white-space:pre;overflow-x:auto;line-height:normal;font-family:Menlo,'DejaVu Sans Mono',consolas,'Courier New',monospace\"><span style=\"color: #7fbfbf; text-decoration-color: #7fbfbf\">                    </span><span style=\"color: #000080; text-decoration-color: #000080\">INFO    </span> Created new transport with session ID:                  <a href=\"file:///opt/conda/lib/python3.12/site-packages/mcp/server/streamable_http_manager.py\" target=\"_blank\"><span style=\"color: #7f7f7f; text-decoration-color: #7f7f7f\">streamable_http_manager.py</span></a><span style=\"color: #7f7f7f; text-decoration-color: #7f7f7f\">:</span><a href=\"file:///opt/conda/lib/python3.12/site-packages/mcp/server/streamable_http_manager.py#233\" target=\"_blank\"><span style=\"color: #7f7f7f; text-decoration-color: #7f7f7f\">233</span></a>\n",
       "<span style=\"color: #7fbfbf; text-decoration-color: #7fbfbf\">                    </span>         3b565cf0d1644fc49545bb210d96ebcc                        <span style=\"color: #7f7f7f; text-decoration-color: #7f7f7f\">                              </span>\n",
       "</pre>\n"
      ],
      "text/plain": [
       "\u001b[2;36m                   \u001b[0m\u001b[2;36m \u001b[0m\u001b[34mINFO    \u001b[0m Created new transport with session ID:                  \u001b]8;id=187523;file:///opt/conda/lib/python3.12/site-packages/mcp/server/streamable_http_manager.py\u001b\\\u001b[2mstreamable_http_manager.py\u001b[0m\u001b]8;;\u001b\\\u001b[2m:\u001b[0m\u001b]8;id=120646;file:///opt/conda/lib/python3.12/site-packages/mcp/server/streamable_http_manager.py#233\u001b\\\u001b[2m233\u001b[0m\u001b]8;;\u001b\\\n",
       "\u001b[2;36m                    \u001b[0m         3b565cf0d1644fc49545bb210d96ebcc                        \u001b[2m                              \u001b[0m\n"
      ]
     },
     "metadata": {},
     "output_type": "display_data"
    },
    {
     "data": {
      "text/html": [
       "<pre style=\"white-space:pre;overflow-x:auto;line-height:normal;font-family:Menlo,'DejaVu Sans Mono',consolas,'Courier New',monospace\"><span style=\"color: #7fbfbf; text-decoration-color: #7fbfbf\">                    </span><span style=\"color: #000080; text-decoration-color: #000080\">INFO    </span> HTTP Request: <span style=\"color: #808000; text-decoration-color: #808000; font-weight: bold\">POST</span> <span style=\"color: #0000ff; text-decoration-color: #0000ff; text-decoration: underline\">http://localhost:8000/mcp</span> <span style=\"color: #008000; text-decoration-color: #008000\">\"HTTP/1.1 200 OK\"</span>         <a href=\"file:///opt/conda/lib/python3.12/site-packages/httpx/_client.py\" target=\"_blank\"><span style=\"color: #7f7f7f; text-decoration-color: #7f7f7f\">_client.py</span></a><span style=\"color: #7f7f7f; text-decoration-color: #7f7f7f\">:</span><a href=\"file:///opt/conda/lib/python3.12/site-packages/httpx/_client.py#1740\" target=\"_blank\"><span style=\"color: #7f7f7f; text-decoration-color: #7f7f7f\">1740</span></a>\n",
       "</pre>\n"
      ],
      "text/plain": [
       "\u001b[2;36m                   \u001b[0m\u001b[2;36m \u001b[0m\u001b[34mINFO    \u001b[0m HTTP Request: \u001b[1;33mPOST\u001b[0m \u001b[4;94mhttp://localhost:8000/mcp\u001b[0m \u001b[32m\"HTTP/1.1 200 OK\"\u001b[0m         \u001b]8;id=541972;file:///opt/conda/lib/python3.12/site-packages/httpx/_client.py\u001b\\\u001b[2m_client.py\u001b[0m\u001b]8;;\u001b\\\u001b[2m:\u001b[0m\u001b]8;id=954375;file:///opt/conda/lib/python3.12/site-packages/httpx/_client.py#1740\u001b\\\u001b[2m1740\u001b[0m\u001b]8;;\u001b\\\n"
      ]
     },
     "metadata": {},
     "output_type": "display_data"
    },
    {
     "data": {
      "text/html": [
       "<pre style=\"white-space:pre;overflow-x:auto;line-height:normal;font-family:Menlo,'DejaVu Sans Mono',consolas,'Courier New',monospace\"><span style=\"color: #7fbfbf; text-decoration-color: #7fbfbf\">                    </span><span style=\"color: #000080; text-decoration-color: #000080\">INFO    </span> Received session ID: 3b565cf0d1644fc49545bb210d96ebcc           <a href=\"file:///opt/conda/lib/python3.12/site-packages/mcp/client/streamable_http.py\" target=\"_blank\"><span style=\"color: #7f7f7f; text-decoration-color: #7f7f7f\">streamable_http.py</span></a><span style=\"color: #7f7f7f; text-decoration-color: #7f7f7f\">:</span><a href=\"file:///opt/conda/lib/python3.12/site-packages/mcp/client/streamable_http.py#134\" target=\"_blank\"><span style=\"color: #7f7f7f; text-decoration-color: #7f7f7f\">134</span></a>\n",
       "</pre>\n"
      ],
      "text/plain": [
       "\u001b[2;36m                   \u001b[0m\u001b[2;36m \u001b[0m\u001b[34mINFO    \u001b[0m Received session ID: 3b565cf0d1644fc49545bb210d96ebcc           \u001b]8;id=228558;file:///opt/conda/lib/python3.12/site-packages/mcp/client/streamable_http.py\u001b\\\u001b[2mstreamable_http.py\u001b[0m\u001b]8;;\u001b\\\u001b[2m:\u001b[0m\u001b]8;id=263231;file:///opt/conda/lib/python3.12/site-packages/mcp/client/streamable_http.py#134\u001b\\\u001b[2m134\u001b[0m\u001b]8;;\u001b\\\n"
      ]
     },
     "metadata": {},
     "output_type": "display_data"
    },
    {
     "data": {
      "text/html": [
       "<pre style=\"white-space:pre;overflow-x:auto;line-height:normal;font-family:Menlo,'DejaVu Sans Mono',consolas,'Courier New',monospace\"><span style=\"color: #7fbfbf; text-decoration-color: #7fbfbf\">                    </span><span style=\"color: #000080; text-decoration-color: #000080\">INFO    </span> Negotiated protocol version: <span style=\"color: #008080; text-decoration-color: #008080; font-weight: bold\">2025</span>-<span style=\"color: #008080; text-decoration-color: #008080; font-weight: bold\">06</span>-<span style=\"color: #008080; text-decoration-color: #008080; font-weight: bold\">18</span>                         <a href=\"file:///opt/conda/lib/python3.12/site-packages/mcp/client/streamable_http.py\" target=\"_blank\"><span style=\"color: #7f7f7f; text-decoration-color: #7f7f7f\">streamable_http.py</span></a><span style=\"color: #7f7f7f; text-decoration-color: #7f7f7f\">:</span><a href=\"file:///opt/conda/lib/python3.12/site-packages/mcp/client/streamable_http.py#146\" target=\"_blank\"><span style=\"color: #7f7f7f; text-decoration-color: #7f7f7f\">146</span></a>\n",
       "</pre>\n"
      ],
      "text/plain": [
       "\u001b[2;36m                   \u001b[0m\u001b[2;36m \u001b[0m\u001b[34mINFO    \u001b[0m Negotiated protocol version: \u001b[1;36m2025\u001b[0m-\u001b[1;36m06\u001b[0m-\u001b[1;36m18\u001b[0m                         \u001b]8;id=814285;file:///opt/conda/lib/python3.12/site-packages/mcp/client/streamable_http.py\u001b\\\u001b[2mstreamable_http.py\u001b[0m\u001b]8;;\u001b\\\u001b[2m:\u001b[0m\u001b]8;id=889483;file:///opt/conda/lib/python3.12/site-packages/mcp/client/streamable_http.py#146\u001b\\\u001b[2m146\u001b[0m\u001b]8;;\u001b\\\n"
      ]
     },
     "metadata": {},
     "output_type": "display_data"
    },
    {
     "data": {
      "text/html": [
       "<pre style=\"white-space:pre;overflow-x:auto;line-height:normal;font-family:Menlo,'DejaVu Sans Mono',consolas,'Courier New',monospace\"><span style=\"color: #7fbfbf; text-decoration-color: #7fbfbf\">                    </span><span style=\"color: #000080; text-decoration-color: #000080\">INFO    </span> HTTP Request: <span style=\"color: #808000; text-decoration-color: #808000; font-weight: bold\">GET</span> <span style=\"color: #0000ff; text-decoration-color: #0000ff; text-decoration: underline\">http://localhost:8000/mcp</span> <span style=\"color: #008000; text-decoration-color: #008000\">\"HTTP/1.1 200 OK\"</span>          <a href=\"file:///opt/conda/lib/python3.12/site-packages/httpx/_client.py\" target=\"_blank\"><span style=\"color: #7f7f7f; text-decoration-color: #7f7f7f\">_client.py</span></a><span style=\"color: #7f7f7f; text-decoration-color: #7f7f7f\">:</span><a href=\"file:///opt/conda/lib/python3.12/site-packages/httpx/_client.py#1740\" target=\"_blank\"><span style=\"color: #7f7f7f; text-decoration-color: #7f7f7f\">1740</span></a>\n",
       "</pre>\n"
      ],
      "text/plain": [
       "\u001b[2;36m                   \u001b[0m\u001b[2;36m \u001b[0m\u001b[34mINFO    \u001b[0m HTTP Request: \u001b[1;33mGET\u001b[0m \u001b[4;94mhttp://localhost:8000/mcp\u001b[0m \u001b[32m\"HTTP/1.1 200 OK\"\u001b[0m          \u001b]8;id=738795;file:///opt/conda/lib/python3.12/site-packages/httpx/_client.py\u001b\\\u001b[2m_client.py\u001b[0m\u001b]8;;\u001b\\\u001b[2m:\u001b[0m\u001b]8;id=533573;file:///opt/conda/lib/python3.12/site-packages/httpx/_client.py#1740\u001b\\\u001b[2m1740\u001b[0m\u001b]8;;\u001b\\\n"
      ]
     },
     "metadata": {},
     "output_type": "display_data"
    },
    {
     "data": {
      "text/html": [
       "<pre style=\"white-space:pre;overflow-x:auto;line-height:normal;font-family:Menlo,'DejaVu Sans Mono',consolas,'Courier New',monospace\"><span style=\"color: #7fbfbf; text-decoration-color: #7fbfbf\">                    </span><span style=\"color: #000080; text-decoration-color: #000080\">INFO    </span> HTTP Request: <span style=\"color: #808000; text-decoration-color: #808000; font-weight: bold\">POST</span> <span style=\"color: #0000ff; text-decoration-color: #0000ff; text-decoration: underline\">http://localhost:8000/mcp</span> <span style=\"color: #008000; text-decoration-color: #008000\">\"HTTP/1.1 202 Accepted\"</span>   <a href=\"file:///opt/conda/lib/python3.12/site-packages/httpx/_client.py\" target=\"_blank\"><span style=\"color: #7f7f7f; text-decoration-color: #7f7f7f\">_client.py</span></a><span style=\"color: #7f7f7f; text-decoration-color: #7f7f7f\">:</span><a href=\"file:///opt/conda/lib/python3.12/site-packages/httpx/_client.py#1740\" target=\"_blank\"><span style=\"color: #7f7f7f; text-decoration-color: #7f7f7f\">1740</span></a>\n",
       "</pre>\n"
      ],
      "text/plain": [
       "\u001b[2;36m                   \u001b[0m\u001b[2;36m \u001b[0m\u001b[34mINFO    \u001b[0m HTTP Request: \u001b[1;33mPOST\u001b[0m \u001b[4;94mhttp://localhost:8000/mcp\u001b[0m \u001b[32m\"HTTP/1.1 202 Accepted\"\u001b[0m   \u001b]8;id=897697;file:///opt/conda/lib/python3.12/site-packages/httpx/_client.py\u001b\\\u001b[2m_client.py\u001b[0m\u001b]8;;\u001b\\\u001b[2m:\u001b[0m\u001b]8;id=115958;file:///opt/conda/lib/python3.12/site-packages/httpx/_client.py#1740\u001b\\\u001b[2m1740\u001b[0m\u001b]8;;\u001b\\\n"
      ]
     },
     "metadata": {},
     "output_type": "display_data"
    },
    {
     "data": {
      "text/html": [
       "<pre style=\"white-space:pre;overflow-x:auto;line-height:normal;font-family:Menlo,'DejaVu Sans Mono',consolas,'Courier New',monospace\"><span style=\"color: #7fbfbf; text-decoration-color: #7fbfbf\">                    </span><span style=\"color: #000080; text-decoration-color: #000080\">INFO    </span> Processing request of type CallToolRequest                               <a href=\"file:///opt/conda/lib/python3.12/site-packages/mcp/server/lowlevel/server.py\" target=\"_blank\"><span style=\"color: #7f7f7f; text-decoration-color: #7f7f7f\">server.py</span></a><span style=\"color: #7f7f7f; text-decoration-color: #7f7f7f\">:</span><a href=\"file:///opt/conda/lib/python3.12/site-packages/mcp/server/lowlevel/server.py#625\" target=\"_blank\"><span style=\"color: #7f7f7f; text-decoration-color: #7f7f7f\">625</span></a>\n",
       "</pre>\n"
      ],
      "text/plain": [
       "\u001b[2;36m                   \u001b[0m\u001b[2;36m \u001b[0m\u001b[34mINFO    \u001b[0m Processing request of type CallToolRequest                               \u001b]8;id=383671;file:///opt/conda/lib/python3.12/site-packages/mcp/server/lowlevel/server.py\u001b\\\u001b[2mserver.py\u001b[0m\u001b]8;;\u001b\\\u001b[2m:\u001b[0m\u001b]8;id=202528;file:///opt/conda/lib/python3.12/site-packages/mcp/server/lowlevel/server.py#625\u001b\\\u001b[2m625\u001b[0m\u001b]8;;\u001b\\\n"
      ]
     },
     "metadata": {},
     "output_type": "display_data"
    },
    {
     "data": {
      "text/html": [
       "<pre style=\"white-space:pre;overflow-x:auto;line-height:normal;font-family:Menlo,'DejaVu Sans Mono',consolas,'Courier New',monospace\"><span style=\"color: #7fbfbf; text-decoration-color: #7fbfbf\">                    </span><span style=\"color: #000080; text-decoration-color: #000080\">INFO    </span> HTTP Request: <span style=\"color: #808000; text-decoration-color: #808000; font-weight: bold\">POST</span> <span style=\"color: #0000ff; text-decoration-color: #0000ff; text-decoration: underline\">http://localhost:8000/mcp</span> <span style=\"color: #008000; text-decoration-color: #008000\">\"HTTP/1.1 200 OK\"</span>         <a href=\"file:///opt/conda/lib/python3.12/site-packages/httpx/_client.py\" target=\"_blank\"><span style=\"color: #7f7f7f; text-decoration-color: #7f7f7f\">_client.py</span></a><span style=\"color: #7f7f7f; text-decoration-color: #7f7f7f\">:</span><a href=\"file:///opt/conda/lib/python3.12/site-packages/httpx/_client.py#1740\" target=\"_blank\"><span style=\"color: #7f7f7f; text-decoration-color: #7f7f7f\">1740</span></a>\n",
       "</pre>\n"
      ],
      "text/plain": [
       "\u001b[2;36m                   \u001b[0m\u001b[2;36m \u001b[0m\u001b[34mINFO    \u001b[0m HTTP Request: \u001b[1;33mPOST\u001b[0m \u001b[4;94mhttp://localhost:8000/mcp\u001b[0m \u001b[32m\"HTTP/1.1 200 OK\"\u001b[0m         \u001b]8;id=425515;file:///opt/conda/lib/python3.12/site-packages/httpx/_client.py\u001b\\\u001b[2m_client.py\u001b[0m\u001b]8;;\u001b\\\u001b[2m:\u001b[0m\u001b]8;id=125820;file:///opt/conda/lib/python3.12/site-packages/httpx/_client.py#1740\u001b\\\u001b[2m1740\u001b[0m\u001b]8;;\u001b\\\n"
      ]
     },
     "metadata": {},
     "output_type": "display_data"
    },
    {
     "data": {
      "text/html": [
       "<pre style=\"white-space:pre;overflow-x:auto;line-height:normal;font-family:Menlo,'DejaVu Sans Mono',consolas,'Courier New',monospace\"><span style=\"color: #7fbfbf; text-decoration-color: #7fbfbf\">[07/30/25 20:03:41] </span><span style=\"color: #000080; text-decoration-color: #000080\">INFO    </span> HTTP Request: <span style=\"color: #808000; text-decoration-color: #808000; font-weight: bold\">POST</span> <span style=\"color: #0000ff; text-decoration-color: #0000ff; text-decoration: underline\">http://localhost:8000/mcp</span> <span style=\"color: #008000; text-decoration-color: #008000\">\"HTTP/1.1 200 OK\"</span>         <a href=\"file:///opt/conda/lib/python3.12/site-packages/httpx/_client.py\" target=\"_blank\"><span style=\"color: #7f7f7f; text-decoration-color: #7f7f7f\">_client.py</span></a><span style=\"color: #7f7f7f; text-decoration-color: #7f7f7f\">:</span><a href=\"file:///opt/conda/lib/python3.12/site-packages/httpx/_client.py#1740\" target=\"_blank\"><span style=\"color: #7f7f7f; text-decoration-color: #7f7f7f\">1740</span></a>\n",
       "</pre>\n"
      ],
      "text/plain": [
       "\u001b[2;36m[07/30/25 20:03:41]\u001b[0m\u001b[2;36m \u001b[0m\u001b[34mINFO    \u001b[0m HTTP Request: \u001b[1;33mPOST\u001b[0m \u001b[4;94mhttp://localhost:8000/mcp\u001b[0m \u001b[32m\"HTTP/1.1 200 OK\"\u001b[0m         \u001b]8;id=681244;file:///opt/conda/lib/python3.12/site-packages/httpx/_client.py\u001b\\\u001b[2m_client.py\u001b[0m\u001b]8;;\u001b\\\u001b[2m:\u001b[0m\u001b]8;id=157703;file:///opt/conda/lib/python3.12/site-packages/httpx/_client.py#1740\u001b\\\u001b[2m1740\u001b[0m\u001b]8;;\u001b\\\n"
      ]
     },
     "metadata": {},
     "output_type": "display_data"
    },
    {
     "data": {
      "text/html": [
       "<pre style=\"white-space:pre;overflow-x:auto;line-height:normal;font-family:Menlo,'DejaVu Sans Mono',consolas,'Courier New',monospace\"><span style=\"color: #7fbfbf; text-decoration-color: #7fbfbf\">                    </span><span style=\"color: #000080; text-decoration-color: #000080\">INFO    </span> Processing request of type ListToolsRequest                              <a href=\"file:///opt/conda/lib/python3.12/site-packages/mcp/server/lowlevel/server.py\" target=\"_blank\"><span style=\"color: #7f7f7f; text-decoration-color: #7f7f7f\">server.py</span></a><span style=\"color: #7f7f7f; text-decoration-color: #7f7f7f\">:</span><a href=\"file:///opt/conda/lib/python3.12/site-packages/mcp/server/lowlevel/server.py#625\" target=\"_blank\"><span style=\"color: #7f7f7f; text-decoration-color: #7f7f7f\">625</span></a>\n",
       "</pre>\n"
      ],
      "text/plain": [
       "\u001b[2;36m                   \u001b[0m\u001b[2;36m \u001b[0m\u001b[34mINFO    \u001b[0m Processing request of type ListToolsRequest                              \u001b]8;id=909779;file:///opt/conda/lib/python3.12/site-packages/mcp/server/lowlevel/server.py\u001b\\\u001b[2mserver.py\u001b[0m\u001b]8;;\u001b\\\u001b[2m:\u001b[0m\u001b]8;id=909888;file:///opt/conda/lib/python3.12/site-packages/mcp/server/lowlevel/server.py#625\u001b\\\u001b[2m625\u001b[0m\u001b]8;;\u001b\\\n"
      ]
     },
     "metadata": {},
     "output_type": "display_data"
    },
    {
     "name": "stdout",
     "output_type": "stream",
     "text": [
      "Tool execution succeeded: Hello Amazon\n"
     ]
    },
    {
     "data": {
      "text/html": [
       "<pre style=\"white-space:pre;overflow-x:auto;line-height:normal;font-family:Menlo,'DejaVu Sans Mono',consolas,'Courier New',monospace\"><span style=\"color: #7fbfbf; text-decoration-color: #7fbfbf\">                    </span><span style=\"color: #000080; text-decoration-color: #000080\">INFO    </span> Terminating session: 3b565cf0d1644fc49545bb210d96ebcc           <a href=\"file:///opt/conda/lib/python3.12/site-packages/mcp/server/streamable_http.py\" target=\"_blank\"><span style=\"color: #7f7f7f; text-decoration-color: #7f7f7f\">streamable_http.py</span></a><span style=\"color: #7f7f7f; text-decoration-color: #7f7f7f\">:</span><a href=\"file:///opt/conda/lib/python3.12/site-packages/mcp/server/streamable_http.py#630\" target=\"_blank\"><span style=\"color: #7f7f7f; text-decoration-color: #7f7f7f\">630</span></a>\n",
       "</pre>\n"
      ],
      "text/plain": [
       "\u001b[2;36m                   \u001b[0m\u001b[2;36m \u001b[0m\u001b[34mINFO    \u001b[0m Terminating session: 3b565cf0d1644fc49545bb210d96ebcc           \u001b]8;id=90461;file:///opt/conda/lib/python3.12/site-packages/mcp/server/streamable_http.py\u001b\\\u001b[2mstreamable_http.py\u001b[0m\u001b]8;;\u001b\\\u001b[2m:\u001b[0m\u001b]8;id=446352;file:///opt/conda/lib/python3.12/site-packages/mcp/server/streamable_http.py#630\u001b\\\u001b[2m630\u001b[0m\u001b]8;;\u001b\\\n"
      ]
     },
     "metadata": {},
     "output_type": "display_data"
    },
    {
     "data": {
      "text/html": [
       "<pre style=\"white-space:pre;overflow-x:auto;line-height:normal;font-family:Menlo,'DejaVu Sans Mono',consolas,'Courier New',monospace\"><span style=\"color: #7fbfbf; text-decoration-color: #7fbfbf\">                    </span><span style=\"color: #000080; text-decoration-color: #000080\">INFO    </span> HTTP Request: <span style=\"color: #808000; text-decoration-color: #808000; font-weight: bold\">DELETE</span> <span style=\"color: #0000ff; text-decoration-color: #0000ff; text-decoration: underline\">http://localhost:8000/mcp</span> <span style=\"color: #008000; text-decoration-color: #008000\">\"HTTP/1.1 200 OK\"</span>       <a href=\"file:///opt/conda/lib/python3.12/site-packages/httpx/_client.py\" target=\"_blank\"><span style=\"color: #7f7f7f; text-decoration-color: #7f7f7f\">_client.py</span></a><span style=\"color: #7f7f7f; text-decoration-color: #7f7f7f\">:</span><a href=\"file:///opt/conda/lib/python3.12/site-packages/httpx/_client.py#1740\" target=\"_blank\"><span style=\"color: #7f7f7f; text-decoration-color: #7f7f7f\">1740</span></a>\n",
       "</pre>\n"
      ],
      "text/plain": [
       "\u001b[2;36m                   \u001b[0m\u001b[2;36m \u001b[0m\u001b[34mINFO    \u001b[0m HTTP Request: \u001b[1;33mDELETE\u001b[0m \u001b[4;94mhttp://localhost:8000/mcp\u001b[0m \u001b[32m\"HTTP/1.1 200 OK\"\u001b[0m       \u001b]8;id=238113;file:///opt/conda/lib/python3.12/site-packages/httpx/_client.py\u001b\\\u001b[2m_client.py\u001b[0m\u001b]8;;\u001b\\\u001b[2m:\u001b[0m\u001b]8;id=925444;file:///opt/conda/lib/python3.12/site-packages/httpx/_client.py#1740\u001b\\\u001b[2m1740\u001b[0m\u001b]8;;\u001b\\\n"
      ]
     },
     "metadata": {},
     "output_type": "display_data"
    }
   ],
   "source": [
    "with streamable_http_mcp_client:\n",
    "    try:\n",
    "        result = streamable_http_mcp_client.call_tool_sync(\n",
    "            tool_use_id=\"tool-123\",\n",
    "            name=\"long_running_tool\",\n",
    "            arguments={\"name\": \"Amazon\"},\n",
    "            read_timeout_seconds=timedelta(seconds=30),\n",
    "        )\n",
    "\n",
    "        if result[\"status\"] == \"error\":\n",
    "            print(f\"Tool execution failed: {result['content'][0]['text']}\")\n",
    "        else:\n",
    "            print(f\"Tool execution succeeded: {result['content'][0]['text']}\")\n",
    "    except Exception as e:\n",
    "        print(f\"Tool call timed out or failed: {str(e)}\")"
   ]
  },
  {
   "cell_type": "markdown",
   "metadata": {},
   "source": [
    "### Interacting with multiple MCP servers\n",
    "\n",
    "With Strands Agents you can also interact with multiple MCP servers using the same agent and configure tools setups such as the max number of tools that can be used in parallel (`max_parallel_tools`). Let's create a new agent to showcase this configuration:\n",
    "\n",
    "<div style=\"text-align:center\">\n",
    "    <img src=\"images/architecture_3.png\" width=\"85%\" />\n",
    "</div>\n",
    "\n",
    "In this agent, we will again use the AWS Documentation MCP server and we will also use the [AWS CDK MCP Server](https://awslabs.github.io/mcp/servers/cdk-mcp-server/) which helps with AWS Cloud Development Kit (CDK) best practices, infrastructure as code patterns and security compliance with CDK Nag.\n",
    "\n",
    "First let's connect to the two MCP servers using the stdio transport"
   ]
  },
  {
   "cell_type": "code",
   "execution_count": 11,
   "metadata": {
    "execution": {
     "iopub.execute_input": "2025-07-30T20:03:41.345027Z",
     "iopub.status.busy": "2025-07-30T20:03:41.344794Z",
     "iopub.status.idle": "2025-07-30T20:03:41.348041Z",
     "shell.execute_reply": "2025-07-30T20:03:41.347596Z",
     "shell.execute_reply.started": "2025-07-30T20:03:41.345010Z"
    }
   },
   "outputs": [],
   "source": [
    "# Connect to an MCP server using stdio transport\n",
    "aws_docs_mcp_client = MCPClient(\n",
    "    lambda: stdio_client(\n",
    "        StdioServerParameters(\n",
    "            command=\"uvx\", args=[\"awslabs.aws-documentation-mcp-server@latest\"]\n",
    "        )\n",
    "    )\n",
    ")\n",
    "\n",
    "# Connect to an MCP server using stdio transport\n",
    "cdk_mcp_client = MCPClient(\n",
    "    lambda: stdio_client(\n",
    "        StdioServerParameters(command=\"uvx\", args=[\"awslabs.cdk-mcp-server@latest\"])\n",
    "    )\n",
    ")"
   ]
  },
  {
   "cell_type": "markdown",
   "metadata": {},
   "source": [
    "#### Create Agent with MCP servers\n",
    "\n",
    "Next we will create the agent with the tools from both MCP servers"
   ]
  },
  {
   "cell_type": "code",
   "execution_count": 12,
   "metadata": {
    "execution": {
     "iopub.execute_input": "2025-07-30T20:03:41.349086Z",
     "iopub.status.busy": "2025-07-30T20:03:41.348647Z",
     "iopub.status.idle": "2025-07-30T20:04:12.678770Z",
     "shell.execute_reply": "2025-07-30T20:04:12.678195Z",
     "shell.execute_reply.started": "2025-07-30T20:03:41.349058Z"
    }
   },
   "outputs": [
    {
     "name": "stdout",
     "output_type": "stream",
     "text": [
      "I'll answer both of your questions about Amazon Bedrock pricing and CDK best practices. Let me get the information for you.\n",
      "\n",
      "For Amazon Bedrock pricing:\n",
      "Tool #1: search_documentation\n",
      "Now, let me get more detailed information about Amazon Bedrock pricing:\n",
      "Tool #2: read_documentation\n",
      "Let me also get information about CDK best practices:\n",
      "Tool #3: CDKGeneralGuidance\n",
      "## Amazon Bedrock Pricing Model\n",
      "\n",
      "Amazon Bedrock uses a pay-as-you-go pricing model based on:\n",
      "\n",
      "1. **Token-based pricing**: You pay for the volume of input tokens and output tokens processed.\n",
      "2. **Model-specific rates**: Different foundation models have different pricing rates.\n",
      "3. **Provisioned Throughput option**: You can purchase dedicated capacity for consistent performance and potentially lower costs at scale.\n",
      "\n",
      "Each model provider and model version has its own specific pricing, which you can find on the Model providers page in the Amazon Bedrock console. You're only charged for the AWS services you actually use.\n",
      "\n",
      "## CDK Best Practices\n",
      "\n",
      "Here are key best practices for AWS CDK development:\n",
      "\n",
      "1. **Project Setup**:\n",
      "   - Initialize projects properly with `cdk init app --language [typescript/python]`\n",
      "   - Use `cdk synth` for validation instead of just compiling TypeScript code\n",
      "\n",
      "2. **Architecture Patterns**:\n",
      "   - Use AWS Solutions Constructs for common patterns instead of building from scratch\n",
      "   - For AI/ML workloads, use specialized GenAI CDK Constructs\n",
      "\n",
      "3. **Security First**:\n",
      "   - Apply CDK Nag to ensure security best practices\n",
      "   - Follow least privilege principles for IAM\n",
      "   - Secure resources with proper encryption and access controls\n",
      "\n",
      "4. **Lambda Best Practices**:\n",
      "   - Implement Lambda Powertools for observability (logging, tracing, metrics)\n",
      "   - Use Lambda layers correctly to include dependencies\n",
      "\n",
      "5. **Development Workflow**:\n",
      "   - Use `cdk synth` to validate before deployment\n",
      "   - Use `cdk diff` to compare deployed stack with current state\n",
      "   - Apply proper security validation before deployment\n",
      "\n",
      "6. **Key Principles**:\n",
      "   - Security First\n",
      "   - Cost Optimization\n",
      "   - Operational Excellence\n",
      "   - Serverless-First approach when appropriate\n",
      "   - Infrastructure as Code for all resources\n",
      "   - Prefer vetted patterns over custom implementations\n",
      "\n",
      "These practices will help you develop more secure, efficient, and maintainable infrastructure using AWS CDK."
     ]
    }
   ],
   "source": [
    "# Create an agent with MCP tools\n",
    "with aws_docs_mcp_client, cdk_mcp_client:\n",
    "    # Get the tools from the MCP server\n",
    "    tools = aws_docs_mcp_client.list_tools_sync() + cdk_mcp_client.list_tools_sync()\n",
    "\n",
    "    # Create an agent with these tools\n",
    "    agent = Agent(\n",
    "        model=\"us.anthropic.claude-3-7-sonnet-20250219-v1:0\",\n",
    "        tools=tools)\n",
    "\n",
    "    response = agent(\n",
    "        \"What is Amazon Bedrock pricing model. Be concise. Also what are the best practices related to CDK?\"\n",
    "    )"
   ]
  },
  {
   "cell_type": "markdown",
   "metadata": {},
   "source": [
    "### Congratulations!\n",
    "\n",
    "In this notebook you learned how to connect with MCP servers using Strands Agent and two MCP transport protocols: stdio and Streamable HTTP. You also learned how to connect multiple MCP servers to the same agent. Next, let's see how to use different models with your agent"
   ]
  },
  {
   "cell_type": "code",
   "execution_count": null,
   "metadata": {},
   "outputs": [],
   "source": []
  }
 ],
 "metadata": {
  "kernelspec": {
   "display_name": "Python 3 (ipykernel)",
   "language": "python",
   "name": "python3"
  },
  "language_info": {
   "codemirror_mode": {
    "name": "ipython",
    "version": 3
   },
   "file_extension": ".py",
   "mimetype": "text/x-python",
   "name": "python",
   "nbconvert_exporter": "python",
   "pygments_lexer": "ipython3",
   "version": "3.12.9"
  }
 },
 "nbformat": 4,
 "nbformat_minor": 4
}
