{
 "cells": [
  {
   "cell_type": "code",
   "execution_count": 1,
   "id": "5f7b62fd",
   "metadata": {
    "execution": {
     "iopub.execute_input": "2025-07-30T18:52:58.634732Z",
     "iopub.status.busy": "2025-07-30T18:52:58.634436Z",
     "iopub.status.idle": "2025-07-30T18:53:03.565316Z",
     "shell.execute_reply": "2025-07-30T18:53:03.564652Z",
     "shell.execute_reply.started": "2025-07-30T18:52:58.634704Z"
    }
   },
   "outputs": [
    {
     "name": "stdout",
     "output_type": "stream",
     "text": [
      "Collecting strands-agents\n",
      "  Using cached strands_agents-1.6.0-py3-none-any.whl.metadata (12 kB)\n",
      "Collecting strands-agents-tools\n",
      "  Using cached strands_agents_tools-0.2.5-py3-none-any.whl.metadata (41 kB)\n",
      "Collecting boto3<2.0.0,>=1.26.0 (from strands-agents)\n",
      "  Using cached boto3-1.40.21-py3-none-any.whl.metadata (6.7 kB)\n",
      "Collecting botocore<2.0.0,>=1.29.0 (from strands-agents)\n",
      "  Using cached botocore-1.40.21-py3-none-any.whl.metadata (5.7 kB)\n",
      "Collecting docstring-parser<1.0,>=0.15 (from strands-agents)\n",
      "  Using cached docstring_parser-0.17.0-py3-none-any.whl.metadata (3.5 kB)\n",
      "Collecting mcp<2.0.0,>=1.11.0 (from strands-agents)\n",
      "  Using cached mcp-1.13.1-py3-none-any.whl.metadata (74 kB)\n",
      "Collecting opentelemetry-api<2.0.0,>=1.30.0 (from strands-agents)\n",
      "  Using cached opentelemetry_api-1.36.0-py3-none-any.whl.metadata (1.5 kB)\n",
      "Collecting opentelemetry-instrumentation-threading<1.00b0,>=0.51b0 (from strands-agents)\n",
      "  Using cached opentelemetry_instrumentation_threading-0.57b0-py3-none-any.whl.metadata (2.1 kB)\n",
      "Collecting opentelemetry-sdk<2.0.0,>=1.30.0 (from strands-agents)\n",
      "  Downloading opentelemetry_sdk-1.36.0-py3-none-any.whl.metadata (1.5 kB)\n",
      "Collecting pydantic<3.0.0,>=2.4.0 (from strands-agents)\n",
      "  Using cached pydantic-2.11.7-py3-none-any.whl.metadata (67 kB)\n",
      "Requirement already satisfied: typing-extensions<5.0.0,>=4.13.2 in /Users/linghuang/miniconda3/envs/aws-strands/lib/python3.10/site-packages (from strands-agents) (4.15.0)\n",
      "Collecting watchdog<7.0.0,>=6.0.0 (from strands-agents)\n",
      "  Using cached watchdog-6.0.0-cp310-cp310-macosx_11_0_arm64.whl.metadata (44 kB)\n",
      "Collecting jmespath<2.0.0,>=0.7.1 (from boto3<2.0.0,>=1.26.0->strands-agents)\n",
      "  Using cached jmespath-1.0.1-py3-none-any.whl.metadata (7.6 kB)\n",
      "Collecting s3transfer<0.14.0,>=0.13.0 (from boto3<2.0.0,>=1.26.0->strands-agents)\n",
      "  Using cached s3transfer-0.13.1-py3-none-any.whl.metadata (1.7 kB)\n",
      "Requirement already satisfied: python-dateutil<3.0.0,>=2.1 in /Users/linghuang/miniconda3/envs/aws-strands/lib/python3.10/site-packages (from botocore<2.0.0,>=1.29.0->strands-agents) (2.9.0.post0)\n",
      "Collecting urllib3!=2.2.0,<3,>=1.25.4 (from botocore<2.0.0,>=1.29.0->strands-agents)\n",
      "  Using cached urllib3-2.5.0-py3-none-any.whl.metadata (6.5 kB)\n",
      "Collecting anyio>=4.5 (from mcp<2.0.0,>=1.11.0->strands-agents)\n",
      "  Using cached anyio-4.10.0-py3-none-any.whl.metadata (4.0 kB)\n",
      "Collecting httpx-sse>=0.4 (from mcp<2.0.0,>=1.11.0->strands-agents)\n",
      "  Using cached httpx_sse-0.4.1-py3-none-any.whl.metadata (9.4 kB)\n",
      "Collecting httpx>=0.27.1 (from mcp<2.0.0,>=1.11.0->strands-agents)\n",
      "  Using cached httpx-0.28.1-py3-none-any.whl.metadata (7.1 kB)\n",
      "Collecting jsonschema>=4.20.0 (from mcp<2.0.0,>=1.11.0->strands-agents)\n",
      "  Using cached jsonschema-4.25.1-py3-none-any.whl.metadata (7.6 kB)\n",
      "Collecting pydantic-settings>=2.5.2 (from mcp<2.0.0,>=1.11.0->strands-agents)\n",
      "  Using cached pydantic_settings-2.10.1-py3-none-any.whl.metadata (3.4 kB)\n",
      "Collecting python-multipart>=0.0.9 (from mcp<2.0.0,>=1.11.0->strands-agents)\n",
      "  Using cached python_multipart-0.0.20-py3-none-any.whl.metadata (1.8 kB)\n",
      "Collecting sse-starlette>=1.6.1 (from mcp<2.0.0,>=1.11.0->strands-agents)\n",
      "  Using cached sse_starlette-3.0.2-py3-none-any.whl.metadata (11 kB)\n",
      "Collecting starlette>=0.27 (from mcp<2.0.0,>=1.11.0->strands-agents)\n",
      "  Using cached starlette-0.47.3-py3-none-any.whl.metadata (6.2 kB)\n",
      "Collecting uvicorn>=0.31.1 (from mcp<2.0.0,>=1.11.0->strands-agents)\n",
      "  Using cached uvicorn-0.35.0-py3-none-any.whl.metadata (6.5 kB)\n",
      "Requirement already satisfied: importlib-metadata<8.8.0,>=6.0 in /Users/linghuang/miniconda3/envs/aws-strands/lib/python3.10/site-packages (from opentelemetry-api<2.0.0,>=1.30.0->strands-agents) (8.7.0)\n",
      "Requirement already satisfied: zipp>=3.20 in /Users/linghuang/miniconda3/envs/aws-strands/lib/python3.10/site-packages (from importlib-metadata<8.8.0,>=6.0->opentelemetry-api<2.0.0,>=1.30.0->strands-agents) (3.23.0)\n",
      "Collecting opentelemetry-instrumentation==0.57b0 (from opentelemetry-instrumentation-threading<1.00b0,>=0.51b0->strands-agents)\n",
      "  Using cached opentelemetry_instrumentation-0.57b0-py3-none-any.whl.metadata (6.7 kB)\n",
      "Collecting wrapt<2.0.0,>=1.0.0 (from opentelemetry-instrumentation-threading<1.00b0,>=0.51b0->strands-agents)\n",
      "  Downloading wrapt-1.17.3-cp310-cp310-macosx_11_0_arm64.whl.metadata (6.4 kB)\n",
      "Collecting opentelemetry-semantic-conventions==0.57b0 (from opentelemetry-instrumentation==0.57b0->opentelemetry-instrumentation-threading<1.00b0,>=0.51b0->strands-agents)\n",
      "  Downloading opentelemetry_semantic_conventions-0.57b0-py3-none-any.whl.metadata (2.4 kB)\n",
      "Requirement already satisfied: packaging>=18.0 in /Users/linghuang/miniconda3/envs/aws-strands/lib/python3.10/site-packages (from opentelemetry-instrumentation==0.57b0->opentelemetry-instrumentation-threading<1.00b0,>=0.51b0->strands-agents) (25.0)\n",
      "Collecting annotated-types>=0.6.0 (from pydantic<3.0.0,>=2.4.0->strands-agents)\n",
      "  Using cached annotated_types-0.7.0-py3-none-any.whl.metadata (15 kB)\n",
      "Collecting pydantic-core==2.33.2 (from pydantic<3.0.0,>=2.4.0->strands-agents)\n",
      "  Using cached pydantic_core-2.33.2-cp310-cp310-macosx_11_0_arm64.whl.metadata (6.8 kB)\n",
      "Collecting typing-inspection>=0.4.0 (from pydantic<3.0.0,>=2.4.0->strands-agents)\n",
      "  Using cached typing_inspection-0.4.1-py3-none-any.whl.metadata (2.6 kB)\n",
      "Requirement already satisfied: six>=1.5 in /Users/linghuang/miniconda3/envs/aws-strands/lib/python3.10/site-packages (from python-dateutil<3.0.0,>=2.1->botocore<2.0.0,>=1.29.0->strands-agents) (1.17.0)\n",
      "Collecting aiohttp<4.0.0,>=3.8.0 (from strands-agents-tools)\n",
      "  Using cached aiohttp-3.12.15-cp310-cp310-macosx_11_0_arm64.whl.metadata (7.7 kB)\n",
      "Collecting aws-requests-auth<0.5.0,>=0.4.3 (from strands-agents-tools)\n",
      "  Using cached aws_requests_auth-0.4.3-py2.py3-none-any.whl.metadata (567 bytes)\n",
      "Collecting dill<0.5.0,>=0.4.0 (from strands-agents-tools)\n",
      "  Using cached dill-0.4.0-py3-none-any.whl.metadata (10 kB)\n",
      "Collecting markdownify<2.0.0,>=1.0.0 (from strands-agents-tools)\n",
      "  Using cached markdownify-1.2.0-py3-none-any.whl.metadata (9.9 kB)\n",
      "Collecting pillow<12.0.0,>=11.2.1 (from strands-agents-tools)\n",
      "  Using cached pillow-11.3.0-cp310-cp310-macosx_11_0_arm64.whl.metadata (9.0 kB)\n",
      "Requirement already satisfied: prompt-toolkit<4.0.0,>=3.0.51 in /Users/linghuang/miniconda3/envs/aws-strands/lib/python3.10/site-packages (from strands-agents-tools) (3.0.52)\n",
      "Collecting pyjwt<3.0.0,>=2.10.1 (from strands-agents-tools)\n",
      "  Using cached PyJWT-2.10.1-py3-none-any.whl.metadata (4.0 kB)\n",
      "Collecting readabilipy<1.0.0,>=0.2.0 (from strands-agents-tools)\n",
      "  Using cached readabilipy-0.3.0-py3-none-any.whl.metadata (8.9 kB)\n",
      "Collecting requests<3.0.0,>=2.28.0 (from strands-agents-tools)\n",
      "  Using cached requests-2.32.5-py3-none-any.whl.metadata (4.9 kB)\n",
      "Collecting rich<15.0.0,>=14.0.0 (from strands-agents-tools)\n",
      "  Using cached rich-14.1.0-py3-none-any.whl.metadata (18 kB)\n",
      "Collecting slack-bolt<2.0.0,>=1.23.0 (from strands-agents-tools)\n",
      "  Using cached slack_bolt-1.24.0-py2.py3-none-any.whl.metadata (11 kB)\n",
      "Collecting sympy<2.0.0,>=1.12.0 (from strands-agents-tools)\n",
      "  Downloading sympy-1.14.0-py3-none-any.whl.metadata (12 kB)\n",
      "Collecting tenacity<10.0.0,>=9.1.2 (from strands-agents-tools)\n",
      "  Using cached tenacity-9.1.2-py3-none-any.whl.metadata (1.2 kB)\n",
      "Collecting aiohappyeyeballs>=2.5.0 (from aiohttp<4.0.0,>=3.8.0->strands-agents-tools)\n",
      "  Using cached aiohappyeyeballs-2.6.1-py3-none-any.whl.metadata (5.9 kB)\n",
      "Collecting aiosignal>=1.4.0 (from aiohttp<4.0.0,>=3.8.0->strands-agents-tools)\n",
      "  Using cached aiosignal-1.4.0-py3-none-any.whl.metadata (3.7 kB)\n",
      "Collecting async-timeout<6.0,>=4.0 (from aiohttp<4.0.0,>=3.8.0->strands-agents-tools)\n",
      "  Using cached async_timeout-5.0.1-py3-none-any.whl.metadata (5.1 kB)\n",
      "Collecting attrs>=17.3.0 (from aiohttp<4.0.0,>=3.8.0->strands-agents-tools)\n",
      "  Using cached attrs-25.3.0-py3-none-any.whl.metadata (10 kB)\n",
      "Collecting frozenlist>=1.1.1 (from aiohttp<4.0.0,>=3.8.0->strands-agents-tools)\n",
      "  Using cached frozenlist-1.7.0-cp310-cp310-macosx_11_0_arm64.whl.metadata (18 kB)\n",
      "Collecting multidict<7.0,>=4.5 (from aiohttp<4.0.0,>=3.8.0->strands-agents-tools)\n",
      "  Using cached multidict-6.6.4-cp310-cp310-macosx_11_0_arm64.whl.metadata (5.3 kB)\n",
      "Collecting propcache>=0.2.0 (from aiohttp<4.0.0,>=3.8.0->strands-agents-tools)\n",
      "  Using cached propcache-0.3.2-cp310-cp310-macosx_11_0_arm64.whl.metadata (12 kB)\n",
      "Collecting yarl<2.0,>=1.17.0 (from aiohttp<4.0.0,>=3.8.0->strands-agents-tools)\n",
      "  Using cached yarl-1.20.1-cp310-cp310-macosx_11_0_arm64.whl.metadata (73 kB)\n",
      "Collecting beautifulsoup4<5,>=4.9 (from markdownify<2.0.0,>=1.0.0->strands-agents-tools)\n",
      "  Using cached beautifulsoup4-4.13.5-py3-none-any.whl.metadata (3.8 kB)\n",
      "Collecting soupsieve>1.2 (from beautifulsoup4<5,>=4.9->markdownify<2.0.0,>=1.0.0->strands-agents-tools)\n",
      "  Downloading soupsieve-2.8-py3-none-any.whl.metadata (4.6 kB)\n",
      "Requirement already satisfied: wcwidth in /Users/linghuang/miniconda3/envs/aws-strands/lib/python3.10/site-packages (from prompt-toolkit<4.0.0,>=3.0.51->strands-agents-tools) (0.2.13)\n",
      "Collecting html5lib (from readabilipy<1.0.0,>=0.2.0->strands-agents-tools)\n",
      "  Using cached html5lib-1.1-py2.py3-none-any.whl.metadata (16 kB)\n",
      "Collecting lxml (from readabilipy<1.0.0,>=0.2.0->strands-agents-tools)\n",
      "  Downloading lxml-6.0.1-cp310-cp310-macosx_10_9_universal2.whl.metadata (3.8 kB)\n",
      "Collecting regex (from readabilipy<1.0.0,>=0.2.0->strands-agents-tools)\n",
      "  Downloading regex-2025.8.29-cp310-cp310-macosx_11_0_arm64.whl.metadata (40 kB)\n",
      "Collecting charset_normalizer<4,>=2 (from requests<3.0.0,>=2.28.0->strands-agents-tools)\n",
      "  Using cached charset_normalizer-3.4.3-cp310-cp310-macosx_10_9_universal2.whl.metadata (36 kB)\n",
      "Collecting idna<4,>=2.5 (from requests<3.0.0,>=2.28.0->strands-agents-tools)\n",
      "  Using cached idna-3.10-py3-none-any.whl.metadata (10 kB)\n",
      "Collecting certifi>=2017.4.17 (from requests<3.0.0,>=2.28.0->strands-agents-tools)\n",
      "  Using cached certifi-2025.8.3-py3-none-any.whl.metadata (2.4 kB)\n",
      "Collecting markdown-it-py>=2.2.0 (from rich<15.0.0,>=14.0.0->strands-agents-tools)\n",
      "  Using cached markdown_it_py-4.0.0-py3-none-any.whl.metadata (7.3 kB)\n",
      "Requirement already satisfied: pygments<3.0.0,>=2.13.0 in /Users/linghuang/miniconda3/envs/aws-strands/lib/python3.10/site-packages (from rich<15.0.0,>=14.0.0->strands-agents-tools) (2.19.2)\n",
      "Collecting slack_sdk<4,>=3.35.0 (from slack-bolt<2.0.0,>=1.23.0->strands-agents-tools)\n",
      "  Downloading slack_sdk-3.36.0-py2.py3-none-any.whl.metadata (15 kB)\n",
      "Collecting mpmath<1.4,>=1.1.0 (from sympy<2.0.0,>=1.12.0->strands-agents-tools)\n",
      "  Using cached mpmath-1.3.0-py3-none-any.whl.metadata (8.6 kB)\n",
      "Requirement already satisfied: exceptiongroup>=1.0.2 in /Users/linghuang/miniconda3/envs/aws-strands/lib/python3.10/site-packages (from anyio>=4.5->mcp<2.0.0,>=1.11.0->strands-agents) (1.3.0)\n",
      "Collecting sniffio>=1.1 (from anyio>=4.5->mcp<2.0.0,>=1.11.0->strands-agents)\n",
      "  Using cached sniffio-1.3.1-py3-none-any.whl.metadata (3.9 kB)\n",
      "Collecting httpcore==1.* (from httpx>=0.27.1->mcp<2.0.0,>=1.11.0->strands-agents)\n",
      "  Using cached httpcore-1.0.9-py3-none-any.whl.metadata (21 kB)\n",
      "Collecting h11>=0.16 (from httpcore==1.*->httpx>=0.27.1->mcp<2.0.0,>=1.11.0->strands-agents)\n",
      "  Using cached h11-0.16.0-py3-none-any.whl.metadata (8.3 kB)\n",
      "Collecting jsonschema-specifications>=2023.03.6 (from jsonschema>=4.20.0->mcp<2.0.0,>=1.11.0->strands-agents)\n",
      "  Using cached jsonschema_specifications-2025.4.1-py3-none-any.whl.metadata (2.9 kB)\n",
      "Collecting referencing>=0.28.4 (from jsonschema>=4.20.0->mcp<2.0.0,>=1.11.0->strands-agents)\n",
      "  Using cached referencing-0.36.2-py3-none-any.whl.metadata (2.8 kB)\n",
      "Collecting rpds-py>=0.7.1 (from jsonschema>=4.20.0->mcp<2.0.0,>=1.11.0->strands-agents)\n",
      "  Downloading rpds_py-0.27.1-cp310-cp310-macosx_11_0_arm64.whl.metadata (4.2 kB)\n",
      "Collecting mdurl~=0.1 (from markdown-it-py>=2.2.0->rich<15.0.0,>=14.0.0->strands-agents-tools)\n",
      "  Using cached mdurl-0.1.2-py3-none-any.whl.metadata (1.6 kB)\n",
      "Collecting python-dotenv>=0.21.0 (from pydantic-settings>=2.5.2->mcp<2.0.0,>=1.11.0->strands-agents)\n",
      "  Using cached python_dotenv-1.1.1-py3-none-any.whl.metadata (24 kB)\n",
      "Collecting click>=7.0 (from uvicorn>=0.31.1->mcp<2.0.0,>=1.11.0->strands-agents)\n",
      "  Using cached click-8.2.1-py3-none-any.whl.metadata (2.5 kB)\n",
      "Collecting webencodings (from html5lib->readabilipy<1.0.0,>=0.2.0->strands-agents-tools)\n",
      "  Using cached webencodings-0.5.1-py2.py3-none-any.whl.metadata (2.1 kB)\n",
      "Using cached strands_agents-1.6.0-py3-none-any.whl (186 kB)\n",
      "Using cached boto3-1.40.21-py3-none-any.whl (139 kB)\n",
      "Using cached botocore-1.40.21-py3-none-any.whl (14.0 MB)\n",
      "Using cached docstring_parser-0.17.0-py3-none-any.whl (36 kB)\n",
      "Using cached jmespath-1.0.1-py3-none-any.whl (20 kB)\n",
      "Using cached mcp-1.13.1-py3-none-any.whl (161 kB)\n",
      "Using cached opentelemetry_api-1.36.0-py3-none-any.whl (65 kB)\n",
      "Downloading opentelemetry_instrumentation_threading-0.57b0-py3-none-any.whl (9.3 kB)\n",
      "Downloading opentelemetry_instrumentation-0.57b0-py3-none-any.whl (32 kB)\n",
      "Downloading opentelemetry_semantic_conventions-0.57b0-py3-none-any.whl (201 kB)\n",
      "Downloading opentelemetry_sdk-1.36.0-py3-none-any.whl (119 kB)\n",
      "Using cached pydantic-2.11.7-py3-none-any.whl (444 kB)\n",
      "Using cached pydantic_core-2.33.2-cp310-cp310-macosx_11_0_arm64.whl (1.9 MB)\n",
      "Using cached s3transfer-0.13.1-py3-none-any.whl (85 kB)\n",
      "Using cached urllib3-2.5.0-py3-none-any.whl (129 kB)\n",
      "Using cached watchdog-6.0.0-cp310-cp310-macosx_11_0_arm64.whl (89 kB)\n",
      "Downloading wrapt-1.17.3-cp310-cp310-macosx_11_0_arm64.whl (38 kB)\n",
      "Downloading strands_agents_tools-0.2.5-py3-none-any.whl (277 kB)\n",
      "Using cached aiohttp-3.12.15-cp310-cp310-macosx_11_0_arm64.whl (468 kB)\n",
      "Using cached async_timeout-5.0.1-py3-none-any.whl (6.2 kB)\n",
      "Downloading aws_requests_auth-0.4.3-py2.py3-none-any.whl (6.8 kB)\n",
      "Downloading dill-0.4.0-py3-none-any.whl (119 kB)\n",
      "Downloading markdownify-1.2.0-py3-none-any.whl (15 kB)\n",
      "Using cached beautifulsoup4-4.13.5-py3-none-any.whl (105 kB)\n",
      "Using cached multidict-6.6.4-cp310-cp310-macosx_11_0_arm64.whl (44 kB)\n",
      "Downloading pillow-11.3.0-cp310-cp310-macosx_11_0_arm64.whl (4.7 MB)\n",
      "\u001b[2K   \u001b[90m━━━━━━━━━━━━━━━━━━━━━━━━━━━━━━━━━━━━━━━━\u001b[0m \u001b[32m4.7/4.7 MB\u001b[0m \u001b[31m35.3 MB/s\u001b[0m  \u001b[33m0:00:00\u001b[0m\n",
      "\u001b[?25hDownloading PyJWT-2.10.1-py3-none-any.whl (22 kB)\n",
      "Downloading readabilipy-0.3.0-py3-none-any.whl (22 kB)\n",
      "Using cached requests-2.32.5-py3-none-any.whl (64 kB)\n",
      "Using cached charset_normalizer-3.4.3-cp310-cp310-macosx_10_9_universal2.whl (207 kB)\n",
      "Using cached idna-3.10-py3-none-any.whl (70 kB)\n",
      "Using cached rich-14.1.0-py3-none-any.whl (243 kB)\n",
      "Downloading slack_bolt-1.24.0-py2.py3-none-any.whl (230 kB)\n",
      "Downloading slack_sdk-3.36.0-py2.py3-none-any.whl (293 kB)\n",
      "Downloading sympy-1.14.0-py3-none-any.whl (6.3 MB)\n",
      "\u001b[2K   \u001b[90m━━━━━━━━━━━━━━━━━━━━━━━━━━━━━━━━━━━━━━━━\u001b[0m \u001b[32m6.3/6.3 MB\u001b[0m \u001b[31m51.4 MB/s\u001b[0m  \u001b[33m0:00:00\u001b[0m\n",
      "\u001b[?25hUsing cached mpmath-1.3.0-py3-none-any.whl (536 kB)\n",
      "Using cached tenacity-9.1.2-py3-none-any.whl (28 kB)\n",
      "Using cached yarl-1.20.1-cp310-cp310-macosx_11_0_arm64.whl (89 kB)\n",
      "Using cached aiohappyeyeballs-2.6.1-py3-none-any.whl (15 kB)\n",
      "Using cached aiosignal-1.4.0-py3-none-any.whl (7.5 kB)\n",
      "Using cached annotated_types-0.7.0-py3-none-any.whl (13 kB)\n",
      "Using cached anyio-4.10.0-py3-none-any.whl (107 kB)\n",
      "Using cached attrs-25.3.0-py3-none-any.whl (63 kB)\n",
      "Using cached certifi-2025.8.3-py3-none-any.whl (161 kB)\n",
      "Using cached frozenlist-1.7.0-cp310-cp310-macosx_11_0_arm64.whl (46 kB)\n",
      "Using cached httpx-0.28.1-py3-none-any.whl (73 kB)\n",
      "Using cached httpcore-1.0.9-py3-none-any.whl (78 kB)\n",
      "Using cached h11-0.16.0-py3-none-any.whl (37 kB)\n",
      "Using cached httpx_sse-0.4.1-py3-none-any.whl (8.1 kB)\n",
      "Using cached jsonschema-4.25.1-py3-none-any.whl (90 kB)\n",
      "Using cached jsonschema_specifications-2025.4.1-py3-none-any.whl (18 kB)\n",
      "Using cached markdown_it_py-4.0.0-py3-none-any.whl (87 kB)\n",
      "Using cached mdurl-0.1.2-py3-none-any.whl (10.0 kB)\n",
      "Using cached propcache-0.3.2-cp310-cp310-macosx_11_0_arm64.whl (43 kB)\n",
      "Using cached pydantic_settings-2.10.1-py3-none-any.whl (45 kB)\n",
      "Using cached python_dotenv-1.1.1-py3-none-any.whl (20 kB)\n",
      "Using cached python_multipart-0.0.20-py3-none-any.whl (24 kB)\n",
      "Using cached referencing-0.36.2-py3-none-any.whl (26 kB)\n",
      "Downloading rpds_py-0.27.1-cp310-cp310-macosx_11_0_arm64.whl (353 kB)\n",
      "Using cached sniffio-1.3.1-py3-none-any.whl (10 kB)\n",
      "Downloading soupsieve-2.8-py3-none-any.whl (36 kB)\n",
      "Using cached sse_starlette-3.0.2-py3-none-any.whl (11 kB)\n",
      "Using cached starlette-0.47.3-py3-none-any.whl (72 kB)\n",
      "Using cached typing_inspection-0.4.1-py3-none-any.whl (14 kB)\n",
      "Using cached uvicorn-0.35.0-py3-none-any.whl (66 kB)\n",
      "Using cached click-8.2.1-py3-none-any.whl (102 kB)\n",
      "Using cached html5lib-1.1-py2.py3-none-any.whl (112 kB)\n",
      "Downloading lxml-6.0.1-cp310-cp310-macosx_10_9_universal2.whl (8.4 MB)\n",
      "\u001b[2K   \u001b[90m━━━━━━━━━━━━━━━━━━━━━━━━━━━━━━━━━━━━━━━━\u001b[0m \u001b[32m8.4/8.4 MB\u001b[0m \u001b[31m46.8 MB/s\u001b[0m  \u001b[33m0:00:00\u001b[0m\n",
      "\u001b[?25hDownloading regex-2025.8.29-cp310-cp310-macosx_11_0_arm64.whl (286 kB)\n",
      "Using cached webencodings-0.5.1-py2.py3-none-any.whl (11 kB)\n",
      "Installing collected packages: webencodings, mpmath, wrapt, watchdog, urllib3, typing-inspection, tenacity, sympy, soupsieve, sniffio, slack_sdk, rpds-py, regex, python-multipart, python-dotenv, pyjwt, pydantic-core, propcache, pillow, multidict, mdurl, lxml, jmespath, idna, httpx-sse, html5lib, h11, frozenlist, docstring-parser, dill, click, charset_normalizer, certifi, attrs, async-timeout, annotated-types, aiohappyeyeballs, yarl, uvicorn, slack-bolt, requests, referencing, pydantic, opentelemetry-api, markdown-it-py, httpcore, botocore, beautifulsoup4, anyio, aiosignal, starlette, sse-starlette, s3transfer, rich, readabilipy, pydantic-settings, opentelemetry-semantic-conventions, markdownify, jsonschema-specifications, httpx, aws-requests-auth, aiohttp, opentelemetry-sdk, opentelemetry-instrumentation, jsonschema, boto3, opentelemetry-instrumentation-threading, mcp, strands-agents, strands-agents-tools\n",
      "\u001b[2K   \u001b[90m━━━━━━━━━━━━━━━━━━━━━━━━━━━━━━━━━━━━━━━━\u001b[0m \u001b[32m70/70\u001b[0m [strands-agents-tools]ands-agents]\n",
      "\u001b[1A\u001b[2KSuccessfully installed aiohappyeyeballs-2.6.1 aiohttp-3.12.15 aiosignal-1.4.0 annotated-types-0.7.0 anyio-4.10.0 async-timeout-5.0.1 attrs-25.3.0 aws-requests-auth-0.4.3 beautifulsoup4-4.13.5 boto3-1.40.21 botocore-1.40.21 certifi-2025.8.3 charset_normalizer-3.4.3 click-8.2.1 dill-0.4.0 docstring-parser-0.17.0 frozenlist-1.7.0 h11-0.16.0 html5lib-1.1 httpcore-1.0.9 httpx-0.28.1 httpx-sse-0.4.1 idna-3.10 jmespath-1.0.1 jsonschema-4.25.1 jsonschema-specifications-2025.4.1 lxml-6.0.1 markdown-it-py-4.0.0 markdownify-1.2.0 mcp-1.13.1 mdurl-0.1.2 mpmath-1.3.0 multidict-6.6.4 opentelemetry-api-1.36.0 opentelemetry-instrumentation-0.57b0 opentelemetry-instrumentation-threading-0.57b0 opentelemetry-sdk-1.36.0 opentelemetry-semantic-conventions-0.57b0 pillow-11.3.0 propcache-0.3.2 pydantic-2.11.7 pydantic-core-2.33.2 pydantic-settings-2.10.1 pyjwt-2.10.1 python-dotenv-1.1.1 python-multipart-0.0.20 readabilipy-0.3.0 referencing-0.36.2 regex-2025.8.29 requests-2.32.5 rich-14.1.0 rpds-py-0.27.1 s3transfer-0.13.1 slack-bolt-1.24.0 slack_sdk-3.36.0 sniffio-1.3.1 soupsieve-2.8 sse-starlette-3.0.2 starlette-0.47.3 strands-agents-1.6.0 strands-agents-tools-0.2.5 sympy-1.14.0 tenacity-9.1.2 typing-inspection-0.4.1 urllib3-2.5.0 uvicorn-0.35.0 watchdog-6.0.0 webencodings-0.5.1 wrapt-1.17.3 yarl-1.20.1\n"
     ]
    }
   ],
   "source": [
    "# Install Strands using pip\n",
    "\n",
    "!pip install strands-agents strands-agents-tools"
   ]
  },
  {
   "cell_type": "code",
   "execution_count": 2,
   "id": "36632ef9",
   "metadata": {},
   "outputs": [
    {
     "name": "stdout",
     "output_type": "stream",
     "text": [
      "strands-agents==1.6.0\n",
      "strands-agents-tools==0.2.5\n"
     ]
    }
   ],
   "source": [
    "!pip freeze | grep strands"
   ]
  },
  {
   "cell_type": "markdown",
   "id": "8e394456",
   "metadata": {},
   "source": [
    "# Quickstart Guide for Strands Agents\n",
    "\n",
    "Strands Agents is a powerful framework for building AI agents that can interact with AWS services and perform complex tasks. This quickstart guide will help you get started with creating your first Strands agent.\n",
    "\n",
    "## Prerequisites\n",
    "\n",
    "- Python 3.10 or later\n",
    "- AWS account configured with appropriate permissions\n",
    "- Basic understanding of Python programming\n",
    "\n",
    "Lets get started !"
   ]
  },
  {
   "cell_type": "markdown",
   "id": "79a45632",
   "metadata": {
    "vscode": {
     "languageId": "plaintext"
    }
   },
   "source": [
    "\n",
    "## Creating Your First Agent\n",
    "\n",
    "Lets get an overview of the agentic components needed.\n",
    "\n",
    "### 1. Create a simple Agent:\n",
    "\n",
    "This will create an agent with the default model provider, [Amazon Bedrock](https://aws.amazon.com/bedrock/), and the default model, Claude 3.7 Sonnet, in the region of your AWS setup. While the agent runs in the same local environment as it is being invoked, Amazon Bedrock models will run in an AWS account and your agent will invoke the model in the cloud account. The architecture looks as following:\n",
    "\n",
    "<div style=\"text-align:center\">\n",
    "    <img src=\"images/simple_agent.png\" width=\"75%\" />\n",
    "</div>"
   ]
  },
  {
   "cell_type": "code",
   "execution_count": 4,
   "id": "994b3a62",
   "metadata": {},
   "outputs": [
    {
     "name": "stdout",
     "output_type": "stream",
     "text": [
      "Why don't scientists trust atoms? Because they make up everything!"
     ]
    }
   ],
   "source": [
    "import warnings\n",
    "warnings.filterwarnings(action=\"ignore\", message=r\"datetime.datetime.utcnow\") \n",
    "\n",
    "from strands import Agent\n",
    "# Initialize your agent\n",
    "agent = Agent(\n",
    "    model=\"us.anthropic.claude-3-7-sonnet-20250219-v1:0\",  # Optional: Specify the model ID\n",
    "    system_prompt=\"You are a helpful assistant that provides concise responses.\"\n",
    ")\n",
    "\n",
    "# Send a message to the agent\n",
    "response = agent(\"Hello! Tell me a joke.\")"
   ]
  },
  {
   "cell_type": "markdown",
   "id": "cc305d76",
   "metadata": {},
   "source": [
    "### 2. Add Tools to the Agent:\n",
    "\n",
    "The [strands-agents-tools](https://github.com/strands-agents/tools) repository provides some in-built tools which you can import. You can also create custom tools using the `@tool` decorator. We can create agents with built-in and custom tools. For instance, adding the built-in tool of a calculator and a custom tool for getting the weather you get the following architecture:\n",
    "<div style=\"text-align:center\">\n",
    "    <img src=\"images/agent_with_tools.png\" width=\"75%\" />\n",
    "</div>\n",
    "\n",
    "Implementing this architecture you have the following:"
   ]
  },
  {
   "cell_type": "code",
   "execution_count": 6,
   "id": "c84d9466",
   "metadata": {
    "execution": {
     "iopub.execute_input": "2025-07-30T18:53:03.673012Z",
     "iopub.status.busy": "2025-07-30T18:53:03.672711Z",
     "iopub.status.idle": "2025-07-30T18:53:08.692407Z",
     "shell.execute_reply": "2025-07-30T18:53:08.691796Z",
     "shell.execute_reply.started": "2025-07-30T18:53:03.672989Z"
    }
   },
   "outputs": [
    {
     "name": "stdout",
     "output_type": "stream",
     "text": [
      "I'd be happy to check the current weather for you. Let me fetch that information.\n",
      "Tool #1: weather\n",
      "Good news! The weather today is sunny. Enjoy the beautiful day!Good news! The weather today is sunny. Enjoy the beautiful day!\n",
      "\n"
     ]
    }
   ],
   "source": [
    "from strands import Agent, tool\n",
    "from strands_tools import calculator # Import the calculator tool\n",
    "\n",
    "# Create a custom tool \n",
    "@tool\n",
    "def weather():\n",
    "    \"\"\" Get weather \"\"\" # Dummy implementation\n",
    "    return \"sunny\"\n",
    "\n",
    "agent = Agent(\n",
    "    model=\"us.anthropic.claude-3-7-sonnet-20250219-v1:0\",  # Optional: Specify the model ID\n",
    "    tools=[calculator, weather],\n",
    "    system_prompt=\"You're a helpful assistant. You can do simple math calculation, and tell the weather.\")\n",
    "\n",
    "response = agent(\"What is the weather today?\")\n",
    "print(response)"
   ]
  },
  {
   "cell_type": "markdown",
   "id": "c96537ad-a5af-49d9-aaff-c9101ae31e73",
   "metadata": {},
   "source": [
    "### Invoking tool directly\n",
    "\n",
    "For some applications it is important to directly call the tool. For instance, you might want to debug the tool, pre-populate the agent knowledge with your customer's information or using a tool inside of another tool. In Strands you can do it using the ``tool`` method of your agent followed by the tool name"
   ]
  },
  {
   "cell_type": "code",
   "execution_count": 7,
   "id": "7743fe69",
   "metadata": {
    "execution": {
     "iopub.execute_input": "2025-07-30T18:53:16.390694Z",
     "iopub.status.busy": "2025-07-30T18:53:16.390297Z",
     "iopub.status.idle": "2025-07-30T18:53:16.413397Z",
     "shell.execute_reply": "2025-07-30T18:53:16.412971Z",
     "shell.execute_reply.started": "2025-07-30T18:53:16.390672Z"
    }
   },
   "outputs": [
    {
     "data": {
      "text/html": [
       "<pre style=\"white-space:pre;overflow-x:auto;line-height:normal;font-family:Menlo,'DejaVu Sans Mono',consolas,'Courier New',monospace\"><span style=\"color: #000080; text-decoration-color: #000080\">╭────────────────────────────────────────────── </span><span style=\"color: #000080; text-decoration-color: #000080; font-weight: bold\">Calculation Result</span><span style=\"color: #000080; text-decoration-color: #000080\"> ───────────────────────────────────────────────╮</span>\n",
       "<span style=\"color: #000080; text-decoration-color: #000080\">│</span>                                                                                                                 <span style=\"color: #000080; text-decoration-color: #000080\">│</span>\n",
       "<span style=\"color: #000080; text-decoration-color: #000080\">│</span>  ╭─────────────────┬───────────────────────────╮                                                                <span style=\"color: #000080; text-decoration-color: #000080\">│</span>\n",
       "<span style=\"color: #000080; text-decoration-color: #000080\">│</span>  │<span style=\"color: #008080; text-decoration-color: #008080\"> Operation       </span>│<span style=\"color: #008000; text-decoration-color: #008000\"> Calculate 2-th Derivative </span>│                                                                <span style=\"color: #000080; text-decoration-color: #000080\">│</span>\n",
       "<span style=\"color: #000080; text-decoration-color: #000080\">│</span>  │<span style=\"color: #008080; text-decoration-color: #008080\"> Input           </span>│<span style=\"color: #008000; text-decoration-color: #008000\"> sin(x)                    </span>│                                                                <span style=\"color: #000080; text-decoration-color: #000080\">│</span>\n",
       "<span style=\"color: #000080; text-decoration-color: #000080\">│</span>  │<span style=\"color: #008080; text-decoration-color: #008080\"> Result          </span>│<span style=\"color: #008000; text-decoration-color: #008000\"> -sin(x)                   </span>│                                                                <span style=\"color: #000080; text-decoration-color: #000080\">│</span>\n",
       "<span style=\"color: #000080; text-decoration-color: #000080\">│</span>  │<span style=\"color: #008080; text-decoration-color: #008080\"> With respect to </span>│<span style=\"color: #008000; text-decoration-color: #008000\"> x                         </span>│                                                                <span style=\"color: #000080; text-decoration-color: #000080\">│</span>\n",
       "<span style=\"color: #000080; text-decoration-color: #000080\">│</span>  ╰─────────────────┴───────────────────────────╯                                                                <span style=\"color: #000080; text-decoration-color: #000080\">│</span>\n",
       "<span style=\"color: #000080; text-decoration-color: #000080\">│</span>                                                                                                                 <span style=\"color: #000080; text-decoration-color: #000080\">│</span>\n",
       "<span style=\"color: #000080; text-decoration-color: #000080\">╰─────────────────────────────────────────────────────────────────────────────────────────────────────────────────╯</span>\n",
       "</pre>\n"
      ],
      "text/plain": [
       "\u001b[34m╭─\u001b[0m\u001b[34m─────────────────────────────────────────────\u001b[0m\u001b[34m \u001b[0m\u001b[1;34mCalculation Result\u001b[0m\u001b[34m \u001b[0m\u001b[34m──────────────────────────────────────────────\u001b[0m\u001b[34m─╮\u001b[0m\n",
       "\u001b[34m│\u001b[0m                                                                                                                 \u001b[34m│\u001b[0m\n",
       "\u001b[34m│\u001b[0m  ╭─────────────────┬───────────────────────────╮                                                                \u001b[34m│\u001b[0m\n",
       "\u001b[34m│\u001b[0m  │\u001b[36m \u001b[0m\u001b[36mOperation      \u001b[0m\u001b[36m \u001b[0m│\u001b[32m \u001b[0m\u001b[32mCalculate 2-th Derivative\u001b[0m\u001b[32m \u001b[0m│                                                                \u001b[34m│\u001b[0m\n",
       "\u001b[34m│\u001b[0m  │\u001b[36m \u001b[0m\u001b[36mInput          \u001b[0m\u001b[36m \u001b[0m│\u001b[32m \u001b[0m\u001b[32msin(x)                   \u001b[0m\u001b[32m \u001b[0m│                                                                \u001b[34m│\u001b[0m\n",
       "\u001b[34m│\u001b[0m  │\u001b[36m \u001b[0m\u001b[36mResult         \u001b[0m\u001b[36m \u001b[0m│\u001b[32m \u001b[0m\u001b[32m-sin(x)                  \u001b[0m\u001b[32m \u001b[0m│                                                                \u001b[34m│\u001b[0m\n",
       "\u001b[34m│\u001b[0m  │\u001b[36m \u001b[0m\u001b[36mWith respect to\u001b[0m\u001b[36m \u001b[0m│\u001b[32m \u001b[0m\u001b[32mx                        \u001b[0m\u001b[32m \u001b[0m│                                                                \u001b[34m│\u001b[0m\n",
       "\u001b[34m│\u001b[0m  ╰─────────────────┴───────────────────────────╯                                                                \u001b[34m│\u001b[0m\n",
       "\u001b[34m│\u001b[0m                                                                                                                 \u001b[34m│\u001b[0m\n",
       "\u001b[34m╰─────────────────────────────────────────────────────────────────────────────────────────────────────────────────╯\u001b[0m\n"
      ]
     },
     "metadata": {},
     "output_type": "display_data"
    },
    {
     "data": {
      "text/plain": [
       "{'status': 'success',\n",
       " 'content': [{'text': 'Result: -sin(x)'}],\n",
       " 'toolUseId': 'tooluse_calculator_654462446'}"
      ]
     },
     "execution_count": 7,
     "metadata": {},
     "output_type": "execute_result"
    }
   ],
   "source": [
    "# Alternatively, you can invoke the tool directly like so:\n",
    "agent.tool.calculator(expression=\"sin(x)\", mode=\"derive\", wrt=\"x\", order=2)"
   ]
  },
  {
   "cell_type": "markdown",
   "id": "1f6bceed",
   "metadata": {},
   "source": [
    "\n",
    "### 3. Changing the log level and format:\n",
    "\n",
    "Strands SDK uses Python's standard `logging` module to provide visibility into its operations.\n",
    "\n",
    "The Strands Agents SDK implements a straightforward logging approach:\n",
    "\n",
    "1. **Module-level Loggers**: Each module in the SDK creates its own logger using logging.getLogger(__name__), following Python best practices for hierarchical logging.\n",
    "2. **Root Logger**: All loggers in the SDK are children of the \"strands\" root logger, making it easy to configure logging for the entire SDK.\n",
    "3. **Default Behavior**: By default, the SDK doesn't configure any handlers or log levels, allowing you to integrate it with your application's logging configuration.\n",
    "\n",
    "To enable logging for the Strands Agents SDK, you can configure the **\"strands\"** logger. If you want to change the log level, for example during debugging, or modify the log format, you can set the logger configuration as follows:"
   ]
  },
  {
   "cell_type": "code",
   "execution_count": 8,
   "id": "66415155",
   "metadata": {
    "execution": {
     "iopub.execute_input": "2025-07-30T18:53:20.083795Z",
     "iopub.status.busy": "2025-07-30T18:53:20.083487Z",
     "iopub.status.idle": "2025-07-30T18:53:21.264495Z",
     "shell.execute_reply": "2025-07-30T18:53:21.264074Z",
     "shell.execute_reply.started": "2025-07-30T18:53:20.083774Z"
    }
   },
   "outputs": [
    {
     "name": "stderr",
     "output_type": "stream",
     "text": [
      "DEBUG | strands.models.bedrock | config=<{'model_id': 'us.anthropic.claude-3-7-sonnet-20250219-v1:0'}> | initializing\n",
      "DEBUG | strands.models.bedrock | region=<us-east-1> | bedrock client created\n",
      "DEBUG | strands.tools.registry | tools_dir=</Users/linghuang/Git/LLMOps/study-template/amazon-bedrock/aws-agent-workshop/tools> | tools directory not found\n",
      "DEBUG | strands.tools.registry | tool_modules=<[]> | discovered\n",
      "DEBUG | strands.tools.registry | tool_count=<0>, success_count=<0> | finished loading tools\n",
      "DEBUG | strands.tools.registry | getting tool configurations\n",
      "DEBUG | strands.tools.registry | tool_count=<0> | tools configured\n",
      "DEBUG | strands.tools.registry | getting tool configurations\n",
      "DEBUG | strands.tools.registry | tool_count=<0> | tools configured\n",
      "DEBUG | strands.event_loop.streaming | model=<<strands.models.bedrock.BedrockModel object at 0x10e76a950>> | streaming messages\n",
      "DEBUG | strands.models.bedrock | formatting request\n",
      "DEBUG | strands.models.bedrock | request=<{'modelId': 'us.anthropic.claude-3-7-sonnet-20250219-v1:0', 'messages': [{'content': [{'text': 'Hello!'}], 'role': 'user'}], 'system': [], 'inferenceConfig': {}}>\n",
      "DEBUG | strands.models.bedrock | invoking model\n",
      "DEBUG | strands.models.bedrock | got response from model\n"
     ]
    },
    {
     "name": "stdout",
     "output_type": "stream",
     "text": [
      "Hello! How can I assist you today? Feel free to ask me"
     ]
    },
    {
     "name": "stderr",
     "output_type": "stream",
     "text": [
      "DEBUG | strands.models.bedrock | finished streaming response from model\n",
      "DEBUG | strands.agent.conversation_manager.sliding_window_conversation_manager | message_count=<2>, window_size=<40> | skipping context reduction\n"
     ]
    },
    {
     "name": "stdout",
     "output_type": "stream",
     "text": [
      " any questions or let me know what you'd like help with."
     ]
    },
    {
     "data": {
      "text/plain": [
       "AgentResult(stop_reason='end_turn', message={'role': 'assistant', 'content': [{'text': \"Hello! How can I assist you today? Feel free to ask me any questions or let me know what you'd like help with.\"}]}, metrics=EventLoopMetrics(cycle_count=1, tool_metrics={}, cycle_durations=[1.1483869552612305], traces=[<strands.telemetry.metrics.Trace object at 0x10e75d8d0>], accumulated_usage={'inputTokens': 9, 'outputTokens': 30, 'totalTokens': 39}, accumulated_metrics={'latencyMs': 1061}), state={})"
      ]
     },
     "execution_count": 8,
     "metadata": {},
     "output_type": "execute_result"
    }
   ],
   "source": [
    "import logging\n",
    "from strands import Agent\n",
    "\n",
    "# Enables Strands debug log level\n",
    "logging.getLogger(\"strands\").setLevel(logging.DEBUG) # or logging.INFO\n",
    "\n",
    "# Sets the logging format and streams logs to stderr\n",
    "logging.basicConfig(\n",
    "    format=\"%(levelname)s | %(name)s | %(message)s\",\n",
    "    handlers=[logging.StreamHandler()]\n",
    ")\n",
    "\n",
    "agent = Agent(model=\"us.anthropic.claude-3-7-sonnet-20250219-v1:0\")  # Optional: Specify the model ID\n",
    "agent(\"Hello!\")"
   ]
  },
  {
   "cell_type": "markdown",
   "id": "7c5ddfed",
   "metadata": {},
   "source": [
    "\n",
    "### 4. Model Provider\n",
    "\n",
    "The default model provider is [Amazon Bedrock](https://aws.amazon.com/bedrock/) and the default model is Claude 3.7 Sonnet in the region of your current AWS environment\n",
    "\n",
    "You can specify a different model in Amazon Bedrock providing the model ID string directly:"
   ]
  },
  {
   "cell_type": "code",
   "execution_count": 10,
   "id": "207432b2",
   "metadata": {
    "execution": {
     "iopub.execute_input": "2025-07-30T18:53:26.178502Z",
     "iopub.status.busy": "2025-07-30T18:53:26.177934Z",
     "iopub.status.idle": "2025-07-30T18:53:26.235139Z",
     "shell.execute_reply": "2025-07-30T18:53:26.234621Z",
     "shell.execute_reply.started": "2025-07-30T18:53:26.178477Z"
    }
   },
   "outputs": [
    {
     "name": "stderr",
     "output_type": "stream",
     "text": [
      "DEBUG | strands.models.bedrock | config=<{'model_id': 'anthropic.claude-3-5-haiku-20241022-v1:0'}> | initializing\n",
      "DEBUG | strands.models.bedrock | region=<us-east-1> | bedrock client created\n",
      "DEBUG | strands.tools.registry | tools_dir=</Users/linghuang/Git/LLMOps/study-template/amazon-bedrock/aws-agent-workshop/tools> | tools directory not found\n",
      "DEBUG | strands.tools.registry | tool_modules=<[]> | discovered\n",
      "DEBUG | strands.tools.registry | tool_count=<0>, success_count=<0> | finished loading tools\n"
     ]
    },
    {
     "name": "stdout",
     "output_type": "stream",
     "text": [
      "{'model_id': 'anthropic.claude-3-5-haiku-20241022-v1:0'}\n"
     ]
    }
   ],
   "source": [
    "from strands import Agent\n",
    "\n",
    "agent = Agent(model=\"anthropic.claude-3-5-haiku-20241022-v1:0\")\n",
    "print(agent.model.config)"
   ]
  },
  {
   "cell_type": "markdown",
   "id": "88b79bb2",
   "metadata": {},
   "source": [
    "\n",
    "For more control over the model configuration, you can create a `BedrockModel` provider instance:"
   ]
  },
  {
   "cell_type": "code",
   "execution_count": 11,
   "id": "13767dd5",
   "metadata": {
    "execution": {
     "iopub.execute_input": "2025-07-30T18:53:32.862265Z",
     "iopub.status.busy": "2025-07-30T18:53:32.861929Z",
     "iopub.status.idle": "2025-07-30T18:53:32.932431Z",
     "shell.execute_reply": "2025-07-30T18:53:32.931945Z",
     "shell.execute_reply.started": "2025-07-30T18:53:32.862240Z"
    }
   },
   "outputs": [
    {
     "name": "stderr",
     "output_type": "stream",
     "text": [
      "DEBUG | strands.models.bedrock | config=<{'model_id': 'anthropic.claude-3-5-haiku-20241022-v1:0', 'temperature': 0}> | initializing\n",
      "DEBUG | strands.models.bedrock | region=<us-east-1> | bedrock client created\n",
      "DEBUG | strands.tools.registry | tools_dir=</Users/linghuang/Git/LLMOps/study-template/amazon-bedrock/aws-agent-workshop/tools> | tools directory not found\n",
      "DEBUG | strands.tools.registry | tool_modules=<[]> | discovered\n",
      "DEBUG | strands.tools.registry | tool_count=<0>, success_count=<0> | finished loading tools\n"
     ]
    }
   ],
   "source": [
    "import boto3\n",
    "from strands import Agent\n",
    "from strands.models import BedrockModel\n",
    "\n",
    "# Create a BedrockModel\n",
    "bedrock_model = BedrockModel(\n",
    "    model_id=\"anthropic.claude-3-5-haiku-20241022-v1:0\",\n",
    "    region_name='us-east-1',\n",
    "    temperature=0,\n",
    ")\n",
    "\n",
    "agent = Agent(model=bedrock_model)"
   ]
  },
  {
   "cell_type": "markdown",
   "id": "538e5e20",
   "metadata": {},
   "source": [
    "\n",
    "More details on the available model providers on the [Model Provider Quickstart page](https://strandsagents.com/0.1.x/user-guide/quickstart/#model-providers)\n"
   ]
  },
  {
   "cell_type": "markdown",
   "id": "037ba1d7",
   "metadata": {},
   "source": [
    "**Congratulations !! Now you have learned how to build a simple agent using Strands!!**"
   ]
  },
  {
   "cell_type": "markdown",
   "id": "8ad2d9c3",
   "metadata": {},
   "source": [
    "## [Optional] Lets Build a Task-Specific Agent - RecipeBot 🍽️\n",
    "\n",
    "Lets create a practical example of a task-specific agent. We create a `RecipeBot` that recommends recipes and answers any cooking related questions. Lets dive in !!\n",
    "\n",
    "Here's what we will create :"
   ]
  },
  {
   "cell_type": "markdown",
   "id": "bff74b3f",
   "metadata": {},
   "source": [
    "<div style=\"text-align:center\">\n",
    "    <img src=\"images/interactive_recipe_agent.png\" width=\"75%\" />\n",
    "</div>"
   ]
  },
  {
   "cell_type": "code",
   "execution_count": null,
   "id": "c4d5761c",
   "metadata": {},
   "outputs": [],
   "source": [
    "# Install the required packages\n",
    "%pip install ddgs # Also install strands-agents strands-agents-tools if you haven't already"
   ]
  },
  {
   "cell_type": "code",
   "execution_count": null,
   "id": "580312ca",
   "metadata": {},
   "outputs": [],
   "source": [
    "from strands import Agent, tool\n",
    "from ddgs import DDGS\n",
    "from ddgs.exceptions import RatelimitException, DDGSException\n",
    "import logging\n",
    "\n",
    "# Configure logging\n",
    "logging.getLogger(\"strands\").setLevel(logging.INFO)\n",
    "\n",
    "# Define a websearch tool\n",
    "@tool\n",
    "def websearch(keywords: str, region: str = \"us-en\", max_results: int | None = None) -> str:\n",
    "    \"\"\"Search the web to get updated information.\n",
    "    Args:\n",
    "        keywords (str): The search query keywords.\n",
    "        region (str): The search region: wt-wt, us-en, uk-en, ru-ru, etc..\n",
    "        max_results (int | None): The maximum number of results to return.\n",
    "    Returns:\n",
    "        List of dictionaries with search results.\n",
    "    \"\"\"\n",
    "    try:\n",
    "        results = DDGS().text(keywords, region=region, max_results=max_results)\n",
    "        return results if results else \"No results found.\"\n",
    "    except RatelimitException:\n",
    "        return \"RatelimitException: Please try again after a short delay.\"\n",
    "    except DDGSException as d:\n",
    "        return f\"DuckDuckGoSearchException: {d}\"\n",
    "    except Exception as e:\n",
    "        return f\"Exception: {e}\"\n"
   ]
  },
  {
   "cell_type": "code",
   "execution_count": null,
   "id": "0560c754",
   "metadata": {},
   "outputs": [],
   "source": [
    "# Create a recipe assistant agent\n",
    "recipe_agent = Agent(\n",
    "    model=\"us.anthropic.claude-3-7-sonnet-20250219-v1:0\",  # Optional: Specify the model ID\n",
    "    system_prompt=\"\"\"You are RecipeBot, a helpful cooking assistant.\n",
    "    Help users find recipes based on ingredients and answer cooking questions.\n",
    "    Use the websearch tool to find recipes when users mention ingredients or to\n",
    "    look up cooking information.\"\"\",\n",
    "    # Import the websearch tool we created above\n",
    "    tools=[websearch],\n",
    ")"
   ]
  },
  {
   "cell_type": "code",
   "execution_count": null,
   "id": "6a6dafb2",
   "metadata": {},
   "outputs": [],
   "source": [
    "response = recipe_agent(\"Suggest a recipe with chicken and broccoli.\")\n",
    "\n",
    "# Other examples:\n",
    "# response = recipe_agent(\"How do I cook quinoa?\")\n",
    "# response = recipe_agent(\"How can I substitute white wine in shrimp pasta?\")\n",
    "# response = recipe_agent(\"What are the health benefits of asparagus?\")\n",
    "print(response)"
   ]
  },
  {
   "cell_type": "markdown",
   "id": "9f92c8a4",
   "metadata": {},
   "source": [
    "#### And that's it! We now have a running usecase agent with tools in just a few lines of code 🥳.\n",
    "\n",
    "For more detailed quickstart guide, check out the [Strands documentation](https://strandsagents.com/0.1.x/user-guide/quickstart/)."
   ]
  },
  {
   "cell_type": "markdown",
   "id": "0cae9558",
   "metadata": {},
   "source": [
    "### [Optional] Run RecipeBot via CLI: \n",
    "you can run the agent in interactive mode via the command line (for instance using the terminal on SageMaker Studio) through the python script provided in `02_simple_interactive_usecase/recipe_bot.py`. This allows you to interact with the agent in a more dynamic way, sending messages and receiving responses via the CLI.\n",
    "Run these commands on a command line interface to run the agent in interactive mode:\n",
    "\n",
    "```cli\n",
    "cd samples/01-tutorials/01-fundamentals/01-first-agent/02-simple-interactive-usecase/\n",
    "pip install -r requirements.txt\n",
    "python recipe_bot.py\n",
    "```\n",
    "\n",
    "With this, you can talk to the bot via a command line interface(CLI)."
   ]
  }
 ],
 "metadata": {
  "kernelspec": {
   "display_name": "aws-strands",
   "language": "python",
   "name": "python3"
  },
  "language_info": {
   "codemirror_mode": {
    "name": "ipython",
    "version": 3
   },
   "file_extension": ".py",
   "mimetype": "text/x-python",
   "name": "python",
   "nbconvert_exporter": "python",
   "pygments_lexer": "ipython3",
   "version": "3.10.18"
  }
 },
 "nbformat": 4,
 "nbformat_minor": 5
}
