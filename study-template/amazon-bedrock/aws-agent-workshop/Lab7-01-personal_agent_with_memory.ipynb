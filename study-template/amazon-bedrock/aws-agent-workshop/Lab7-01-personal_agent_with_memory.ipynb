{
 "cells": [
  {
   "cell_type": "markdown",
   "id": "8797de2a",
   "metadata": {},
   "source": [
    "# Persisting memory across Strands Agents sessions\n",
    "\n",
    "In this example you will learn how to persist memory across different sessions in your Strands Agents. \n",
    "\n",
    "We will use the use case of an agent that does web search using a `duckduckgo` search API.\n",
    "\n",
    "In this notebook, we will:\n",
    "- Explore the capabilities of a memory-powered Strands agent.\n",
    "- Learn how to store, retrieve, and list memories.\n",
    "- Understand how to perform web searches via the agent.\n",
    "- Interact with the agent in an interactive loop.\n",
    "\n",
    "\n",
    "### Usage Examples\n",
    "\n",
    "Storing memories:\n",
    "```\n",
    "Remember that I prefer tea over coffee\n",
    "```\n",
    "\n",
    "Retrieving memories:\n",
    "```\n",
    "What do I prefer to drink?\n",
    "```\n",
    "\n",
    "Listing all memories:\n",
    "```\n",
    "Show me everything you remember about me\n",
    "```\n",
    "\n",
    "### Tips for Memory Usage\n",
    "\n",
    "- Be explicit when asking the agent to remember information\n",
    "- Use specific queries to retrieve relevant memories\n",
    "- Memory persistence enables more natural and contextual conversations"
   ]
  },
  {
   "cell_type": "markdown",
   "id": "c468364c",
   "metadata": {},
   "source": [
    "## Setup and prerequisites\n",
    "\n",
    "### Prerequisites\n",
    "* Python 3.10+\n",
    "* AWS account and AWS credentials configured in the environment\n",
    "* Anthropic Claude 3.7 enabled on Amazon Bedrock\n",
    "* IAM role with permissions to create Amazon Bedrock Knowledge Base, Amazon S3 bucket and Amazon DynamoDB\n",
    "\n",
    "Let's now install the requirement packages for our Strands Agent"
   ]
  },
  {
   "cell_type": "code",
   "execution_count": 1,
   "id": "ae029383",
   "metadata": {
    "execution": {
     "iopub.execute_input": "2025-07-30T21:12:19.195571Z",
     "iopub.status.busy": "2025-07-30T21:12:19.195246Z",
     "iopub.status.idle": "2025-07-30T21:12:22.197693Z",
     "shell.execute_reply": "2025-07-30T21:12:22.197078Z",
     "shell.execute_reply.started": "2025-07-30T21:12:19.195546Z"
    }
   },
   "outputs": [
    {
     "name": "stdout",
     "output_type": "stream",
     "text": [
      "Requirement already satisfied: strands-agents in /opt/conda/lib/python3.12/site-packages (from -r requirements.txt (line 1)) (1.2.0)\n",
      "Requirement already satisfied: strands-agents-tools in /opt/conda/lib/python3.12/site-packages (from -r requirements.txt (line 2)) (0.2.3)\n",
      "Collecting mem0ai (from -r requirements.txt (line 3))\n",
      "  Downloading mem0ai-0.1.115-py3-none-any.whl.metadata (8.9 kB)\n",
      "Requirement already satisfied: boto3 in /opt/conda/lib/python3.12/site-packages (from -r requirements.txt (line 4)) (1.39.17)\n",
      "Requirement already satisfied: opensearch-py in /opt/conda/lib/python3.12/site-packages (from -r requirements.txt (line 5)) (3.0.0)\n",
      "Collecting ddgs (from -r requirements.txt (line 6))\n",
      "  Downloading ddgs-9.4.3-py3-none-any.whl.metadata (17 kB)\n",
      "Requirement already satisfied: python-dotenv in /opt/conda/lib/python3.12/site-packages (from -r requirements.txt (line 7)) (1.1.1)\n",
      "Requirement already satisfied: botocore<2.0.0,>=1.29.0 in /opt/conda/lib/python3.12/site-packages (from strands-agents->-r requirements.txt (line 1)) (1.39.17)\n",
      "Requirement already satisfied: docstring-parser<1.0,>=0.15 in /opt/conda/lib/python3.12/site-packages (from strands-agents->-r requirements.txt (line 1)) (0.17.0)\n",
      "Requirement already satisfied: mcp<2.0.0,>=1.11.0 in /opt/conda/lib/python3.12/site-packages (from strands-agents->-r requirements.txt (line 1)) (1.12.2)\n",
      "Requirement already satisfied: opentelemetry-api<2.0.0,>=1.30.0 in /opt/conda/lib/python3.12/site-packages (from strands-agents->-r requirements.txt (line 1)) (1.36.0)\n",
      "Requirement already satisfied: opentelemetry-instrumentation-threading<1.00b0,>=0.51b0 in /opt/conda/lib/python3.12/site-packages (from strands-agents->-r requirements.txt (line 1)) (0.57b0)\n",
      "Requirement already satisfied: opentelemetry-sdk<2.0.0,>=1.30.0 in /opt/conda/lib/python3.12/site-packages (from strands-agents->-r requirements.txt (line 1)) (1.36.0)\n",
      "Requirement already satisfied: pydantic<3.0.0,>=2.0.0 in /opt/conda/lib/python3.12/site-packages (from strands-agents->-r requirements.txt (line 1)) (2.11.7)\n",
      "Requirement already satisfied: typing-extensions<5.0.0,>=4.13.2 in /opt/conda/lib/python3.12/site-packages (from strands-agents->-r requirements.txt (line 1)) (4.14.1)\n",
      "Requirement already satisfied: watchdog<7.0.0,>=6.0.0 in /opt/conda/lib/python3.12/site-packages (from strands-agents->-r requirements.txt (line 1)) (6.0.0)\n",
      "Requirement already satisfied: jmespath<2.0.0,>=0.7.1 in /opt/conda/lib/python3.12/site-packages (from boto3->-r requirements.txt (line 4)) (1.0.1)\n",
      "Requirement already satisfied: s3transfer<0.14.0,>=0.13.0 in /opt/conda/lib/python3.12/site-packages (from boto3->-r requirements.txt (line 4)) (0.13.1)\n",
      "Requirement already satisfied: python-dateutil<3.0.0,>=2.1 in /opt/conda/lib/python3.12/site-packages (from botocore<2.0.0,>=1.29.0->strands-agents->-r requirements.txt (line 1)) (2.9.0.post0)\n",
      "Requirement already satisfied: urllib3!=2.2.0,<3,>=1.25.4 in /opt/conda/lib/python3.12/site-packages (from botocore<2.0.0,>=1.29.0->strands-agents->-r requirements.txt (line 1)) (1.26.19)\n",
      "Requirement already satisfied: anyio>=4.5 in /opt/conda/lib/python3.12/site-packages (from mcp<2.0.0,>=1.11.0->strands-agents->-r requirements.txt (line 1)) (4.9.0)\n",
      "Requirement already satisfied: httpx-sse>=0.4 in /opt/conda/lib/python3.12/site-packages (from mcp<2.0.0,>=1.11.0->strands-agents->-r requirements.txt (line 1)) (0.4.1)\n",
      "Requirement already satisfied: httpx>=0.27 in /opt/conda/lib/python3.12/site-packages (from mcp<2.0.0,>=1.11.0->strands-agents->-r requirements.txt (line 1)) (0.28.1)\n",
      "Requirement already satisfied: jsonschema>=4.20.0 in /opt/conda/lib/python3.12/site-packages (from mcp<2.0.0,>=1.11.0->strands-agents->-r requirements.txt (line 1)) (4.23.0)\n",
      "Requirement already satisfied: pydantic-settings>=2.5.2 in /opt/conda/lib/python3.12/site-packages (from mcp<2.0.0,>=1.11.0->strands-agents->-r requirements.txt (line 1)) (2.10.1)\n",
      "Requirement already satisfied: python-multipart>=0.0.9 in /opt/conda/lib/python3.12/site-packages (from mcp<2.0.0,>=1.11.0->strands-agents->-r requirements.txt (line 1)) (0.0.20)\n",
      "Requirement already satisfied: sse-starlette>=1.6.1 in /opt/conda/lib/python3.12/site-packages (from mcp<2.0.0,>=1.11.0->strands-agents->-r requirements.txt (line 1)) (3.0.2)\n",
      "Requirement already satisfied: starlette>=0.27 in /opt/conda/lib/python3.12/site-packages (from mcp<2.0.0,>=1.11.0->strands-agents->-r requirements.txt (line 1)) (0.46.2)\n",
      "Requirement already satisfied: uvicorn>=0.23.1 in /opt/conda/lib/python3.12/site-packages (from mcp<2.0.0,>=1.11.0->strands-agents->-r requirements.txt (line 1)) (0.35.0)\n",
      "Requirement already satisfied: importlib-metadata<8.8.0,>=6.0 in /opt/conda/lib/python3.12/site-packages (from opentelemetry-api<2.0.0,>=1.30.0->strands-agents->-r requirements.txt (line 1)) (6.10.0)\n",
      "Requirement already satisfied: zipp>=0.5 in /opt/conda/lib/python3.12/site-packages (from importlib-metadata<8.8.0,>=6.0->opentelemetry-api<2.0.0,>=1.30.0->strands-agents->-r requirements.txt (line 1)) (3.23.0)\n",
      "Requirement already satisfied: opentelemetry-instrumentation==0.57b0 in /opt/conda/lib/python3.12/site-packages (from opentelemetry-instrumentation-threading<1.00b0,>=0.51b0->strands-agents->-r requirements.txt (line 1)) (0.57b0)\n",
      "Requirement already satisfied: wrapt<2.0.0,>=1.0.0 in /opt/conda/lib/python3.12/site-packages (from opentelemetry-instrumentation-threading<1.00b0,>=0.51b0->strands-agents->-r requirements.txt (line 1)) (1.17.2)\n",
      "Requirement already satisfied: opentelemetry-semantic-conventions==0.57b0 in /opt/conda/lib/python3.12/site-packages (from opentelemetry-instrumentation==0.57b0->opentelemetry-instrumentation-threading<1.00b0,>=0.51b0->strands-agents->-r requirements.txt (line 1)) (0.57b0)\n",
      "Requirement already satisfied: packaging>=18.0 in /opt/conda/lib/python3.12/site-packages (from opentelemetry-instrumentation==0.57b0->opentelemetry-instrumentation-threading<1.00b0,>=0.51b0->strands-agents->-r requirements.txt (line 1)) (24.2)\n",
      "Requirement already satisfied: annotated-types>=0.6.0 in /opt/conda/lib/python3.12/site-packages (from pydantic<3.0.0,>=2.0.0->strands-agents->-r requirements.txt (line 1)) (0.7.0)\n",
      "Requirement already satisfied: pydantic-core==2.33.2 in /opt/conda/lib/python3.12/site-packages (from pydantic<3.0.0,>=2.0.0->strands-agents->-r requirements.txt (line 1)) (2.33.2)\n",
      "Requirement already satisfied: typing-inspection>=0.4.0 in /opt/conda/lib/python3.12/site-packages (from pydantic<3.0.0,>=2.0.0->strands-agents->-r requirements.txt (line 1)) (0.4.1)\n",
      "Requirement already satisfied: six>=1.5 in /opt/conda/lib/python3.12/site-packages (from python-dateutil<3.0.0,>=2.1->botocore<2.0.0,>=1.29.0->strands-agents->-r requirements.txt (line 1)) (1.17.0)\n",
      "Requirement already satisfied: aws-requests-auth<0.5.0,>=0.4.3 in /opt/conda/lib/python3.12/site-packages (from strands-agents-tools->-r requirements.txt (line 2)) (0.4.3)\n",
      "Requirement already satisfied: dill<0.5.0,>=0.4.0 in /opt/conda/lib/python3.12/site-packages (from strands-agents-tools->-r requirements.txt (line 2)) (0.4.0)\n",
      "Requirement already satisfied: markdownify<2.0.0,>=1.0.0 in /opt/conda/lib/python3.12/site-packages (from strands-agents-tools->-r requirements.txt (line 2)) (1.1.0)\n",
      "Requirement already satisfied: pillow<12.0.0,>=11.2.1 in /opt/conda/lib/python3.12/site-packages (from strands-agents-tools->-r requirements.txt (line 2)) (11.3.0)\n",
      "Requirement already satisfied: prompt-toolkit<4.0.0,>=3.0.51 in /opt/conda/lib/python3.12/site-packages (from strands-agents-tools->-r requirements.txt (line 2)) (3.0.51)\n",
      "Requirement already satisfied: pyjwt<3.0.0,>=2.10.1 in /opt/conda/lib/python3.12/site-packages (from strands-agents-tools->-r requirements.txt (line 2)) (2.10.1)\n",
      "Requirement already satisfied: readabilipy<1.0.0,>=0.2.0 in /opt/conda/lib/python3.12/site-packages (from strands-agents-tools->-r requirements.txt (line 2)) (0.3.0)\n",
      "Requirement already satisfied: rich<15.0.0,>=14.0.0 in /opt/conda/lib/python3.12/site-packages (from strands-agents-tools->-r requirements.txt (line 2)) (14.1.0)\n",
      "Requirement already satisfied: slack-bolt<2.0.0,>=1.23.0 in /opt/conda/lib/python3.12/site-packages (from strands-agents-tools->-r requirements.txt (line 2)) (1.23.0)\n",
      "Requirement already satisfied: sympy<2.0.0,>=1.12.0 in /opt/conda/lib/python3.12/site-packages (from strands-agents-tools->-r requirements.txt (line 2)) (1.14.0)\n",
      "Requirement already satisfied: tenacity<10.0.0,>=9.1.2 in /opt/conda/lib/python3.12/site-packages (from strands-agents-tools->-r requirements.txt (line 2)) (9.1.2)\n",
      "Requirement already satisfied: requests>=0.14.0 in /opt/conda/lib/python3.12/site-packages (from aws-requests-auth<0.5.0,>=0.4.3->strands-agents-tools->-r requirements.txt (line 2)) (2.32.4)\n",
      "Requirement already satisfied: beautifulsoup4<5,>=4.9 in /opt/conda/lib/python3.12/site-packages (from markdownify<2.0.0,>=1.0.0->strands-agents-tools->-r requirements.txt (line 2)) (4.13.4)\n",
      "Requirement already satisfied: soupsieve>1.2 in /opt/conda/lib/python3.12/site-packages (from beautifulsoup4<5,>=4.9->markdownify<2.0.0,>=1.0.0->strands-agents-tools->-r requirements.txt (line 2)) (2.7)\n",
      "Requirement already satisfied: wcwidth in /opt/conda/lib/python3.12/site-packages (from prompt-toolkit<4.0.0,>=3.0.51->strands-agents-tools->-r requirements.txt (line 2)) (0.2.13)\n",
      "Requirement already satisfied: html5lib in /opt/conda/lib/python3.12/site-packages (from readabilipy<1.0.0,>=0.2.0->strands-agents-tools->-r requirements.txt (line 2)) (1.1)\n",
      "Requirement already satisfied: lxml in /opt/conda/lib/python3.12/site-packages (from readabilipy<1.0.0,>=0.2.0->strands-agents-tools->-r requirements.txt (line 2)) (5.4.0)\n",
      "Requirement already satisfied: regex in /opt/conda/lib/python3.12/site-packages (from readabilipy<1.0.0,>=0.2.0->strands-agents-tools->-r requirements.txt (line 2)) (2024.11.6)\n",
      "Requirement already satisfied: markdown-it-py>=2.2.0 in /opt/conda/lib/python3.12/site-packages (from rich<15.0.0,>=14.0.0->strands-agents-tools->-r requirements.txt (line 2)) (3.0.0)\n",
      "Requirement already satisfied: pygments<3.0.0,>=2.13.0 in /opt/conda/lib/python3.12/site-packages (from rich<15.0.0,>=14.0.0->strands-agents-tools->-r requirements.txt (line 2)) (2.19.2)\n",
      "Requirement already satisfied: slack_sdk<4,>=3.35.0 in /opt/conda/lib/python3.12/site-packages (from slack-bolt<2.0.0,>=1.23.0->strands-agents-tools->-r requirements.txt (line 2)) (3.36.0)\n",
      "Requirement already satisfied: mpmath<1.4,>=1.1.0 in /opt/conda/lib/python3.12/site-packages (from sympy<2.0.0,>=1.12.0->strands-agents-tools->-r requirements.txt (line 2)) (1.3.0)\n",
      "Requirement already satisfied: openai>=1.33.0 in /opt/conda/lib/python3.12/site-packages (from mem0ai->-r requirements.txt (line 3)) (1.98.0)\n",
      "Collecting posthog>=3.5.0 (from mem0ai->-r requirements.txt (line 3))\n",
      "  Downloading posthog-6.3.1-py3-none-any.whl.metadata (6.0 kB)\n",
      "Requirement already satisfied: pytz>=2024.1 in /opt/conda/lib/python3.12/site-packages (from mem0ai->-r requirements.txt (line 3)) (2024.2)\n",
      "Collecting qdrant-client>=1.9.1 (from mem0ai->-r requirements.txt (line 3))\n",
      "  Downloading qdrant_client-1.15.0-py3-none-any.whl.metadata (11 kB)\n",
      "Requirement already satisfied: sqlalchemy>=2.0.31 in /opt/conda/lib/python3.12/site-packages (from mem0ai->-r requirements.txt (line 3)) (2.0.41)\n",
      "Requirement already satisfied: certifi>=2024.07.04 in /opt/conda/lib/python3.12/site-packages (from opensearch-py->-r requirements.txt (line 5)) (2025.6.15)\n",
      "Requirement already satisfied: Events in /opt/conda/lib/python3.12/site-packages (from opensearch-py->-r requirements.txt (line 5)) (0.5)\n",
      "Requirement already satisfied: charset_normalizer<4,>=2 in /opt/conda/lib/python3.12/site-packages (from requests>=0.14.0->aws-requests-auth<0.5.0,>=0.4.3->strands-agents-tools->-r requirements.txt (line 2)) (3.4.2)\n",
      "Requirement already satisfied: idna<4,>=2.5 in /opt/conda/lib/python3.12/site-packages (from requests>=0.14.0->aws-requests-auth<0.5.0,>=0.4.3->strands-agents-tools->-r requirements.txt (line 2)) (3.10)\n",
      "Requirement already satisfied: click>=8.1.8 in /opt/conda/lib/python3.12/site-packages (from ddgs->-r requirements.txt (line 6)) (8.2.1)\n",
      "Collecting primp>=0.15.0 (from ddgs->-r requirements.txt (line 6))\n",
      "  Downloading primp-0.15.0-cp38-abi3-manylinux_2_17_x86_64.manylinux2014_x86_64.whl.metadata (13 kB)\n",
      "Requirement already satisfied: sniffio>=1.1 in /opt/conda/lib/python3.12/site-packages (from anyio>=4.5->mcp<2.0.0,>=1.11.0->strands-agents->-r requirements.txt (line 1)) (1.3.1)\n",
      "Requirement already satisfied: httpcore==1.* in /opt/conda/lib/python3.12/site-packages (from httpx>=0.27->mcp<2.0.0,>=1.11.0->strands-agents->-r requirements.txt (line 1)) (1.0.9)\n",
      "Requirement already satisfied: h11>=0.16 in /opt/conda/lib/python3.12/site-packages (from httpcore==1.*->httpx>=0.27->mcp<2.0.0,>=1.11.0->strands-agents->-r requirements.txt (line 1)) (0.16.0)\n",
      "Requirement already satisfied: attrs>=22.2.0 in /opt/conda/lib/python3.12/site-packages (from jsonschema>=4.20.0->mcp<2.0.0,>=1.11.0->strands-agents->-r requirements.txt (line 1)) (23.2.0)\n",
      "Requirement already satisfied: jsonschema-specifications>=2023.03.6 in /opt/conda/lib/python3.12/site-packages (from jsonschema>=4.20.0->mcp<2.0.0,>=1.11.0->strands-agents->-r requirements.txt (line 1)) (2025.4.1)\n",
      "Requirement already satisfied: referencing>=0.28.4 in /opt/conda/lib/python3.12/site-packages (from jsonschema>=4.20.0->mcp<2.0.0,>=1.11.0->strands-agents->-r requirements.txt (line 1)) (0.36.2)\n",
      "Requirement already satisfied: rpds-py>=0.7.1 in /opt/conda/lib/python3.12/site-packages (from jsonschema>=4.20.0->mcp<2.0.0,>=1.11.0->strands-agents->-r requirements.txt (line 1)) (0.26.0)\n",
      "Requirement already satisfied: mdurl~=0.1 in /opt/conda/lib/python3.12/site-packages (from markdown-it-py>=2.2.0->rich<15.0.0,>=14.0.0->strands-agents-tools->-r requirements.txt (line 2)) (0.1.2)\n",
      "Requirement already satisfied: distro<2,>=1.7.0 in /opt/conda/lib/python3.12/site-packages (from openai>=1.33.0->mem0ai->-r requirements.txt (line 3)) (1.9.0)\n",
      "Requirement already satisfied: jiter<1,>=0.4.0 in /opt/conda/lib/python3.12/site-packages (from openai>=1.33.0->mem0ai->-r requirements.txt (line 3)) (0.10.0)\n",
      "Requirement already satisfied: tqdm>4 in /opt/conda/lib/python3.12/site-packages (from openai>=1.33.0->mem0ai->-r requirements.txt (line 3)) (4.67.1)\n",
      "Collecting backoff>=1.10.0 (from posthog>=3.5.0->mem0ai->-r requirements.txt (line 3))\n",
      "  Downloading backoff-2.2.1-py3-none-any.whl.metadata (14 kB)\n",
      "Requirement already satisfied: grpcio>=1.41.0 in /opt/conda/lib/python3.12/site-packages (from qdrant-client>=1.9.1->mem0ai->-r requirements.txt (line 3)) (1.67.1)\n",
      "Requirement already satisfied: numpy>=1.26 in /opt/conda/lib/python3.12/site-packages (from qdrant-client>=1.9.1->mem0ai->-r requirements.txt (line 3)) (1.26.4)\n",
      "Collecting portalocker<4.0,>=2.7.0 (from qdrant-client>=1.9.1->mem0ai->-r requirements.txt (line 3))\n",
      "  Downloading portalocker-3.2.0-py3-none-any.whl.metadata (8.7 kB)\n",
      "Requirement already satisfied: protobuf>=3.20.0 in /opt/conda/lib/python3.12/site-packages (from qdrant-client>=1.9.1->mem0ai->-r requirements.txt (line 3)) (5.28.3)\n",
      "Requirement already satisfied: h2<5,>=3 in /opt/conda/lib/python3.12/site-packages (from httpx[http2]>=0.20.0->qdrant-client>=1.9.1->mem0ai->-r requirements.txt (line 3)) (4.2.0)\n",
      "Requirement already satisfied: hyperframe<7,>=6.1 in /opt/conda/lib/python3.12/site-packages (from h2<5,>=3->httpx[http2]>=0.20.0->qdrant-client>=1.9.1->mem0ai->-r requirements.txt (line 3)) (6.1.0)\n",
      "Requirement already satisfied: hpack<5,>=4.1 in /opt/conda/lib/python3.12/site-packages (from h2<5,>=3->httpx[http2]>=0.20.0->qdrant-client>=1.9.1->mem0ai->-r requirements.txt (line 3)) (4.1.0)\n",
      "Requirement already satisfied: greenlet>=1 in /opt/conda/lib/python3.12/site-packages (from sqlalchemy>=2.0.31->mem0ai->-r requirements.txt (line 3)) (3.2.3)\n",
      "Requirement already satisfied: webencodings in /opt/conda/lib/python3.12/site-packages (from html5lib->readabilipy<1.0.0,>=0.2.0->strands-agents-tools->-r requirements.txt (line 2)) (0.5.1)\n",
      "Downloading mem0ai-0.1.115-py3-none-any.whl (178 kB)\n",
      "Downloading ddgs-9.4.3-py3-none-any.whl (34 kB)\n",
      "Downloading posthog-6.3.1-py3-none-any.whl (115 kB)\n",
      "Downloading backoff-2.2.1-py3-none-any.whl (15 kB)\n",
      "Downloading primp-0.15.0-cp38-abi3-manylinux_2_17_x86_64.manylinux2014_x86_64.whl (3.3 MB)\n",
      "\u001b[2K   \u001b[90m━━━━━━━━━━━━━━━━━━━━━━━━━━━━━━━━━━━━━━━━\u001b[0m \u001b[32m3.3/3.3 MB\u001b[0m \u001b[31m92.7 MB/s\u001b[0m eta \u001b[36m0:00:00\u001b[0m\n",
      "\u001b[?25hDownloading qdrant_client-1.15.0-py3-none-any.whl (337 kB)\n",
      "Downloading portalocker-3.2.0-py3-none-any.whl (22 kB)\n",
      "Installing collected packages: primp, portalocker, backoff, posthog, ddgs, qdrant-client, mem0ai\n",
      "\u001b[2K   \u001b[90m━━━━━━━━━━━━━━━━━━━━━━━━━━━━━━━━━━━━━━━━\u001b[0m \u001b[32m7/7\u001b[0m [mem0ai]2m5/7\u001b[0m [qdrant-client]\n",
      "\u001b[1A\u001b[2KSuccessfully installed backoff-2.2.1 ddgs-9.4.3 mem0ai-0.1.115 portalocker-3.2.0 posthog-6.3.1 primp-0.15.0 qdrant-client-1.15.0\n"
     ]
    }
   ],
   "source": [
    "# Install the required packages\n",
    "!pip install -r requirements.txt"
   ]
  },
  {
   "cell_type": "code",
   "execution_count": 2,
   "id": "11c92217",
   "metadata": {
    "execution": {
     "iopub.execute_input": "2025-07-30T21:12:22.199113Z",
     "iopub.status.busy": "2025-07-30T21:12:22.198844Z",
     "iopub.status.idle": "2025-07-30T21:12:23.734864Z",
     "shell.execute_reply": "2025-07-30T21:12:23.734359Z",
     "shell.execute_reply.started": "2025-07-30T21:12:22.199089Z"
    }
   },
   "outputs": [],
   "source": [
    "\n",
    "# Import Required Libraries\n",
    "import os\n",
    "from strands import Agent, tool\n",
    "from strands.models import bedrock\n",
    "from strands_tools import mem0_memory\n",
    "\n",
    "from ddgs import DDGS\n",
    "from ddgs.exceptions import DDGSException, RatelimitException\n",
    "\n",
    "bedrock.DEFAULT_BEDROCK_MODEL_ID = \"us.anthropic.claude-3-7-sonnet-20250219-v1:0\" #Optional: Set a default model for Bedrock"
   ]
  },
  {
   "cell_type": "markdown",
   "id": "265d4267",
   "metadata": {},
   "source": [
    "## Mem0 Configuration\n",
    "\n",
    "### Memory Backend Options\n",
    "\n",
    "The Mem0 Memory Tool supports three different backend configurations:\n",
    "\n",
    "1. **[OpenSearch](https://aws.amazon.com/opensearch-service/features/serverless/)** (Recommended for AWS environments):\n",
    "   - Requires AWS credentials and OpenSearch configuration\n",
    "   - Set `OPENSEARCH_HOST` and optionally `AWS_REGION` (defaults to us-west-2)\n",
    "\n",
    "2. **[FAISS]((https://faiss.ai/index.html))** (Default for local development):\n",
    "   - Uses FAISS as the local vector store backend\n",
    "   - Requires faiss-cpu package for local vector storage\n",
    "   - No additional configuration needed\n",
    "\n",
    "3. **Mem0 Platform**:\n",
    "   - Uses the [Mem0 Platform API](https://docs.mem0.ai/platform/quickstart) for memory management\n",
    "   - Requires a Mem0 API key : `MEM0_API_KEY` in the environment variables\n",
    "\n",
    "\n",
    "### Environment Configuration\n",
    "\n",
    "| Environment Variable | Description | Default | Required For |\n",
    "|---------------------|-------------|----------|--------------|\n",
    "| OPENSEARCH_HOST | OpenSearch Serverless Host URL | None | OpenSearch |\n",
    "| AWS_REGION | AWS Region for OpenSearch | us-west-2 | OpenSearch |\n",
    "| MEM0_API_KEY | Mem0 Platform API key | None | Mem0 Platform |\n",
    "| DEV | Enable development mode | false | All modes |\n",
    "\n",
    "\n",
    "For the scope of this lab, we can use 2 options as a backend for memory management:\n",
    "### Option 1. [Opensearch Serverless](https://aws.amazon.com/opensearch-service/features/serverless/) \n",
    "\n",
    "This will be our setup architecture for AOSS: \n",
    "\n",
    "<div style=\"text-align:left\">\n",
    "    <img src=\"images/arch_AOSS.png\" width=\"65%\" />\n",
    "</div>\n",
    "\n"
   ]
  },
  {
   "cell_type": "code",
   "execution_count": 3,
   "id": "0468a998-ebe9-4277-913f-6ea69de8e6e1",
   "metadata": {
    "execution": {
     "iopub.execute_input": "2025-07-30T21:12:23.735661Z",
     "iopub.status.busy": "2025-07-30T21:12:23.735383Z",
     "iopub.status.idle": "2025-07-30T21:12:23.738282Z",
     "shell.execute_reply": "2025-07-30T21:12:23.737787Z",
     "shell.execute_reply.started": "2025-07-30T21:12:23.735643Z"
    }
   },
   "outputs": [],
   "source": [
    "# You can manually define your Opensearch Host \n",
    "#os.environ[\"OPENSEARCH_HOST\"] = \"<your-opensearch-host>.<region>.aoss.amazonaws.com\""
   ]
  },
  {
   "cell_type": "code",
   "execution_count": 4,
   "id": "1cc2bbe4-0a89-4b15-93f3-4baa9fc804c0",
   "metadata": {
    "execution": {
     "iopub.execute_input": "2025-07-30T21:12:23.739642Z",
     "iopub.status.busy": "2025-07-30T21:12:23.739312Z",
     "iopub.status.idle": "2025-07-30T21:13:00.988861Z",
     "shell.execute_reply": "2025-07-30T21:13:00.988214Z",
     "shell.execute_reply.started": "2025-07-30T21:12:23.739626Z"
    }
   },
   "outputs": [
    {
     "name": "stdout",
     "output_type": "stream",
     "text": [
      "deploying opensearch Serverless ...\n"
     ]
    },
    {
     "name": "stderr",
     "output_type": "stream",
     "text": [
      "/opt/conda/lib/python3.12/pty.py:95: DeprecationWarning: This process (pid=7524) is multi-threaded, use of forkpty() may lead to deadlocks in the child.\n",
      "  pid, fd = os.forkpty()\n"
     ]
    },
    {
     "name": "stdout",
     "output_type": "stream",
     "text": [
      "Configuration loaded: {'opensearch_collection_name': 'memory-store', 'opensearch_description': 'Memory vector store'}\n",
      "Creating OpenSearch Serverless collection: memory-store\n",
      "Waiting for policies to propagate...\n",
      "Creating collection...\n",
      "\n",
      "Collection successfully created:\n",
      "[{'id': '39o4sbp9k495db17xtpl', 'name': 'memory-store', 'status': 'ACTIVE', 'type': 'VECTORSEARCH', 'description': 'Memory vector store', 'arn': 'arn:aws:aoss:us-west-2:577919262841:collection/39o4sbp9k495db17xtpl', 'kmsKeyArn': 'auto', 'standbyReplicas': 'ENABLED', 'createdDate': 1753909950116, 'lastModifiedDate': 1753909973885, 'collectionEndpoint': 'https://39o4sbp9k495db17xtpl.us-west-2.aoss.amazonaws.com', 'dashboardEndpoint': 'https://39o4sbp9k495db17xtpl.us-west-2.aoss.amazonaws.com/_dashboards'}]\n",
      "Environment variables saved to /home/sagemaker-user/samples/01-tutorials/01-fundamentals/07-memory-persistent-agents/.env\n",
      "OpenSearch Serverless collection setup completed!\n",
      "\n",
      "OPENSEARCH_HOST: 39o4sbp9k495db17xtpl.us-west-2.aoss.amazonaws.com\n",
      "OPENSEARCH_COLLECTION_ID: 39o4sbp9k495db17xtpl\n",
      "\n",
      "Environment variables saved to /home/sagemaker-user/samples/01-tutorials/01-fundamentals/07-memory-persistent-agents/.env\n"
     ]
    }
   ],
   "source": [
    "# OR - Run the script to Create Opensearch Serverless resource in your AWS Account\n",
    "!bash prereqs/deploy_OSS.sh"
   ]
  },
  {
   "cell_type": "code",
   "execution_count": 5,
   "id": "075b3163-cd88-4054-969c-0075dfc1dd84",
   "metadata": {
    "execution": {
     "iopub.execute_input": "2025-07-30T21:13:00.990305Z",
     "iopub.status.busy": "2025-07-30T21:13:00.989738Z",
     "iopub.status.idle": "2025-07-30T21:13:01.001309Z",
     "shell.execute_reply": "2025-07-30T21:13:01.000852Z",
     "shell.execute_reply.started": "2025-07-30T21:13:00.990268Z"
    }
   },
   "outputs": [
    {
     "data": {
      "text/plain": [
       "True"
      ]
     },
     "execution_count": 5,
     "metadata": {},
     "output_type": "execute_result"
    }
   ],
   "source": [
    "# Option 1: Opensearch Serverless\n",
    "from dotenv import load_dotenv\n",
    "load_dotenv() # take Opensearch environment variables"
   ]
  },
  {
   "cell_type": "markdown",
   "id": "7dc00d27-4a5b-44fb-9bfc-3b2e906c21f5",
   "metadata": {},
   "source": [
    "\n",
    "### Option 2 [Mem0 Platform](https://docs.mem0.ai/platform):\n",
    "\n",
    "#### [NOTE]: This is not Needed if you have already deployed the Opensearch Serverless option.\n",
    "\n",
    "As an alternative, you can create Mem0 API keys by following the steps [here](https://docs.mem0.ai/platform/quickstart#2-api-key-setup) and add it as an environment variable **MEM0_API_KEY**.\n",
    "This would be the architecture of the setup for Mem0 Platform:\n",
    "\n",
    "<div style=\"text-align:left\">\n",
    "    <img src=\"images/arch_mem0.png\" width=\"65%\" />\n",
    "</div>\n",
    "\n",
    "\n",
    "To enable the agent's functionality, we need to configure environment variables for AWS credentials and OpenSearch / Mem0 Platform. These variables are used for memory storage and retrieval."
   ]
  },
  {
   "cell_type": "code",
   "execution_count": 6,
   "id": "c99dae50-ed8b-4474-b5d6-9cc16981b436",
   "metadata": {
    "execution": {
     "iopub.execute_input": "2025-07-30T21:13:01.002028Z",
     "iopub.status.busy": "2025-07-30T21:13:01.001850Z",
     "iopub.status.idle": "2025-07-30T21:13:01.004418Z",
     "shell.execute_reply": "2025-07-30T21:13:01.003871Z",
     "shell.execute_reply.started": "2025-07-30T21:13:01.002012Z"
    }
   },
   "outputs": [],
   "source": [
    "# Option 2: Mem0 API key\n",
    "\n",
    "#os.environ[\"MEM0_API_KEY\"] = \"<your-mem0-api-key>\""
   ]
  },
  {
   "cell_type": "markdown",
   "id": "5679ce42",
   "metadata": {},
   "source": [
    "## Define System Prompt\n",
    "\n",
    "The `SYSTEM_PROMPT` variable defines the behavior and capabilities of the memory agent. This prompt guides the agent to provide personalized responses based on stored memories and perform web searches when necessary."
   ]
  },
  {
   "cell_type": "code",
   "execution_count": 7,
   "id": "01951bc0",
   "metadata": {
    "execution": {
     "iopub.execute_input": "2025-07-30T21:13:01.005441Z",
     "iopub.status.busy": "2025-07-30T21:13:01.005143Z",
     "iopub.status.idle": "2025-07-30T21:13:01.009305Z",
     "shell.execute_reply": "2025-07-30T21:13:01.008911Z",
     "shell.execute_reply.started": "2025-07-30T21:13:01.005414Z"
    }
   },
   "outputs": [],
   "source": [
    "# Define a focused system prompt for memory operations\n",
    "SYSTEM_PROMPT = \"\"\"You are a helpful personal assistant for a user. Your task is to assist the user by providing personalized responses based on their history. \n",
    "\n",
    "Capabilities:\n",
    "- You can store information using the mem0_memory tool (action=\"store\").\n",
    "- You can retrieve relevant memories using the mem0_memory tool (action=\"retrieve\").\n",
    "- You can use duckduckgo_search to find information on the web.\n",
    "\n",
    "Key Rules:\n",
    "- Be conversational and natural in your responses.\n",
    "- Always retrieve memories before responding to the user and use them to inform your response.\n",
    "- Store any new user information and user preferences in mem0_memory.\n",
    "- Only share relevant information.\n",
    "- Politely indicate when you don't have the information.\n",
    "\"\"\""
   ]
  },
  {
   "cell_type": "markdown",
   "id": "334a7192",
   "metadata": {},
   "source": [
    "## Define Web Search Tool\n",
    "\n",
    "The `websearch` tool using [Duckduckgo Search API](https://github.com/deedy5/duckduckgo_search) function allows the agent to perform web searches. This function handles exceptions and returns search results or appropriate error messages."
   ]
  },
  {
   "cell_type": "code",
   "execution_count": 8,
   "id": "8bbe681b",
   "metadata": {
    "execution": {
     "iopub.execute_input": "2025-07-30T21:13:01.010521Z",
     "iopub.status.busy": "2025-07-30T21:13:01.010010Z",
     "iopub.status.idle": "2025-07-30T21:13:01.022538Z",
     "shell.execute_reply": "2025-07-30T21:13:01.022100Z",
     "shell.execute_reply.started": "2025-07-30T21:13:01.010495Z"
    }
   },
   "outputs": [],
   "source": [
    "@tool\n",
    "def websearch(\n",
    "    keywords: str,\n",
    "    region: str = \"us-en\",\n",
    "    max_results: int | None = None,\n",
    ") -> str:\n",
    "    \"\"\"Search the web to get updated information.\n",
    "    Args:\n",
    "        keywords (str): The search query keywords.\n",
    "        region (str): The search region: wt-wt, us-en, uk-en, ru-ru, etc..\n",
    "        max_results (int | None): The maximum number of results to return.\n",
    "    Returns:\n",
    "        List of dictionaries with search results.\n",
    "    \"\"\"\n",
    "    try:\n",
    "        results = DDGS().text(keywords, region=region, max_results=max_results)\n",
    "        return results if results else \"No results found.\"\n",
    "    except RatelimitException:\n",
    "        return \"RatelimitException: Please try again after a short delay.\"\n",
    "    except DDGSException as d:\n",
    "        return f\"DuckDuckGoSearchException: {d}\"\n",
    "    except Exception as e:\n",
    "        return f\"Exception: {e}\""
   ]
  },
  {
   "cell_type": "markdown",
   "id": "3bd7828a",
   "metadata": {},
   "source": [
    "## Create Memory Agent\n",
    "\n",
    "We will now initialize the memory-focused agent using the defined tools and system prompt. The Strands agent is capable of:\n",
    "1. Storing and retrieving memories based on context. It uses memory to create more personalized and contextual AI interactions.\n",
    "2. Performing web searches using DuckDuckGo to give updated information."
   ]
  },
  {
   "cell_type": "code",
   "execution_count": 9,
   "id": "e860d7f3",
   "metadata": {
    "execution": {
     "iopub.execute_input": "2025-07-30T21:13:01.023547Z",
     "iopub.status.busy": "2025-07-30T21:13:01.023239Z",
     "iopub.status.idle": "2025-07-30T21:13:01.092078Z",
     "shell.execute_reply": "2025-07-30T21:13:01.091574Z",
     "shell.execute_reply.started": "2025-07-30T21:13:01.023522Z"
    }
   },
   "outputs": [],
   "source": [
    "# Create an agent with memory, websearch tool\n",
    "USER_ID = \"new_user\" # Replace with actual user ID\n",
    "\n",
    "memory_agent = Agent(\n",
    "    system_prompt=SYSTEM_PROMPT,\n",
    "    model=\"us.anthropic.claude-3-7-sonnet-20250219-v1:0\",  # Optional: Specify the model ID\n",
    "    tools=[mem0_memory, websearch],\n",
    ")"
   ]
  },
  {
   "cell_type": "markdown",
   "id": "8ea93f03",
   "metadata": {},
   "source": [
    "## Demonstrate Memory Operations\n",
    "\n",
    "The following examples demonstrate how to store, retrieve, and list memories using the memory agent.\n",
    "\n",
    "- **store**: Save important information for later retrieval\n",
    "  - Store user preferences\n",
    "  - Remember important facts\n",
    "  - Maintain conversation context\n",
    "\n",
    "- **retrieve**: Access relevant memories based on queries\n",
    "  - Find previously stored information\n",
    "  - Provide personalized responses based on user history\n",
    "\n",
    "- **list**: View all stored memories\n",
    "  - See what information has been retained\n",
    "  - Audit stored memories"
   ]
  },
  {
   "cell_type": "code",
   "execution_count": 10,
   "id": "825910bf",
   "metadata": {
    "execution": {
     "iopub.execute_input": "2025-07-30T21:13:01.093816Z",
     "iopub.status.busy": "2025-07-30T21:13:01.093409Z",
     "iopub.status.idle": "2025-07-30T21:13:30.004451Z",
     "shell.execute_reply": "2025-07-30T21:13:30.003908Z",
     "shell.execute_reply.started": "2025-07-30T21:13:01.093799Z"
    }
   },
   "outputs": [
    {
     "name": "stderr",
     "output_type": "stream",
     "text": [
      "/opt/conda/lib/python3.12/site-packages/botocore/auth.py:422: DeprecationWarning: datetime.datetime.utcnow() is deprecated and scheduled for removal in a future version. Use timezone-aware objects to represent datetimes in UTC: datetime.datetime.now(datetime.UTC).\n",
      "  datetime_now = datetime.datetime.utcnow()\n",
      "Creating index mem0_memories, it might take 1-2 minutes...\n",
      "Creating index mem0migrations, it might take 1-2 minutes...\n",
      "Error retrieving vector 10985f40-6409-4202-83d1-3a0313f4e5a4: NotFoundError(404, 'index_not_found_exception', 'no such index [mem0migrations]', mem0migrations, index_or_alias)\n"
     ]
    },
    {
     "data": {
      "text/html": [
       "<pre style=\"white-space:pre;overflow-x:auto;line-height:normal;font-family:Menlo,'DejaVu Sans Mono',consolas,'Courier New',monospace\"><span style=\"color: #008000; text-decoration-color: #008000\">╭─────────────────────────────────────────── </span><span style=\"color: #008000; text-decoration-color: #008000; font-weight: bold\">Memory for user new_user</span><span style=\"color: #008000; text-decoration-color: #008000\"> ────────────────────────────────────────────╮</span>\n",
       "<span style=\"color: #008000; text-decoration-color: #008000\">│</span> The user's name is new_user.                                                                                    <span style=\"color: #008000; text-decoration-color: #008000\">│</span>\n",
       "<span style=\"color: #008000; text-decoration-color: #008000\">╰─────────────────────────────────────────────────────────────────────────────────────────────────────────────────╯</span>\n",
       "</pre>\n"
      ],
      "text/plain": [
       "\u001b[32m╭─\u001b[0m\u001b[32m──────────────────────────────────────────\u001b[0m\u001b[32m \u001b[0m\u001b[1;32mMemory for user new_user\u001b[0m\u001b[32m \u001b[0m\u001b[32m───────────────────────────────────────────\u001b[0m\u001b[32m─╮\u001b[0m\n",
       "\u001b[32m│\u001b[0m The user's name is new_user.                                                                                    \u001b[32m│\u001b[0m\n",
       "\u001b[32m╰─────────────────────────────────────────────────────────────────────────────────────────────────────────────────╯\u001b[0m\n"
      ]
     },
     "metadata": {},
     "output_type": "display_data"
    },
    {
     "name": "stderr",
     "output_type": "stream",
     "text": [
      "/opt/conda/lib/python3.12/site-packages/botocore/auth.py:422: DeprecationWarning: datetime.datetime.utcnow() is deprecated and scheduled for removal in a future version. Use timezone-aware objects to represent datetimes in UTC: datetime.datetime.now(datetime.UTC).\n",
      "  datetime_now = datetime.datetime.utcnow()\n"
     ]
    },
    {
     "data": {
      "text/html": [
       "<pre style=\"white-space:pre;overflow-x:auto;line-height:normal;font-family:Menlo,'DejaVu Sans Mono',consolas,'Courier New',monospace\"><span style=\"color: #008000; text-decoration-color: #008000\">╭───────────────────────────────────────────────── </span><span style=\"color: #008000; text-decoration-color: #008000; font-weight: bold\">Memory Stored</span><span style=\"color: #008000; text-decoration-color: #008000\"> ─────────────────────────────────────────────────╮</span>\n",
       "<span style=\"color: #008000; text-decoration-color: #008000\">│</span> <span style=\"font-style: italic\">                          Memory Stored                           </span>                                              <span style=\"color: #008000; text-decoration-color: #008000\">│</span>\n",
       "<span style=\"color: #008000; text-decoration-color: #008000\">│</span> ┏━━━━━━━━━━━┳━━━━━━━━━━━━━━━━━━━━━━━━━━━━━━━━━━━━━━━━━━━━━━━━━━━━┓                                              <span style=\"color: #008000; text-decoration-color: #008000\">│</span>\n",
       "<span style=\"color: #008000; text-decoration-color: #008000\">│</span> ┃<span style=\"color: #800080; text-decoration-color: #800080; font-weight: bold\"> Operation </span>┃<span style=\"color: #800080; text-decoration-color: #800080; font-weight: bold\"> Content                                            </span>┃                                              <span style=\"color: #008000; text-decoration-color: #008000\">│</span>\n",
       "<span style=\"color: #008000; text-decoration-color: #008000\">│</span> ┡━━━━━━━━━━━╇━━━━━━━━━━━━━━━━━━━━━━━━━━━━━━━━━━━━━━━━━━━━━━━━━━━━┩                                              <span style=\"color: #008000; text-decoration-color: #008000\">│</span>\n",
       "<span style=\"color: #008000; text-decoration-color: #008000\">│</span> │<span style=\"color: #008000; text-decoration-color: #008000\"> ADD       </span>│<span style=\"color: #808000; text-decoration-color: #808000\"> Name is new_user                                   </span>│                                              <span style=\"color: #008000; text-decoration-color: #008000\">│</span>\n",
       "<span style=\"color: #008000; text-decoration-color: #008000\">│</span> └───────────┴────────────────────────────────────────────────────┘                                              <span style=\"color: #008000; text-decoration-color: #008000\">│</span>\n",
       "<span style=\"color: #008000; text-decoration-color: #008000\">╰─────────────────────────────────────────────────────────────────────────────────────────────────────────────────╯</span>\n",
       "</pre>\n"
      ],
      "text/plain": [
       "\u001b[32m╭─\u001b[0m\u001b[32m────────────────────────────────────────────────\u001b[0m\u001b[32m \u001b[0m\u001b[1;32mMemory Stored\u001b[0m\u001b[32m \u001b[0m\u001b[32m────────────────────────────────────────────────\u001b[0m\u001b[32m─╮\u001b[0m\n",
       "\u001b[32m│\u001b[0m \u001b[3m                          Memory Stored                           \u001b[0m                                              \u001b[32m│\u001b[0m\n",
       "\u001b[32m│\u001b[0m ┏━━━━━━━━━━━┳━━━━━━━━━━━━━━━━━━━━━━━━━━━━━━━━━━━━━━━━━━━━━━━━━━━━┓                                              \u001b[32m│\u001b[0m\n",
       "\u001b[32m│\u001b[0m ┃\u001b[1;35m \u001b[0m\u001b[1;35mOperation\u001b[0m\u001b[1;35m \u001b[0m┃\u001b[1;35m \u001b[0m\u001b[1;35mContent                                           \u001b[0m\u001b[1;35m \u001b[0m┃                                              \u001b[32m│\u001b[0m\n",
       "\u001b[32m│\u001b[0m ┡━━━━━━━━━━━╇━━━━━━━━━━━━━━━━━━━━━━━━━━━━━━━━━━━━━━━━━━━━━━━━━━━━┩                                              \u001b[32m│\u001b[0m\n",
       "\u001b[32m│\u001b[0m │\u001b[32m \u001b[0m\u001b[32mADD      \u001b[0m\u001b[32m \u001b[0m│\u001b[33m \u001b[0m\u001b[33mName is new_user                                  \u001b[0m\u001b[33m \u001b[0m│                                              \u001b[32m│\u001b[0m\n",
       "\u001b[32m│\u001b[0m └───────────┴────────────────────────────────────────────────────┘                                              \u001b[32m│\u001b[0m\n",
       "\u001b[32m╰─────────────────────────────────────────────────────────────────────────────────────────────────────────────────╯\u001b[0m\n"
      ]
     },
     "metadata": {},
     "output_type": "display_data"
    },
    {
     "data": {
      "text/html": [
       "<pre style=\"white-space:pre;overflow-x:auto;line-height:normal;font-family:Menlo,'DejaVu Sans Mono',consolas,'Courier New',monospace\"><span style=\"color: #008000; text-decoration-color: #008000\">╭─────────────────────────────────────────── </span><span style=\"color: #008000; text-decoration-color: #008000; font-weight: bold\">Memory for user new_user</span><span style=\"color: #008000; text-decoration-color: #008000\"> ────────────────────────────────────────────╮</span>\n",
       "<span style=\"color: #008000; text-decoration-color: #008000\">│</span> I like to drink tea more than coffee.                                                                           <span style=\"color: #008000; text-decoration-color: #008000\">│</span>\n",
       "<span style=\"color: #008000; text-decoration-color: #008000\">╰─────────────────────────────────────────────────────────────────────────────────────────────────────────────────╯</span>\n",
       "</pre>\n"
      ],
      "text/plain": [
       "\u001b[32m╭─\u001b[0m\u001b[32m──────────────────────────────────────────\u001b[0m\u001b[32m \u001b[0m\u001b[1;32mMemory for user new_user\u001b[0m\u001b[32m \u001b[0m\u001b[32m───────────────────────────────────────────\u001b[0m\u001b[32m─╮\u001b[0m\n",
       "\u001b[32m│\u001b[0m I like to drink tea more than coffee.                                                                           \u001b[32m│\u001b[0m\n",
       "\u001b[32m╰─────────────────────────────────────────────────────────────────────────────────────────────────────────────────╯\u001b[0m\n"
      ]
     },
     "metadata": {},
     "output_type": "display_data"
    },
    {
     "data": {
      "text/html": [
       "<pre style=\"white-space:pre;overflow-x:auto;line-height:normal;font-family:Menlo,'DejaVu Sans Mono',consolas,'Courier New',monospace\"><span style=\"color: #008000; text-decoration-color: #008000\">╭───────────────────────────────────────────────── </span><span style=\"color: #008000; text-decoration-color: #008000; font-weight: bold\">Memory Stored</span><span style=\"color: #008000; text-decoration-color: #008000\"> ─────────────────────────────────────────────────╮</span>\n",
       "<span style=\"color: #008000; text-decoration-color: #008000\">│</span> <span style=\"font-style: italic\">                          Memory Stored                           </span>                                              <span style=\"color: #008000; text-decoration-color: #008000\">│</span>\n",
       "<span style=\"color: #008000; text-decoration-color: #008000\">│</span> ┏━━━━━━━━━━━┳━━━━━━━━━━━━━━━━━━━━━━━━━━━━━━━━━━━━━━━━━━━━━━━━━━━━┓                                              <span style=\"color: #008000; text-decoration-color: #008000\">│</span>\n",
       "<span style=\"color: #008000; text-decoration-color: #008000\">│</span> ┃<span style=\"color: #800080; text-decoration-color: #800080; font-weight: bold\"> Operation </span>┃<span style=\"color: #800080; text-decoration-color: #800080; font-weight: bold\"> Content                                            </span>┃                                              <span style=\"color: #008000; text-decoration-color: #008000\">│</span>\n",
       "<span style=\"color: #008000; text-decoration-color: #008000\">│</span> ┡━━━━━━━━━━━╇━━━━━━━━━━━━━━━━━━━━━━━━━━━━━━━━━━━━━━━━━━━━━━━━━━━━┩                                              <span style=\"color: #008000; text-decoration-color: #008000\">│</span>\n",
       "<span style=\"color: #008000; text-decoration-color: #008000\">│</span> │<span style=\"color: #008000; text-decoration-color: #008000\"> ADD       </span>│<span style=\"color: #808000; text-decoration-color: #808000\"> Prefers tea over coffee                            </span>│                                              <span style=\"color: #008000; text-decoration-color: #008000\">│</span>\n",
       "<span style=\"color: #008000; text-decoration-color: #008000\">│</span> └───────────┴────────────────────────────────────────────────────┘                                              <span style=\"color: #008000; text-decoration-color: #008000\">│</span>\n",
       "<span style=\"color: #008000; text-decoration-color: #008000\">╰─────────────────────────────────────────────────────────────────────────────────────────────────────────────────╯</span>\n",
       "</pre>\n"
      ],
      "text/plain": [
       "\u001b[32m╭─\u001b[0m\u001b[32m────────────────────────────────────────────────\u001b[0m\u001b[32m \u001b[0m\u001b[1;32mMemory Stored\u001b[0m\u001b[32m \u001b[0m\u001b[32m────────────────────────────────────────────────\u001b[0m\u001b[32m─╮\u001b[0m\n",
       "\u001b[32m│\u001b[0m \u001b[3m                          Memory Stored                           \u001b[0m                                              \u001b[32m│\u001b[0m\n",
       "\u001b[32m│\u001b[0m ┏━━━━━━━━━━━┳━━━━━━━━━━━━━━━━━━━━━━━━━━━━━━━━━━━━━━━━━━━━━━━━━━━━┓                                              \u001b[32m│\u001b[0m\n",
       "\u001b[32m│\u001b[0m ┃\u001b[1;35m \u001b[0m\u001b[1;35mOperation\u001b[0m\u001b[1;35m \u001b[0m┃\u001b[1;35m \u001b[0m\u001b[1;35mContent                                           \u001b[0m\u001b[1;35m \u001b[0m┃                                              \u001b[32m│\u001b[0m\n",
       "\u001b[32m│\u001b[0m ┡━━━━━━━━━━━╇━━━━━━━━━━━━━━━━━━━━━━━━━━━━━━━━━━━━━━━━━━━━━━━━━━━━┩                                              \u001b[32m│\u001b[0m\n",
       "\u001b[32m│\u001b[0m │\u001b[32m \u001b[0m\u001b[32mADD      \u001b[0m\u001b[32m \u001b[0m│\u001b[33m \u001b[0m\u001b[33mPrefers tea over coffee                           \u001b[0m\u001b[33m \u001b[0m│                                              \u001b[32m│\u001b[0m\n",
       "\u001b[32m│\u001b[0m └───────────┴────────────────────────────────────────────────────┘                                              \u001b[32m│\u001b[0m\n",
       "\u001b[32m╰─────────────────────────────────────────────────────────────────────────────────────────────────────────────────╯\u001b[0m\n"
      ]
     },
     "metadata": {},
     "output_type": "display_data"
    },
    {
     "data": {
      "text/plain": [
       "{'toolUseId': 'tooluse_mem0_memory_550905595',\n",
       " 'status': 'success',\n",
       " 'content': [{'text': '[\\n  {\\n    \"id\": \"dd234404-57bf-4f21-b1df-b8b92cd94c64\",\\n    \"memory\": \"Prefers tea over coffee\",\\n    \"event\": \"ADD\"\\n  }\\n]'}]}"
      ]
     },
     "execution_count": 10,
     "metadata": {},
     "output_type": "execute_result"
    }
   ],
   "source": [
    "# Store initial memories to demonstrate retrieval\n",
    "memory_agent.tool.mem0_memory(\n",
    "    action=\"store\", content=f\"The user's name is {USER_ID}.\", user_id=USER_ID\n",
    ")\n",
    "memory_agent.tool.mem0_memory(\n",
    "    action=\"store\", \n",
    "    content=\"I like to drink tea more than coffee.\", \n",
    "    user_id=USER_ID\n",
    ")"
   ]
  },
  {
   "cell_type": "code",
   "execution_count": 11,
   "id": "f92c7f95",
   "metadata": {
    "execution": {
     "iopub.execute_input": "2025-07-30T21:13:30.005249Z",
     "iopub.status.busy": "2025-07-30T21:13:30.005056Z",
     "iopub.status.idle": "2025-07-30T21:13:30.924304Z",
     "shell.execute_reply": "2025-07-30T21:13:30.923759Z",
     "shell.execute_reply.started": "2025-07-30T21:13:30.005232Z"
    }
   },
   "outputs": [
    {
     "data": {
      "text/html": [
       "<pre style=\"white-space:pre;overflow-x:auto;line-height:normal;font-family:Menlo,'DejaVu Sans Mono',consolas,'Courier New',monospace\"><span style=\"color: #808000; text-decoration-color: #808000\">╭────────────────────────────────────────────────── </span><span style=\"color: #808000; text-decoration-color: #808000; font-weight: bold\">No Matches</span><span style=\"color: #808000; text-decoration-color: #808000\"> ───────────────────────────────────────────────────╮</span>\n",
       "<span style=\"color: #808000; text-decoration-color: #808000\">│</span> No memories found matching the query.                                                                           <span style=\"color: #808000; text-decoration-color: #808000\">│</span>\n",
       "<span style=\"color: #808000; text-decoration-color: #808000\">╰─────────────────────────────────────────────────────────────────────────────────────────────────────────────────╯</span>\n",
       "</pre>\n"
      ],
      "text/plain": [
       "\u001b[33m╭─\u001b[0m\u001b[33m─────────────────────────────────────────────────\u001b[0m\u001b[33m \u001b[0m\u001b[1;33mNo Matches\u001b[0m\u001b[33m \u001b[0m\u001b[33m──────────────────────────────────────────────────\u001b[0m\u001b[33m─╮\u001b[0m\n",
       "\u001b[33m│\u001b[0m No memories found matching the query.                                                                           \u001b[33m│\u001b[0m\n",
       "\u001b[33m╰─────────────────────────────────────────────────────────────────────────────────────────────────────────────────╯\u001b[0m\n"
      ]
     },
     "metadata": {},
     "output_type": "display_data"
    },
    {
     "name": "stdout",
     "output_type": "stream",
     "text": [
      "Retrieved Memories: {'toolUseId': 'tooluse_mem0_memory_905174049', 'status': 'success', 'content': [{'text': '[]'}]}\n"
     ]
    }
   ],
   "source": [
    "# Retrieve memories\n",
    "retrieved_memories = memory_agent.tool.mem0_memory(\n",
    "    action=\"retrieve\", query=\"What is the user's name?\", user_id=USER_ID\n",
    ")\n",
    "print(\"Retrieved Memories:\", retrieved_memories)"
   ]
  },
  {
   "cell_type": "code",
   "execution_count": 12,
   "id": "c7047852",
   "metadata": {
    "execution": {
     "iopub.execute_input": "2025-07-30T21:13:30.925153Z",
     "iopub.status.busy": "2025-07-30T21:13:30.924906Z",
     "iopub.status.idle": "2025-07-30T21:13:31.664736Z",
     "shell.execute_reply": "2025-07-30T21:13:31.664243Z",
     "shell.execute_reply.started": "2025-07-30T21:13:30.925134Z"
    }
   },
   "outputs": [
    {
     "data": {
      "text/html": [
       "<pre style=\"white-space:pre;overflow-x:auto;line-height:normal;font-family:Menlo,'DejaVu Sans Mono',consolas,'Courier New',monospace\"><span style=\"color: #808000; text-decoration-color: #808000\">╭────────────────────────────────────────────────── </span><span style=\"color: #808000; text-decoration-color: #808000; font-weight: bold\">No Matches</span><span style=\"color: #808000; text-decoration-color: #808000\"> ───────────────────────────────────────────────────╮</span>\n",
       "<span style=\"color: #808000; text-decoration-color: #808000\">│</span> No memories found matching the query.                                                                           <span style=\"color: #808000; text-decoration-color: #808000\">│</span>\n",
       "<span style=\"color: #808000; text-decoration-color: #808000\">╰─────────────────────────────────────────────────────────────────────────────────────────────────────────────────╯</span>\n",
       "</pre>\n"
      ],
      "text/plain": [
       "\u001b[33m╭─\u001b[0m\u001b[33m─────────────────────────────────────────────────\u001b[0m\u001b[33m \u001b[0m\u001b[1;33mNo Matches\u001b[0m\u001b[33m \u001b[0m\u001b[33m──────────────────────────────────────────────────\u001b[0m\u001b[33m─╮\u001b[0m\n",
       "\u001b[33m│\u001b[0m No memories found matching the query.                                                                           \u001b[33m│\u001b[0m\n",
       "\u001b[33m╰─────────────────────────────────────────────────────────────────────────────────────────────────────────────────╯\u001b[0m\n"
      ]
     },
     "metadata": {},
     "output_type": "display_data"
    },
    {
     "data": {
      "text/plain": [
       "{'toolUseId': 'tooluse_mem0_memory_994113215',\n",
       " 'status': 'success',\n",
       " 'content': [{'text': '[]'}]}"
      ]
     },
     "execution_count": 12,
     "metadata": {},
     "output_type": "execute_result"
    }
   ],
   "source": [
    "# Retrieve memories about preferences\n",
    "memory_agent.tool.mem0_memory(\n",
    "    action=\"retrieve\",\n",
    "    query=\"What are the my drink preferences?\",\n",
    "    user_id=USER_ID\n",
    ")"
   ]
  },
  {
   "cell_type": "code",
   "execution_count": 13,
   "id": "26c5dc92",
   "metadata": {
    "execution": {
     "iopub.execute_input": "2025-07-30T21:13:31.665734Z",
     "iopub.status.busy": "2025-07-30T21:13:31.665404Z",
     "iopub.status.idle": "2025-07-30T21:13:53.916551Z",
     "shell.execute_reply": "2025-07-30T21:13:53.915980Z",
     "shell.execute_reply.started": "2025-07-30T21:13:31.665706Z"
    }
   },
   "outputs": [
    {
     "name": "stdout",
     "output_type": "stream",
     "text": [
      "I'll search for events happening in New York today for you.\n",
      "Tool #1: mem0_memory\n"
     ]
    },
    {
     "data": {
      "text/html": [
       "<pre style=\"white-space:pre;overflow-x:auto;line-height:normal;font-family:Menlo,'DejaVu Sans Mono',consolas,'Courier New',monospace\"><span style=\"color: #808000; text-decoration-color: #808000\">╭────────────────────────────────────────────────── </span><span style=\"color: #808000; text-decoration-color: #808000; font-weight: bold\">No Matches</span><span style=\"color: #808000; text-decoration-color: #808000\"> ───────────────────────────────────────────────────╮</span>\n",
       "<span style=\"color: #808000; text-decoration-color: #808000\">│</span> No memories found matching the query.                                                                           <span style=\"color: #808000; text-decoration-color: #808000\">│</span>\n",
       "<span style=\"color: #808000; text-decoration-color: #808000\">╰─────────────────────────────────────────────────────────────────────────────────────────────────────────────────╯</span>\n",
       "</pre>\n"
      ],
      "text/plain": [
       "\u001b[33m╭─\u001b[0m\u001b[33m─────────────────────────────────────────────────\u001b[0m\u001b[33m \u001b[0m\u001b[1;33mNo Matches\u001b[0m\u001b[33m \u001b[0m\u001b[33m──────────────────────────────────────────────────\u001b[0m\u001b[33m─╮\u001b[0m\n",
       "\u001b[33m│\u001b[0m No memories found matching the query.                                                                           \u001b[33m│\u001b[0m\n",
       "\u001b[33m╰─────────────────────────────────────────────────────────────────────────────────────────────────────────────────╯\u001b[0m\n"
      ]
     },
     "metadata": {},
     "output_type": "display_data"
    },
    {
     "name": "stdout",
     "output_type": "stream",
     "text": [
      "\n",
      "Tool #2: websearch\n",
      "\n",
      "Tool #3: mem0_memory\n"
     ]
    },
    {
     "data": {
      "text/html": [
       "<pre style=\"white-space:pre;overflow-x:auto;line-height:normal;font-family:Menlo,'DejaVu Sans Mono',consolas,'Courier New',monospace\"><span style=\"color: #008000; text-decoration-color: #008000\">╭─────────────────────────────────────────── </span><span style=\"color: #008000; text-decoration-color: #008000; font-weight: bold\">Memory for user new_user</span><span style=\"color: #008000; text-decoration-color: #008000\"> ────────────────────────────────────────────╮</span>\n",
       "<span style=\"color: #008000; text-decoration-color: #008000\">│</span> The user asked about events happening in New York today, showing interest in New York activities.               <span style=\"color: #008000; text-decoration-color: #008000\">│</span>\n",
       "<span style=\"color: #008000; text-decoration-color: #008000\">╰─────────────────────────────────────────────────────────────────────────────────────────────────────────────────╯</span>\n",
       "</pre>\n"
      ],
      "text/plain": [
       "\u001b[32m╭─\u001b[0m\u001b[32m──────────────────────────────────────────\u001b[0m\u001b[32m \u001b[0m\u001b[1;32mMemory for user new_user\u001b[0m\u001b[32m \u001b[0m\u001b[32m───────────────────────────────────────────\u001b[0m\u001b[32m─╮\u001b[0m\n",
       "\u001b[32m│\u001b[0m The user asked about events happening in New York today, showing interest in New York activities.               \u001b[32m│\u001b[0m\n",
       "\u001b[32m╰─────────────────────────────────────────────────────────────────────────────────────────────────────────────────╯\u001b[0m\n"
      ]
     },
     "metadata": {},
     "output_type": "display_data"
    },
    {
     "data": {
      "text/html": [
       "<pre style=\"white-space:pre;overflow-x:auto;line-height:normal;font-family:Menlo,'DejaVu Sans Mono',consolas,'Courier New',monospace\"><span style=\"color: #008000; text-decoration-color: #008000\">╭───────────────────────────────────────────────── </span><span style=\"color: #008000; text-decoration-color: #008000; font-weight: bold\">Memory Stored</span><span style=\"color: #008000; text-decoration-color: #008000\"> ─────────────────────────────────────────────────╮</span>\n",
       "<span style=\"color: #008000; text-decoration-color: #008000\">│</span> <span style=\"font-style: italic\">                          Memory Stored                           </span>                                              <span style=\"color: #008000; text-decoration-color: #008000\">│</span>\n",
       "<span style=\"color: #008000; text-decoration-color: #008000\">│</span> ┏━━━━━━━━━━━┳━━━━━━━━━━━━━━━━━━━━━━━━━━━━━━━━━━━━━━━━━━━━━━━━━━━━┓                                              <span style=\"color: #008000; text-decoration-color: #008000\">│</span>\n",
       "<span style=\"color: #008000; text-decoration-color: #008000\">│</span> ┃<span style=\"color: #800080; text-decoration-color: #800080; font-weight: bold\"> Operation </span>┃<span style=\"color: #800080; text-decoration-color: #800080; font-weight: bold\"> Content                                            </span>┃                                              <span style=\"color: #008000; text-decoration-color: #008000\">│</span>\n",
       "<span style=\"color: #008000; text-decoration-color: #008000\">│</span> ┡━━━━━━━━━━━╇━━━━━━━━━━━━━━━━━━━━━━━━━━━━━━━━━━━━━━━━━━━━━━━━━━━━┩                                              <span style=\"color: #008000; text-decoration-color: #008000\">│</span>\n",
       "<span style=\"color: #008000; text-decoration-color: #008000\">│</span> │<span style=\"color: #008000; text-decoration-color: #008000\"> ADD       </span>│<span style=\"color: #808000; text-decoration-color: #808000\"> Interested in events happening in New York today   </span>│                                              <span style=\"color: #008000; text-decoration-color: #008000\">│</span>\n",
       "<span style=\"color: #008000; text-decoration-color: #008000\">│</span> └───────────┴────────────────────────────────────────────────────┘                                              <span style=\"color: #008000; text-decoration-color: #008000\">│</span>\n",
       "<span style=\"color: #008000; text-decoration-color: #008000\">╰─────────────────────────────────────────────────────────────────────────────────────────────────────────────────╯</span>\n",
       "</pre>\n"
      ],
      "text/plain": [
       "\u001b[32m╭─\u001b[0m\u001b[32m────────────────────────────────────────────────\u001b[0m\u001b[32m \u001b[0m\u001b[1;32mMemory Stored\u001b[0m\u001b[32m \u001b[0m\u001b[32m────────────────────────────────────────────────\u001b[0m\u001b[32m─╮\u001b[0m\n",
       "\u001b[32m│\u001b[0m \u001b[3m                          Memory Stored                           \u001b[0m                                              \u001b[32m│\u001b[0m\n",
       "\u001b[32m│\u001b[0m ┏━━━━━━━━━━━┳━━━━━━━━━━━━━━━━━━━━━━━━━━━━━━━━━━━━━━━━━━━━━━━━━━━━┓                                              \u001b[32m│\u001b[0m\n",
       "\u001b[32m│\u001b[0m ┃\u001b[1;35m \u001b[0m\u001b[1;35mOperation\u001b[0m\u001b[1;35m \u001b[0m┃\u001b[1;35m \u001b[0m\u001b[1;35mContent                                           \u001b[0m\u001b[1;35m \u001b[0m┃                                              \u001b[32m│\u001b[0m\n",
       "\u001b[32m│\u001b[0m ┡━━━━━━━━━━━╇━━━━━━━━━━━━━━━━━━━━━━━━━━━━━━━━━━━━━━━━━━━━━━━━━━━━┩                                              \u001b[32m│\u001b[0m\n",
       "\u001b[32m│\u001b[0m │\u001b[32m \u001b[0m\u001b[32mADD      \u001b[0m\u001b[32m \u001b[0m│\u001b[33m \u001b[0m\u001b[33mInterested in events happening in New York today  \u001b[0m\u001b[33m \u001b[0m│                                              \u001b[32m│\u001b[0m\n",
       "\u001b[32m│\u001b[0m └───────────┴────────────────────────────────────────────────────┘                                              \u001b[32m│\u001b[0m\n",
       "\u001b[32m╰─────────────────────────────────────────────────────────────────────────────────────────────────────────────────╯\u001b[0m\n"
      ]
     },
     "metadata": {},
     "output_type": "display_data"
    },
    {
     "name": "stdout",
     "output_type": "stream",
     "text": [
      "Based on my search, here are some events happening in New York today:\n",
      "\n",
      "1. There are various free events, concerts, and art exhibitions throughout NYC today. Time Out New York mentions \"kick-ass fun, live shows, art around the city and more.\"\n",
      "\n",
      "2. Eventbrite has a full listing of various activities and events happening today in New York City that you can browse by interest.\n",
      "\n",
      "3. New York City has several entertainment options today including star-studded concerts, Broadway shows, family shows, comedy performances, ballet, and opera performances.\n",
      "\n",
      "4. Sports fans can find sporting events today, as NYC is home to hockey, basketball, and baseball teams.\n",
      "\n",
      "5. Fever app is also promoting various experiences in New York today including concerts, exhibitions, museum events, and restaurant experiences.\n",
      "\n",
      "For more specific recommendations or to narrow down by your interests (such as music, art, sports, etc.), I'd be happy to do a more targeted search. Would you like more details about any particular type of event?Based on my search, here are some events happening in New York today:\n",
      "\n",
      "1. There are various free events, concerts, and art exhibitions throughout NYC today. Time Out New York mentions \"kick-ass fun, live shows, art around the city and more.\"\n",
      "\n",
      "2. Eventbrite has a full listing of various activities and events happening today in New York City that you can browse by interest.\n",
      "\n",
      "3. New York City has several entertainment options today including star-studded concerts, Broadway shows, family shows, comedy performances, ballet, and opera performances.\n",
      "\n",
      "4. Sports fans can find sporting events today, as NYC is home to hockey, basketball, and baseball teams.\n",
      "\n",
      "5. Fever app is also promoting various experiences in New York today including concerts, exhibitions, museum events, and restaurant experiences.\n",
      "\n",
      "For more specific recommendations or to narrow down by your interests (such as music, art, sports, etc.), I'd be happy to do a more targeted search. Would you like more details about any particular type of event?\n",
      "\n"
     ]
    }
   ],
   "source": [
    "# Ask the agent a question\n",
    "response = memory_agent(\"What are the events happening in the New York today?\")\n",
    "print(response)"
   ]
  },
  {
   "cell_type": "code",
   "execution_count": 14,
   "id": "790d8d37",
   "metadata": {
    "execution": {
     "iopub.execute_input": "2025-07-30T21:13:53.917780Z",
     "iopub.status.busy": "2025-07-30T21:13:53.917236Z",
     "iopub.status.idle": "2025-07-30T21:13:54.715582Z",
     "shell.execute_reply": "2025-07-30T21:13:54.715084Z",
     "shell.execute_reply.started": "2025-07-30T21:13:53.917749Z"
    }
   },
   "outputs": [
    {
     "name": "stdout",
     "output_type": "stream",
     "text": [
      "All Stored Memories:\n"
     ]
    },
    {
     "data": {
      "text/html": [
       "<pre style=\"white-space:pre;overflow-x:auto;line-height:normal;font-family:Menlo,'DejaVu Sans Mono',consolas,'Courier New',monospace\"><span style=\"color: #808000; text-decoration-color: #808000\">╭────────────────────────────────────────────────── </span><span style=\"color: #808000; text-decoration-color: #808000; font-weight: bold\">No Memories</span><span style=\"color: #808000; text-decoration-color: #808000\"> ──────────────────────────────────────────────────╮</span>\n",
       "<span style=\"color: #808000; text-decoration-color: #808000\">│</span> No memories found.                                                                                              <span style=\"color: #808000; text-decoration-color: #808000\">│</span>\n",
       "<span style=\"color: #808000; text-decoration-color: #808000\">╰─────────────────────────────────────────────────────────────────────────────────────────────────────────────────╯</span>\n",
       "</pre>\n"
      ],
      "text/plain": [
       "\u001b[33m╭─\u001b[0m\u001b[33m─────────────────────────────────────────────────\u001b[0m\u001b[33m \u001b[0m\u001b[1;33mNo Memories\u001b[0m\u001b[33m \u001b[0m\u001b[33m─────────────────────────────────────────────────\u001b[0m\u001b[33m─╮\u001b[0m\n",
       "\u001b[33m│\u001b[0m No memories found.                                                                                              \u001b[33m│\u001b[0m\n",
       "\u001b[33m╰─────────────────────────────────────────────────────────────────────────────────────────────────────────────────╯\u001b[0m\n"
      ]
     },
     "metadata": {},
     "output_type": "display_data"
    }
   ],
   "source": [
    "\n",
    "# List all stored memories\n",
    "print(\"All Stored Memories:\")\n",
    "all_memories = memory_agent.tool.mem0_memory(\n",
    "    action=\"list\", user_id=USER_ID\n",
    ")"
   ]
  },
  {
   "cell_type": "markdown",
   "id": "f5c72c91",
   "metadata": {},
   "source": [
    "## Interactive Agent Usage\n",
    "\n",
    "Finally, we provide an interactive loop for users to interact with the memory agent. Users can store new memories, retrieve existing ones, or list all stored memories.\n",
    "\n",
    "To test interactive usage: \n",
    "1. Install the requirements: `pip install -r requirements.txt`\n",
    "1. Run the python file `personal_agent_with_memory.py`. "
   ]
  },
  {
   "cell_type": "markdown",
   "id": "856ea59c",
   "metadata": {},
   "source": [
    "## Conclusion\n",
    "\n",
    "This notebook demonstrates how to create a personal agent with memory capabilities using the Strands framework. The agent can:\n",
    "\n",
    "1. Store information about the user\n",
    "2. Retrieve relevant memories based on context\n",
    "3. Search the web for additional information\n",
    "4. Provide personalized responses\n",
    "\n",
    "By combining these capabilities, the agent can maintain context across conversations and provide more personalized assistance over time."
   ]
  },
  {
   "cell_type": "markdown",
   "id": "be6fd03a-26cc-4190-bb09-872c6767f972",
   "metadata": {},
   "source": [
    "### Cleanup\n",
    "\n",
    "Run this bash script to clean up the Opensearch Serverless resources. You don't need to run this if you used the \"MEM0_PLATFORM_API\"."
   ]
  },
  {
   "cell_type": "code",
   "execution_count": 15,
   "id": "b6113d4f-45d2-46a5-9853-335b26da0a43",
   "metadata": {
    "execution": {
     "iopub.execute_input": "2025-07-30T21:13:54.716639Z",
     "iopub.status.busy": "2025-07-30T21:13:54.716192Z",
     "iopub.status.idle": "2025-07-30T21:14:06.845597Z",
     "shell.execute_reply": "2025-07-30T21:14:06.844915Z",
     "shell.execute_reply.started": "2025-07-30T21:13:54.716614Z"
    }
   },
   "outputs": [
    {
     "name": "stdout",
     "output_type": "stream",
     "text": [
      "Removing Opensearch Serverless resources ...\n"
     ]
    },
    {
     "name": "stderr",
     "output_type": "stream",
     "text": [
      "/opt/conda/lib/python3.12/pty.py:95: DeprecationWarning: This process (pid=7524) is multi-threaded, use of forkpty() may lead to deadlocks in the child.\n",
      "  pid, fd = os.forkpty()\n"
     ]
    },
    {
     "name": "stdout",
     "output_type": "stream",
     "text": [
      "Configuration loaded: {'opensearch_collection_name': 'memory-store', 'opensearch_description': 'Memory vector store'}\n",
      "Deleting OpenSearch Serverless collection: memory-store\n",
      "Found collection ID: 39o4sbp9k495db17xtpl\n",
      "Collection memory-store deleted successfully!\n",
      "Waiting for collection deletion to complete...\n",
      "Access policy memory-store-ap-1753909944 deleted successfully!\n",
      "Network policy memory-store-np-1753909944 deleted successfully!\n",
      "Encryption policy memory-store-sp-1753909944 deleted successfully!\n",
      "OpenSearch Serverless resources cleanup completed!\n",
      "Deleted SSM parameter: memory-store-hostname\n",
      "Deleted SSM parameter: memory-store-id\n",
      "Deleted SSM parameter: memory-store-arn\n",
      "Deleted SSM parameter: memory-store-name\n",
      "Deleted SSM parameter: memory-store-encryption_policy\n",
      "Deleted SSM parameter: memory-store-network_policy\n",
      "Deleted SSM parameter: memory-store-access_policy\n",
      "Removed .env file: /home/sagemaker-user/samples/01-tutorials/01-fundamentals/07-memory-persistent-agents/.env\n"
     ]
    }
   ],
   "source": [
    "!sh prereqs/cleanup_OSS.sh"
   ]
  },
  {
   "cell_type": "code",
   "execution_count": null,
   "id": "5aed3796-0728-4436-a2e8-ad2b1b09277e",
   "metadata": {},
   "outputs": [],
   "source": []
  },
  {
   "cell_type": "code",
   "execution_count": null,
   "id": "22d749b8-1571-457a-9b84-296b7d119801",
   "metadata": {},
   "outputs": [],
   "source": []
  }
 ],
 "metadata": {
  "kernelspec": {
   "display_name": "Python 3 (ipykernel)",
   "language": "python",
   "name": "python3"
  },
  "language_info": {
   "codemirror_mode": {
    "name": "ipython",
    "version": 3
   },
   "file_extension": ".py",
   "mimetype": "text/x-python",
   "name": "python",
   "nbconvert_exporter": "python",
   "pygments_lexer": "ipython3",
   "version": "3.12.9"
  }
 },
 "nbformat": 4,
 "nbformat_minor": 5
}
